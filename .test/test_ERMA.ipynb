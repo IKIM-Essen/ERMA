{
 "cells": [
  {
   "cell_type": "code",
   "execution_count": 19,
   "metadata": {},
   "outputs": [
    {
     "name": "stdout",
     "output_type": "stream",
     "text": [
      "\u001b[33mMultiple includes of /local/work/adrian/ERMA/workflow/rules/qc.smk ignored\u001b[0m\n",
      "Run: test with detected sequence technology: ONT\n",
      "Detected samples: ['test_epic_data']\n",
      "\u001b[33mBuilding DAG of jobs...\u001b[0m\n",
      "\u001b[33mUsing shell: /usr/bin/bash\u001b[0m\n",
      "\u001b[33mProvided cores: 64\u001b[0m\n",
      "\u001b[33mRules claiming more threads will be scaled down.\u001b[0m\n",
      "\u001b[33mJob stats:\n",
      "job                                 count    min threads    max threads\n",
      "--------------------------------  -------  -------------  -------------\n",
      "abundance_bubble_plot                   1             32             32\n",
      "all                                     1              1              1\n",
      "blast_card                              2             32             32\n",
      "convert_fastq_to_fasta                  1              1              1\n",
      "decompress_fastq                        1              1              1\n",
      "fastqc                                  1              8              8\n",
      "filter_blast_results                    2             32             32\n",
      "genera_abundance_table                  1             32             32\n",
      "generate_genus_distribution_plot        1             32             32\n",
      "generate_percidt_genus                  1              1              1\n",
      "gzip_blast_results                      2              1              1\n",
      "integrate_blast_data                    2             32             32\n",
      "multiqc_report                          1              1              1\n",
      "plot_alignment_length_boxplot           1              1              1\n",
      "plot_evalue_boxplot                     1              1              1\n",
      "plot_percentage_identity_boxplot        1              1              1\n",
      "snakemake_report                        1              1              1\n",
      "split_fasta_file                        2              1              1\n",
      "usearch_silva                           2             32             32\n",
      "total                                  25              1             32\n",
      "\u001b[0m\n",
      "\u001b[33mSelect jobs to execute...\u001b[0m\n",
      "\u001b[32m\u001b[0m\n",
      "\u001b[32m[Fri Jan  3 15:11:29 2025]\u001b[0m\n",
      "\u001b[32mrule decompress_fastq:\n",
      "    input: /local/work/adrian/ERMA/data/fastq/test_epic_data.fastq.gz\n",
      "    output: /local/work/adrian/ERMA/data/fastq/test_epic_data.fastq\n",
      "    log: /local/work/adrian/ERMA/logs/decompress_fastq/test_epic_data.log\n",
      "    jobid: 9\n",
      "    reason: Updated input files: /local/work/adrian/ERMA/data/fastq/test_epic_data.fastq.gz\n",
      "    wildcards: base_dir=/local/work/adrian/ERMA, sample=test_epic_data\n",
      "    resources: tmpdir=/local/tmp\u001b[0m\n",
      "\u001b[32m\u001b[0m\n",
      "\u001b[32m\u001b[0m\n",
      "\u001b[32m[Fri Jan  3 15:11:29 2025]\u001b[0m\n",
      "\u001b[32mrule fastqc:\n",
      "    input: /local/work/adrian/ERMA/data/fastq/test_epic_data.fastq.gz\n",
      "    output: /local/work/adrian/ERMA/results/fastqc/test_epic_data.html, /local/work/adrian/ERMA/results/fastqc/test_epic_data_fastqc.zip\n",
      "    log: /local/work/adrian/ERMA/logs/input/test_epic_data.log\n",
      "    jobid: 30\n",
      "    reason: Missing output files: /local/work/adrian/ERMA/results/fastqc/test_epic_data_fastqc.zip\n",
      "    wildcards: base_dir=/local/work/adrian/ERMA, sample=test_epic_data\n",
      "    threads: 8\n",
      "    resources: tmpdir=/local/tmp\u001b[0m\n",
      "\u001b[32m\u001b[0m\n",
      "\u001b[32m[Fri Jan  3 15:11:29 2025]\u001b[0m\n",
      "\u001b[32mFinished job 9.\u001b[0m\n",
      "\u001b[32m1 of 25 steps (4%) done\u001b[0m\n",
      "\u001b[33mSelect jobs to execute...\u001b[0m\n",
      "\u001b[32m\u001b[0m\n",
      "\u001b[32m[Fri Jan  3 15:11:29 2025]\u001b[0m\n",
      "\u001b[32mrule convert_fastq_to_fasta:\n",
      "    input: /local/work/adrian/ERMA/data/fastq/test_epic_data.fastq\n",
      "    output: /local/work/adrian/ERMA/data/fastq/temp/test_epic_data.fasta\n",
      "    log: /local/work/adrian/ERMA/logs/convert_fastq_to_fasta/test_epic_data.log\n",
      "    jobid: 8\n",
      "    reason: Input files updated by another job: /local/work/adrian/ERMA/data/fastq/test_epic_data.fastq\n",
      "    wildcards: base_dir=/local/work/adrian/ERMA, sample=test_epic_data\n",
      "    resources: tmpdir=/local/tmp\u001b[0m\n",
      "\u001b[32m\u001b[0m\n",
      "\u001b[33mActivating conda environment: .snakemake/conda/17b4606ebaa57cbe04785f036e31d8f1_\u001b[0m\n",
      "\u001b[32m[Fri Jan  3 15:11:29 2025]\u001b[0m\n",
      "\u001b[32mFinished job 8.\u001b[0m\n",
      "\u001b[32m2 of 25 steps (8%) done\u001b[0m\n",
      "\u001b[33mSelect jobs to execute...\u001b[0m\n",
      "\u001b[32m\u001b[0m\n",
      "\u001b[32m[Fri Jan  3 15:11:29 2025]\u001b[0m\n",
      "\u001b[32mrule split_fasta_file:\n",
      "    input: /local/work/adrian/ERMA/data/fastq/temp/test_epic_data.fasta\n",
      "    output: /local/work/adrian/ERMA/data/fastq/test_epic_data.part_001.fasta\n",
      "    jobid: 7\n",
      "    reason: Input files updated by another job: /local/work/adrian/ERMA/data/fastq/temp/test_epic_data.fasta\n",
      "    wildcards: base_dir=/local/work/adrian/ERMA, sample=test_epic_data, part=001\n",
      "    resources: tmpdir=/local/tmp\u001b[0m\n",
      "\u001b[32m\u001b[0m\n",
      "\u001b[32m\u001b[0m\n",
      "\u001b[32m[Fri Jan  3 15:11:29 2025]\u001b[0m\n",
      "\u001b[32mrule split_fasta_file:\n",
      "    input: /local/work/adrian/ERMA/data/fastq/temp/test_epic_data.fasta\n",
      "    output: /local/work/adrian/ERMA/data/fastq/test_epic_data.part_002.fasta\n",
      "    jobid: 21\n",
      "    reason: Input files updated by another job: /local/work/adrian/ERMA/data/fastq/temp/test_epic_data.fasta\n",
      "    wildcards: base_dir=/local/work/adrian/ERMA, sample=test_epic_data, part=002\n",
      "    resources: tmpdir=/local/tmp\u001b[0m\n",
      "\u001b[32m\u001b[0m\n",
      "[INFO]\u001b[0m split seqs from /local/work/adrian/ERMA/data/fastq/temp/test_epic_data.fasta\n",
      "[INFO]\u001b[0m split into 2 parts\n",
      "\u001b[33m[WARN]\u001b[0m outdir not empty: /local/work/adrian/ERMA/data/fastq/, you can use --force to overwrite\n",
      "[INFO]\u001b[0m split seqs from /local/work/adrian/ERMA/data/fastq/temp/test_epic_data.fasta\n",
      "[INFO]\u001b[0m split into 2 parts\n",
      "\u001b[33m[WARN]\u001b[0m outdir not empty: /local/work/adrian/ERMA/data/fastq/, you can use --force to overwrite\n",
      "[INFO]\u001b[0m write 2023 sequences to file: /local/work/adrian/ERMA/data/fastq/test_epic_data.part_001.fasta\n",
      "[INFO]\u001b[0m write 2023 sequences to file: /local/work/adrian/ERMA/data/fastq/test_epic_data.part_001.fasta\n",
      "[INFO]\u001b[0m write 2023 sequences to file: /local/work/adrian/ERMA/data/fastq/test_epic_data.part_002.fasta\n",
      "[INFO]\u001b[0m write 2023 sequences to file: /local/work/adrian/ERMA/data/fastq/test_epic_data.part_002.fasta\n",
      "\u001b[32m[Fri Jan  3 15:11:29 2025]\u001b[0m\n",
      "\u001b[32mFinished job 21.\u001b[0m\n",
      "\u001b[32m3 of 25 steps (12%) done\u001b[0m\n",
      "\u001b[33mSelect jobs to execute...\u001b[0m\n",
      "\u001b[32m\u001b[0m\n",
      "\u001b[32m[Fri Jan  3 15:11:29 2025]\u001b[0m\n",
      "\u001b[32mrule blast_card:\n",
      "    input: /local/work/adrian/ERMA/data/fastq/test_epic_data.part_002.fasta, /local/work/adrian/ERMA/data/blast_db/card_db.pdb\n",
      "    output: /local/work/adrian/ERMA/results/test_epic_data/002/card_results.txt\n",
      "    log: /local/work/adrian/ERMA/logs/blast_card/test_epic_data_002.log\n",
      "    jobid: 22\n",
      "    reason: Missing output files: /local/work/adrian/ERMA/results/test_epic_data/002/card_results.txt; Input files updated by another job: /local/work/adrian/ERMA/data/fastq/test_epic_data.part_002.fasta\n",
      "    wildcards: base_dir=/local/work/adrian/ERMA, sample=test_epic_data, part=002\n",
      "    threads: 32\n",
      "    resources: tmpdir=/local/tmp\u001b[0m\n",
      "\u001b[32m\u001b[0m\n",
      "\u001b[33mActivating conda environment: .snakemake/conda/7a7f0cec5ba95623a490ac5b9a018838_\u001b[0m\n",
      "\u001b[32m[Fri Jan  3 15:11:29 2025]\u001b[0m\n",
      "\u001b[32mFinished job 7.\u001b[0m\n",
      "\u001b[32m4 of 25 steps (16%) done\u001b[0m\n",
      "\u001b[33mSelect jobs to execute...\u001b[0m\n",
      "\u001b[33mActivating conda environment: .snakemake/conda/b6085bdce850ab22f4dd0568a15b0f61_\u001b[0m\n",
      "\u001b[32m[Fri Jan  3 15:11:32 2025]\u001b[0m\n",
      "\u001b[32mFinished job 30.\u001b[0m\n",
      "\u001b[32m5 of 25 steps (20%) done\u001b[0m\n",
      "\u001b[32m\u001b[0m\n",
      "\u001b[32m[Fri Jan  3 15:11:32 2025]\u001b[0m\n",
      "\u001b[32mrule usearch_silva:\n",
      "    input: /local/work/adrian/ERMA/data/fastq/test_epic_data.part_002.fasta, /local/work/adrian/ERMA/data/silva_db/silva_seq.fasta\n",
      "    output: /local/work/adrian/ERMA/results/test_epic_data/002/SILVA_results.txt\n",
      "    log: /local/work/adrian/ERMA/logs/blast_silva/test_epic_data_002.log\n",
      "    jobid: 20\n",
      "    reason: Missing output files: /local/work/adrian/ERMA/results/test_epic_data/002/SILVA_results.txt; Input files updated by another job: /local/work/adrian/ERMA/data/fastq/test_epic_data.part_002.fasta\n",
      "    wildcards: base_dir=/local/work/adrian/ERMA, sample=test_epic_data, part=002\n",
      "    threads: 32\n",
      "    resources: tmpdir=/local/tmp\u001b[0m\n",
      "\u001b[32m\u001b[0m\n",
      "\u001b[33mActivating conda environment: .snakemake/conda/7a7f0cec5ba95623a490ac5b9a018838_\u001b[0m\n",
      "usearch v12.0 [b1d935b], 197Gb RAM, 64 cores\n",
      "(C) Copyright 2013-24 Robert C. Edgar.\n",
      "https://drive5.com/usearch\n",
      "\n",
      "usearch_local test_epic_data.part_002.fasta\n",
      "00:05 878Mb ...... Loading seqs.\n",
      "00:15 845Mb 100.0% Masking (fastnucleo)\n",
      "00:35 846Mb 100.0% Udb seqs\n",
      "00:35 846Mb 100.0% Alloc rows\n",
      "00:39 1.4Gb  10.8% Build udb index\u001b[32m[Fri Jan  3 15:12:11 2025]\u001b[0m\n",
      "\u001b[32mFinished job 22.\u001b[0m\n",
      "\u001b[32m6 of 25 steps (24%) done\u001b[0m\n",
      "\u001b[33mSelect jobs to execute...\u001b[0m\n",
      "\u001b[32m\u001b[0m\n",
      "\u001b[32m[Fri Jan  3 15:12:11 2025]\u001b[0m\n",
      "\u001b[32mrule blast_card:\n",
      "    input: /local/work/adrian/ERMA/data/fastq/test_epic_data.part_001.fasta, /local/work/adrian/ERMA/data/blast_db/card_db.pdb\n",
      "    output: /local/work/adrian/ERMA/results/test_epic_data/001/card_results.txt\n",
      "    log: /local/work/adrian/ERMA/logs/blast_card/test_epic_data_001.log\n",
      "    jobid: 13\n",
      "    reason: Missing output files: /local/work/adrian/ERMA/results/test_epic_data/001/card_results.txt; Input files updated by another job: /local/work/adrian/ERMA/data/fastq/test_epic_data.part_001.fasta\n",
      "    wildcards: base_dir=/local/work/adrian/ERMA, sample=test_epic_data, part=001\n",
      "    threads: 32\n",
      "    resources: tmpdir=/local/tmp\u001b[0m\n",
      "\u001b[32m\u001b[0m\n",
      "\u001b[33mActivating conda environment: .snakemake/conda/7a7f0cec5ba95623a490ac5b9a018838_\u001b[0m\n",
      "01:07 3.6Gb 100.0% Build udb index\n",
      "01:07 3.6Gb ...... Starting 32 threads\n",
      "01:13 3.9Gb 100.0% Searching 783 hits (38.7%)\n",
      "01:13 3.9Gb ...... Finished\n",
      "\n",
      "\u001b[32m[Fri Jan  3 15:12:45 2025]\u001b[0m\n",
      "\u001b[32mFinished job 20.\u001b[0m\n",
      "\u001b[32m7 of 25 steps (28%) done\u001b[0m\n",
      "\u001b[33mSelect jobs to execute...\u001b[0m\n",
      "\u001b[32m\u001b[0m\n",
      "\u001b[32m[Fri Jan  3 15:12:45 2025]\u001b[0m\n",
      "\u001b[32mrule usearch_silva:\n",
      "    input: /local/work/adrian/ERMA/data/fastq/test_epic_data.part_001.fasta, /local/work/adrian/ERMA/data/silva_db/silva_seq.fasta\n",
      "    output: /local/work/adrian/ERMA/results/test_epic_data/001/SILVA_results.txt\n",
      "    log: /local/work/adrian/ERMA/logs/blast_silva/test_epic_data_001.log\n",
      "    jobid: 6\n",
      "    reason: Missing output files: /local/work/adrian/ERMA/results/test_epic_data/001/SILVA_results.txt; Input files updated by another job: /local/work/adrian/ERMA/data/fastq/test_epic_data.part_001.fasta\n",
      "    wildcards: base_dir=/local/work/adrian/ERMA, sample=test_epic_data, part=001\n",
      "    threads: 32\n",
      "    resources: tmpdir=/local/tmp\u001b[0m\n",
      "\u001b[32m\u001b[0m\n",
      "\u001b[33mActivating conda environment: .snakemake/conda/7a7f0cec5ba95623a490ac5b9a018838_\u001b[0m\n",
      "usearch v12.0 [b1d935b], 197Gb RAM, 64 cores\n",
      "(C) Copyright 2013-24 Robert C. Edgar.\n",
      "https://drive5.com/usearch\n",
      "\n",
      "usearch_local test_epic_data.part_001.fasta\n",
      "00:04 878Mb ...... Loading seqs.\n",
      "00:08 845Mb  32.4% Masking (fastnucleo)\u001b[32m[Fri Jan  3 15:12:54 2025]\u001b[0m\n",
      "\u001b[32mFinished job 13.\u001b[0m\n",
      "\u001b[32m8 of 25 steps (32%) done\u001b[0m\n",
      "\u001b[33mSelect jobs to execute...\u001b[0m\n",
      "\u001b[32m\u001b[0m\n",
      "\u001b[32m[Fri Jan  3 15:12:54 2025]\u001b[0m\n",
      "\u001b[32mrule multiqc_report:\n",
      "    input: /local/work/adrian/ERMA/results/fastqc/test_epic_data_fastqc.zip\n",
      "    output: /local/work/adrian/ERMA/results/qc/multiqc.html\n",
      "    log: /local/work/adrian/ERMA/logs/multiqc/multiqc.log\n",
      "    jobid: 29\n",
      "    reason: Missing output files: /local/work/adrian/ERMA/results/qc/multiqc.html; Input files updated by another job: /local/work/adrian/ERMA/results/fastqc/test_epic_data_fastqc.zip\n",
      "    wildcards: base_dir=/local/work/adrian/ERMA\n",
      "    resources: tmpdir=/local/tmp\u001b[0m\n",
      "\u001b[32m\u001b[0m\n",
      "\u001b[32m[Fri Jan  3 15:12:54 2025]\u001b[0m\n",
      "\u001b[32mrule gzip_blast_results:\n",
      "    input: /local/work/adrian/ERMA/results/test_epic_data/002/SILVA_results.txt, /local/work/adrian/ERMA/results/test_epic_data/002/card_results.txt\n",
      "    output: /local/work/adrian/ERMA/results/test_epic_data/002/SILVA_results.txt.gz, /local/work/adrian/ERMA/results/test_epic_data/002/card_results.txt.gz\n",
      "    log: /local/work/adrian/ERMA/logs/gzip_blast_results/test_epic_data_002.log\n",
      "    jobid: 19\n",
      "    reason: Missing output files: /local/work/adrian/ERMA/results/test_epic_data/002/card_results.txt.gz, /local/work/adrian/ERMA/results/test_epic_data/002/SILVA_results.txt.gz; Input files updated by another job: /local/work/adrian/ERMA/results/test_epic_data/002/card_results.txt, /local/work/adrian/ERMA/results/test_epic_data/002/SILVA_results.txt\n",
      "    wildcards: base_dir=/local/work/adrian/ERMA, sample=test_epic_data, part=002\n",
      "    resources: tmpdir=/local/tmp\u001b[0m\n",
      "\u001b[32m\u001b[0m\n",
      "\u001b[32m[Fri Jan  3 15:12:54 2025]\u001b[0m\n",
      "\u001b[32mFinished job 19.\u001b[0m\n",
      "\u001b[32m9 of 25 steps (36%) done\u001b[0m\n",
      "\u001b[33mSelect jobs to execute...\u001b[0m\n",
      "00:09 845Mb  37.0% Masking (fastnucleo)\u001b[33mActivating conda environment: .snakemake/conda/10f2e70a50fbc024d2492be33312b778_\u001b[0m\n",
      "\u001b[33mActivating conda environment: .snakemake/conda/10f2e70a50fbc024d2492be33312b778_\u001b[0m\n",
      "00:10 845Mb  51.2% Masking (fastnucleo)\u001b[32m[Fri Jan  3 15:12:56 2025]\u001b[0m\n",
      "\u001b[32mFinished job 29.\u001b[0m\n",
      "\u001b[32m10 of 25 steps (40%) done\u001b[0m\n",
      "\u001b[32m\u001b[0m\n",
      "\u001b[32m[Fri Jan  3 15:12:56 2025]\u001b[0m\n",
      "\u001b[32mrule integrate_blast_data:\n",
      "    input: /local/work/adrian/ERMA/results/test_epic_data/002/card_results.txt.gz, /local/work/adrian/ERMA/results/test_epic_data/002/SILVA_results.txt.gz, /local/work/adrian/ERMA/data/card_db/aro_index.tsv\n",
      "    output: /local/work/adrian/ERMA/results/test_epic_data/002/intermed_card_results.csv, /local/work/adrian/ERMA/results/test_epic_data/002/intermed_silva_results.csv, /local/work/adrian/ERMA/results/test_epic_data/002/integrated_filtered_results.csv\n",
      "    log: /local/work/adrian/ERMA/logs/integrate_blast_data/test_epic_data_002.log\n",
      "    jobid: 18\n",
      "    reason: Missing output files: /local/work/adrian/ERMA/results/test_epic_data/002/integrated_filtered_results.csv; Input files updated by another job: /local/work/adrian/ERMA/results/test_epic_data/002/card_results.txt.gz, /local/work/adrian/ERMA/results/test_epic_data/002/SILVA_results.txt.gz\n",
      "    wildcards: base_dir=/local/work/adrian/ERMA, sample=test_epic_data, part=002\n",
      "    threads: 32\n",
      "    resources: tmpdir=/local/tmp\u001b[0m\n",
      "\u001b[32m\u001b[0m\n",
      "\u001b[33mActivating conda environment: .snakemake/conda/17b4606ebaa57cbe04785f036e31d8f1_\u001b[0m\n",
      "\u001b[33mActivating conda environment: .snakemake/conda/17b4606ebaa57cbe04785f036e31d8f1_\u001b[0m\n",
      "00:15 845Mb 100.0% Masking (fastnucleo)\n",
      "00:16 846Mb  2.23% Udb seqsProcessing complete. Final merged output saved to /local/work/adrian/ERMA/results/test_epic_data/002/integrated_filtered_results.csv\n",
      "00:16 846Mb  4.65% Udb seqs\u001b[32m[Fri Jan  3 15:13:02 2025]\u001b[0m\n",
      "\u001b[32mFinished job 18.\u001b[0m\n",
      "\u001b[32m11 of 25 steps (44%) done\u001b[0m\n",
      "\u001b[33mRemoving temporary output /local/work/adrian/ERMA/results/test_epic_data/002/intermed_card_results.csv.\u001b[0m\n",
      "\u001b[33mRemoving temporary output /local/work/adrian/ERMA/results/test_epic_data/002/intermed_silva_results.csv.\u001b[0m\n",
      "\u001b[33mSelect jobs to execute...\u001b[0m\n",
      "\u001b[32m\u001b[0m\n",
      "\u001b[32m[Fri Jan  3 15:13:02 2025]\u001b[0m\n",
      "\u001b[32mrule filter_blast_results:\n",
      "    input: /local/work/adrian/ERMA/results/test_epic_data/002/integrated_filtered_results.csv\n",
      "    output: /local/work/adrian/ERMA/results/test_epic_data/002/filtered_results.csv\n",
      "    log: /local/work/adrian/ERMA/logs/filter_blast_results/test_epic_data_002.log\n",
      "    jobid: 17\n",
      "    reason: Missing output files: /local/work/adrian/ERMA/results/test_epic_data/002/filtered_results.csv; Input files updated by another job: /local/work/adrian/ERMA/results/test_epic_data/002/integrated_filtered_results.csv\n",
      "    wildcards: base_dir=/local/work/adrian/ERMA, sample=test_epic_data, part=002\n",
      "    threads: 32\n",
      "    resources: tmpdir=/local/tmp\u001b[0m\n",
      "\u001b[32m\u001b[0m\n",
      "\u001b[33mActivating conda environment: .snakemake/conda/17b4606ebaa57cbe04785f036e31d8f1_\u001b[0m\n",
      "\u001b[33mActivating conda environment: .snakemake/conda/17b4606ebaa57cbe04785f036e31d8f1_\u001b[0m\n",
      "00:25 846Mb  45.6% Udb seqs\u001b[32m[Fri Jan  3 15:13:11 2025]\u001b[0m\n",
      "\u001b[32mFinished job 17.\u001b[0m\n",
      "\u001b[32m12 of 25 steps (48%) done\u001b[0m\n",
      "00:35 846Mb 100.0% Udb seqs\n",
      "00:35 846Mb 100.0% Alloc rows\n",
      "01:07 3.6Gb 100.0% Build udb index\n",
      "01:07 3.6Gb ...... Starting 32 threads\n",
      "01:14 3.9Gb 100.0% Searching 799 hits (39.5%)\n",
      "01:14 3.9Gb ...... Finished\n",
      "\n",
      "\u001b[32m[Fri Jan  3 15:14:00 2025]\u001b[0m\n",
      "\u001b[32mFinished job 6.\u001b[0m\n",
      "\u001b[32m13 of 25 steps (52%) done\u001b[0m\n",
      "\u001b[33mSelect jobs to execute...\u001b[0m\n",
      "\u001b[32m\u001b[0m\n",
      "\u001b[32m[Fri Jan  3 15:14:00 2025]\u001b[0m\n",
      "\u001b[32mrule gzip_blast_results:\n",
      "    input: /local/work/adrian/ERMA/results/test_epic_data/001/SILVA_results.txt, /local/work/adrian/ERMA/results/test_epic_data/001/card_results.txt\n",
      "    output: /local/work/adrian/ERMA/results/test_epic_data/001/SILVA_results.txt.gz, /local/work/adrian/ERMA/results/test_epic_data/001/card_results.txt.gz\n",
      "    log: /local/work/adrian/ERMA/logs/gzip_blast_results/test_epic_data_001.log\n",
      "    jobid: 5\n",
      "    reason: Missing output files: /local/work/adrian/ERMA/results/test_epic_data/001/card_results.txt.gz, /local/work/adrian/ERMA/results/test_epic_data/001/SILVA_results.txt.gz; Input files updated by another job: /local/work/adrian/ERMA/results/test_epic_data/001/SILVA_results.txt, /local/work/adrian/ERMA/results/test_epic_data/001/card_results.txt\n",
      "    wildcards: base_dir=/local/work/adrian/ERMA, sample=test_epic_data, part=001\n",
      "    resources: tmpdir=/local/tmp\u001b[0m\n",
      "\u001b[32m\u001b[0m\n",
      "\u001b[32m[Fri Jan  3 15:14:00 2025]\u001b[0m\n",
      "\u001b[32mFinished job 5.\u001b[0m\n",
      "\u001b[32m14 of 25 steps (56%) done\u001b[0m\n",
      "\u001b[33mSelect jobs to execute...\u001b[0m\n",
      "\u001b[32m\u001b[0m\n",
      "\u001b[32m[Fri Jan  3 15:14:00 2025]\u001b[0m\n",
      "\u001b[32mrule integrate_blast_data:\n",
      "    input: /local/work/adrian/ERMA/results/test_epic_data/001/card_results.txt.gz, /local/work/adrian/ERMA/results/test_epic_data/001/SILVA_results.txt.gz, /local/work/adrian/ERMA/data/card_db/aro_index.tsv\n",
      "    output: /local/work/adrian/ERMA/results/test_epic_data/001/intermed_card_results.csv, /local/work/adrian/ERMA/results/test_epic_data/001/intermed_silva_results.csv, /local/work/adrian/ERMA/results/test_epic_data/001/integrated_filtered_results.csv\n",
      "    log: /local/work/adrian/ERMA/logs/integrate_blast_data/test_epic_data_001.log\n",
      "    jobid: 4\n",
      "    reason: Missing output files: /local/work/adrian/ERMA/results/test_epic_data/001/integrated_filtered_results.csv; Input files updated by another job: /local/work/adrian/ERMA/results/test_epic_data/001/card_results.txt.gz, /local/work/adrian/ERMA/results/test_epic_data/001/SILVA_results.txt.gz\n",
      "    wildcards: base_dir=/local/work/adrian/ERMA, sample=test_epic_data, part=001\n",
      "    threads: 32\n",
      "    resources: tmpdir=/local/tmp\u001b[0m\n",
      "\u001b[32m\u001b[0m\n",
      "\u001b[33mActivating conda environment: .snakemake/conda/17b4606ebaa57cbe04785f036e31d8f1_\u001b[0m\n",
      "\u001b[33mActivating conda environment: .snakemake/conda/17b4606ebaa57cbe04785f036e31d8f1_\u001b[0m\n",
      "Processing complete. Final merged output saved to /local/work/adrian/ERMA/results/test_epic_data/001/integrated_filtered_results.csv\n",
      "\u001b[32m[Fri Jan  3 15:14:06 2025]\u001b[0m\n",
      "\u001b[32mFinished job 4.\u001b[0m\n",
      "\u001b[32m15 of 25 steps (60%) done\u001b[0m\n",
      "\u001b[33mRemoving temporary output /local/work/adrian/ERMA/results/test_epic_data/001/intermed_card_results.csv.\u001b[0m\n",
      "\u001b[33mRemoving temporary output /local/work/adrian/ERMA/results/test_epic_data/001/intermed_silva_results.csv.\u001b[0m\n",
      "\u001b[33mSelect jobs to execute...\u001b[0m\n",
      "\u001b[32m\u001b[0m\n",
      "\u001b[32m[Fri Jan  3 15:14:06 2025]\u001b[0m\n",
      "\u001b[32mrule filter_blast_results:\n",
      "    input: /local/work/adrian/ERMA/results/test_epic_data/001/integrated_filtered_results.csv\n",
      "    output: /local/work/adrian/ERMA/results/test_epic_data/001/filtered_results.csv\n",
      "    log: /local/work/adrian/ERMA/logs/filter_blast_results/test_epic_data_001.log\n",
      "    jobid: 3\n",
      "    reason: Missing output files: /local/work/adrian/ERMA/results/test_epic_data/001/filtered_results.csv; Input files updated by another job: /local/work/adrian/ERMA/results/test_epic_data/001/integrated_filtered_results.csv\n",
      "    wildcards: base_dir=/local/work/adrian/ERMA, sample=test_epic_data, part=001\n",
      "    threads: 32\n",
      "    resources: tmpdir=/local/tmp\u001b[0m\n",
      "\u001b[32m\u001b[0m\n",
      "\u001b[33mActivating conda environment: .snakemake/conda/17b4606ebaa57cbe04785f036e31d8f1_\u001b[0m\n",
      "\u001b[33mActivating conda environment: .snakemake/conda/17b4606ebaa57cbe04785f036e31d8f1_\u001b[0m\n",
      "\u001b[32m[Fri Jan  3 15:14:15 2025]\u001b[0m\n",
      "\u001b[32mFinished job 3.\u001b[0m\n",
      "\u001b[32m16 of 25 steps (64%) done\u001b[0m\n",
      "\u001b[33mSelect jobs to execute...\u001b[0m\n",
      "\u001b[32m\u001b[0m\n",
      "\u001b[32m[Fri Jan  3 15:14:15 2025]\u001b[0m\n",
      "\u001b[32mrule genera_abundance_table:\n",
      "    input: /local/work/adrian/ERMA/results/test_epic_data/001/filtered_results.csv, /local/work/adrian/ERMA/results/test_epic_data/002/filtered_results.csv\n",
      "    output: /local/work/adrian/ERMA/results/abundance/combined_genus_abundance.csv\n",
      "    log: /local/work/adrian/ERMA/logs/genera_abundance_table.log\n",
      "    jobid: 25\n",
      "    reason: Missing output files: /local/work/adrian/ERMA/results/abundance/combined_genus_abundance.csv; Input files updated by another job: /local/work/adrian/ERMA/results/test_epic_data/002/filtered_results.csv, /local/work/adrian/ERMA/results/test_epic_data/001/filtered_results.csv\n",
      "    wildcards: base_dir=/local/work/adrian/ERMA\n",
      "    threads: 32\n",
      "    resources: tmpdir=/local/tmp\u001b[0m\n",
      "\u001b[32m\u001b[0m\n",
      "\u001b[32m[Fri Jan  3 15:14:15 2025]\u001b[0m\n",
      "\u001b[32mrule generate_genus_distribution_plot:\n",
      "    input: /local/work/adrian/ERMA/results/test_epic_data/001/filtered_results.csv, /local/work/adrian/ERMA/results/test_epic_data/002/filtered_results.csv\n",
      "    output: /local/work/adrian/ERMA/results/test_epic_data/genus_distribution_plot.html, /local/work/adrian/ERMA/results/test_epic_data/combined_df.csv\n",
      "    log: /local/work/adrian/ERMA/logs/generate_genus_distribution_plot/test_epic_data.log\n",
      "    jobid: 2\n",
      "    reason: Missing output files: /local/work/adrian/ERMA/results/test_epic_data/genus_distribution_plot.html; Input files updated by another job: /local/work/adrian/ERMA/results/test_epic_data/002/filtered_results.csv, /local/work/adrian/ERMA/results/test_epic_data/001/filtered_results.csv\n",
      "    wildcards: base_dir=/local/work/adrian/ERMA, sample=test_epic_data\n",
      "    threads: 32\n",
      "    resources: tmpdir=/local/tmp\u001b[0m\n",
      "\u001b[32m\u001b[0m\n",
      "\u001b[33mActivating conda environment: .snakemake/conda/17b4606ebaa57cbe04785f036e31d8f1_\u001b[0m\n",
      "\u001b[33mActivating conda environment: .snakemake/conda/17b4606ebaa57cbe04785f036e31d8f1_\u001b[0m\n",
      "\u001b[33mActivating conda environment: .snakemake/conda/17b4606ebaa57cbe04785f036e31d8f1_\u001b[0m\n",
      "\u001b[33mActivating conda environment: .snakemake/conda/17b4606ebaa57cbe04785f036e31d8f1_\u001b[0m\n",
      "/local/work/adrian/ERMA/results/test_epic_data/genus_distribution_plot.html ['test_epic_data']\n",
      "combined_df ['test_epic_data'] 967\n",
      "Exported genera abundance data to /local/work/adrian/ERMA/results/abundance/combined_genus_abundance.csv\n",
      "\u001b[32m[Fri Jan  3 15:14:16 2025]\u001b[0m\n",
      "\u001b[32mFinished job 2.\u001b[0m\n",
      "\u001b[32m17 of 25 steps (68%) done\u001b[0m\n",
      "\u001b[33mSelect jobs to execute...\u001b[0m\n",
      "\u001b[32m\u001b[0m\n",
      "\u001b[32m[Fri Jan  3 15:14:16 2025]\u001b[0m\n",
      "\u001b[32mrule plot_evalue_boxplot:\n",
      "    input: /local/work/adrian/ERMA/results/test_epic_data/001/filtered_results.csv, /local/work/adrian/ERMA/results/test_epic_data/002/filtered_results.csv\n",
      "    output: /local/work/adrian/ERMA/results/boxplots/combined_evalue_boxplot.png\n",
      "    log: /local/work/adrian/ERMA/logs/plot_evalue_boxplot/combined.log\n",
      "    jobid: 26\n",
      "    reason: Missing output files: /local/work/adrian/ERMA/results/boxplots/combined_evalue_boxplot.png; Input files updated by another job: /local/work/adrian/ERMA/results/test_epic_data/002/filtered_results.csv, /local/work/adrian/ERMA/results/test_epic_data/001/filtered_results.csv\n",
      "    wildcards: base_dir=/local/work/adrian/ERMA\n",
      "    resources: tmpdir=/local/tmp\u001b[0m\n",
      "\u001b[32m\u001b[0m\n",
      "\u001b[32m[Fri Jan  3 15:14:16 2025]\u001b[0m\n",
      "\u001b[32mrule plot_percentage_identity_boxplot:\n",
      "    input: /local/work/adrian/ERMA/results/test_epic_data/001/filtered_results.csv, /local/work/adrian/ERMA/results/test_epic_data/002/filtered_results.csv\n",
      "    output: /local/work/adrian/ERMA/results/boxplots/combined_percidt_boxplot.png\n",
      "    log: /local/work/adrian/ERMA/logs/plot_percentage_identity_boxplot/combined.log\n",
      "    jobid: 27\n",
      "    reason: Missing output files: /local/work/adrian/ERMA/results/boxplots/combined_percidt_boxplot.png; Input files updated by another job: /local/work/adrian/ERMA/results/test_epic_data/002/filtered_results.csv, /local/work/adrian/ERMA/results/test_epic_data/001/filtered_results.csv\n",
      "    wildcards: base_dir=/local/work/adrian/ERMA\n",
      "    resources: tmpdir=/local/tmp\u001b[0m\n",
      "\u001b[32m\u001b[0m\n",
      "\u001b[32m[Fri Jan  3 15:14:16 2025]\u001b[0m\n",
      "\u001b[32mrule plot_alignment_length_boxplot:\n",
      "    input: /local/work/adrian/ERMA/results/test_epic_data/001/filtered_results.csv, /local/work/adrian/ERMA/results/test_epic_data/002/filtered_results.csv\n",
      "    output: /local/work/adrian/ERMA/results/boxplots/combined_allength_boxplot.png\n",
      "    log: /local/work/adrian/ERMA/logs/plot_alignment_length_boxplot/combined.log\n",
      "    jobid: 28\n",
      "    reason: Missing output files: /local/work/adrian/ERMA/results/boxplots/combined_allength_boxplot.png; Input files updated by another job: /local/work/adrian/ERMA/results/test_epic_data/002/filtered_results.csv, /local/work/adrian/ERMA/results/test_epic_data/001/filtered_results.csv\n",
      "    wildcards: base_dir=/local/work/adrian/ERMA\n",
      "    resources: tmpdir=/local/tmp\u001b[0m\n",
      "\u001b[32m\u001b[0m\n",
      "\u001b[32m[Fri Jan  3 15:14:16 2025]\u001b[0m\n",
      "\u001b[32mrule generate_percidt_genus:\n",
      "    input: /local/work/adrian/ERMA/results/test_epic_data/001/filtered_results.csv, /local/work/adrian/ERMA/results/test_epic_data/002/filtered_results.csv\n",
      "    output: /local/work/adrian/ERMA/results/test_epic_data/genus_idt_per_genus_plot.png\n",
      "    log: /local/work/adrian/ERMA/logs/generate_percidt_genus/test_epic_data.log\n",
      "    jobid: 23\n",
      "    reason: Missing output files: /local/work/adrian/ERMA/results/test_epic_data/genus_idt_per_genus_plot.png; Input files updated by another job: /local/work/adrian/ERMA/results/test_epic_data/002/filtered_results.csv, /local/work/adrian/ERMA/results/test_epic_data/001/filtered_results.csv\n",
      "    wildcards: base_dir=/local/work/adrian/ERMA, sample=test_epic_data\n",
      "    resources: tmpdir=/local/tmp\u001b[0m\n",
      "\u001b[32m\u001b[0m\n",
      "\u001b[32m[Fri Jan  3 15:14:16 2025]\u001b[0m\n",
      "\u001b[32mFinished job 25.\u001b[0m\n",
      "\u001b[32m18 of 25 steps (72%) done\u001b[0m\n",
      "\u001b[33mSelect jobs to execute...\u001b[0m\n",
      "\u001b[32m\u001b[0m\n",
      "\u001b[32m[Fri Jan  3 15:14:16 2025]\u001b[0m\n",
      "\u001b[32mrule abundance_bubble_plot:\n",
      "    input: /local/work/adrian/ERMA/results/abundance/combined_genus_abundance.csv\n",
      "    output: /local/work/adrian/ERMA/results/abundance/combined_genus_abundance_bubbleplot.html, /local/work/adrian/ERMA/results/abundance/reads_per_found_AMR.csv\n",
      "    log: /local/work/adrian/ERMA/logs/genera_abundance_plot.log\n",
      "    jobid: 24\n",
      "    reason: Missing output files: /local/work/adrian/ERMA/results/abundance/reads_per_found_AMR.csv, /local/work/adrian/ERMA/results/abundance/combined_genus_abundance_bubbleplot.html; Input files updated by another job: /local/work/adrian/ERMA/results/abundance/combined_genus_abundance.csv\n",
      "    wildcards: base_dir=/local/work/adrian/ERMA\n",
      "    threads: 32\n",
      "    resources: tmpdir=/local/tmp\u001b[0m\n",
      "\u001b[32m\u001b[0m\n",
      "\u001b[33mActivating conda environment: .snakemake/conda/17b4606ebaa57cbe04785f036e31d8f1_\u001b[0m\n",
      "\u001b[33mActivating conda environment: .snakemake/conda/17b4606ebaa57cbe04785f036e31d8f1_\u001b[0m\n",
      "\u001b[33mActivating conda environment: .snakemake/conda/17b4606ebaa57cbe04785f036e31d8f1_\u001b[0m\n",
      "\u001b[33mActivating conda environment: .snakemake/conda/17b4606ebaa57cbe04785f036e31d8f1_\u001b[0m\n",
      "\u001b[33mActivating conda environment: .snakemake/conda/17b4606ebaa57cbe04785f036e31d8f1_\u001b[0m\n",
      "\u001b[33mActivating conda environment: .snakemake/conda/17b4606ebaa57cbe04785f036e31d8f1_\u001b[0m\n",
      "\u001b[33mActivating conda environment: .snakemake/conda/17b4606ebaa57cbe04785f036e31d8f1_\u001b[0m\n",
      "\u001b[33mActivating conda environment: .snakemake/conda/17b4606ebaa57cbe04785f036e31d8f1_\u001b[0m\n",
      "\u001b[33mActivating conda environment: .snakemake/conda/17b4606ebaa57cbe04785f036e31d8f1_\u001b[0m\n",
      "\u001b[33mActivating conda environment: .snakemake/conda/17b4606ebaa57cbe04785f036e31d8f1_\u001b[0m\n",
      "\u001b[32m[Fri Jan  3 15:14:17 2025]\u001b[0m\n",
      "\u001b[32mFinished job 24.\u001b[0m\n",
      "\u001b[32m19 of 25 steps (76%) done\u001b[0m\n",
      "Creating combined boxplot\n",
      "Creating combined boxplot\n",
      "Creating combined boxplot\n",
      "Combined boxplot has been saved to /local/work/adrian/ERMA/results/boxplots/combined_allength_boxplot.png\n",
      "Combined boxplot has been saved to /local/work/adrian/ERMA/results/boxplots/combined_evalue_boxplot.png\n",
      "\u001b[32m[Fri Jan  3 15:14:18 2025]\u001b[0m\n",
      "\u001b[32mFinished job 28.\u001b[0m\n",
      "\u001b[32m20 of 25 steps (80%) done\u001b[0m\n",
      "\u001b[32m[Fri Jan  3 15:14:18 2025]\u001b[0m\n",
      "\u001b[32mFinished job 26.\u001b[0m\n",
      "\u001b[32m21 of 25 steps (84%) done\u001b[0m\n",
      "\u001b[32m[Fri Jan  3 15:14:18 2025]\u001b[0m\n",
      "\u001b[32mFinished job 23.\u001b[0m\n",
      "\u001b[32m22 of 25 steps (88%) done\u001b[0m\n",
      "Combined boxplot has been saved to /local/work/adrian/ERMA/results/boxplots/combined_percidt_boxplot.png\n",
      "\u001b[32m[Fri Jan  3 15:14:18 2025]\u001b[0m\n",
      "\u001b[32mFinished job 27.\u001b[0m\n",
      "\u001b[32m23 of 25 steps (92%) done\u001b[0m\n",
      "\u001b[33mSelect jobs to execute...\u001b[0m\n",
      "\u001b[32m\u001b[0m\n",
      "\u001b[32m[Fri Jan  3 15:14:18 2025]\u001b[0m\n",
      "\u001b[32mrule snakemake_report:\n",
      "    input: /local/work/adrian/ERMA/results/test_epic_data/genus_distribution_plot.html, /local/work/adrian/ERMA/results/test_epic_data/genus_idt_per_genus_plot.png, /local/work/adrian/ERMA/results/abundance/combined_genus_abundance_bubbleplot.html, /local/work/adrian/ERMA/results/abundance/reads_per_found_AMR.csv, /local/work/adrian/ERMA/results/boxplots/combined_evalue_boxplot.png, /local/work/adrian/ERMA/results/boxplots/combined_percidt_boxplot.png, /local/work/adrian/ERMA/results/boxplots/combined_allength_boxplot.png, /local/work/adrian/ERMA/results/qc/multiqc.html\n",
      "    output: results/test_report.zip\n",
      "    jobid: 1\n",
      "    reason: Missing output files: results/test_report.zip; Input files updated by another job: /local/work/adrian/ERMA/results/boxplots/combined_evalue_boxplot.png, /local/work/adrian/ERMA/results/test_epic_data/genus_idt_per_genus_plot.png, /local/work/adrian/ERMA/results/boxplots/combined_allength_boxplot.png, /local/work/adrian/ERMA/results/abundance/combined_genus_abundance_bubbleplot.html, /local/work/adrian/ERMA/results/qc/multiqc.html, /local/work/adrian/ERMA/results/abundance/reads_per_found_AMR.csv, /local/work/adrian/ERMA/results/test_epic_data/genus_distribution_plot.html, /local/work/adrian/ERMA/results/boxplots/combined_percidt_boxplot.png\n",
      "    resources: tmpdir=/local/tmp\u001b[0m\n",
      "\u001b[32m\u001b[0m\n",
      "\u001b[33mMultiple includes of /local/work/adrian/ERMA/workflow/rules/qc.smk ignored\u001b[0m\n",
      "Run: test with detected sequence technology: ONT\n",
      "Detected samples: ['test_epic_data']\n",
      "\u001b[33mBuilding DAG of jobs...\u001b[0m\n",
      "\u001b[33mCreating report...\u001b[0m\n",
      "\u001b[33mAdding genus_distribution_plot.html (0.0044 MB).\u001b[0m\n",
      "\u001b[33mAdding genus_idt_per_genus_plot.png (0.068 MB).\u001b[0m\n",
      "\u001b[33mAdding combined_genus_abundance_bubbleplot.html (3.6 MB).\u001b[0m\n",
      "\u001b[33mAdding reads_per_found_AMR.csv (0.00015 MB).\u001b[0m\n",
      "\u001b[33mAdding combined_genus_abundance.csv (0.0018 MB).\u001b[0m\n",
      "\u001b[33mAdding combined_evalue_boxplot.png (0.041 MB).\u001b[0m\n",
      "\u001b[33mAdding combined_percidt_boxplot.png (0.065 MB).\u001b[0m\n",
      "\u001b[33mAdding combined_allength_boxplot.png (0.037 MB).\u001b[0m\n",
      "\u001b[33mAdding multiqc.html (1.3 MB).\u001b[0m\n",
      "\u001b[33mLoading script code for rule generate_genus_distribution_plot\u001b[0m\n",
      "\u001b[33mLoading script code for rule filter_blast_results\u001b[0m\n",
      "\u001b[33mLoading script code for rule integrate_blast_data\u001b[0m\n",
      "\u001b[33mLoading script code for rule generate_percidt_genus\u001b[0m\n",
      "\u001b[33mLoading script code for rule abundance_bubble_plot\u001b[0m\n",
      "\u001b[33mLoading script code for rule genera_abundance_table\u001b[0m\n",
      "\u001b[33mLoading script code for rule plot_evalue_boxplot\u001b[0m\n",
      "\u001b[33mLoading script code for rule plot_percentage_identity_boxplot\u001b[0m\n",
      "\u001b[33mLoading script code for rule plot_alignment_length_boxplot\u001b[0m\n",
      "\u001b[33mLoading wrapper code for rule multiqc_report\u001b[0m\n",
      "\u001b[33mLoading wrapper code for rule fastqc\u001b[0m\n",
      "\u001b[33mDownloading resources and rendering HTML.\u001b[0m\n",
      "\u001b[33mReport created: results/test_report.zip.\u001b[0m\n",
      "\u001b[32m[Fri Jan  3 15:14:25 2025]\u001b[0m\n",
      "\u001b[32mFinished job 1.\u001b[0m\n",
      "\u001b[32m24 of 25 steps (96%) done\u001b[0m\n",
      "\u001b[33mSelect jobs to execute...\u001b[0m\n",
      "\u001b[32m\u001b[0m\n",
      "\u001b[32m[Fri Jan  3 15:14:25 2025]\u001b[0m\n",
      "\u001b[32mlocalrule all:\n",
      "    input: results/test_report.zip\n",
      "    jobid: 0\n",
      "    reason: Input files updated by another job: results/test_report.zip\n",
      "    resources: tmpdir=/local/tmp\u001b[0m\n",
      "\u001b[32m\u001b[0m\n",
      "\u001b[32m[Fri Jan  3 15:14:25 2025]\u001b[0m\n",
      "\u001b[32mFinished job 0.\u001b[0m\n",
      "\u001b[32m25 of 25 steps (100%) done\u001b[0m\n",
      "\u001b[33mComplete log: .snakemake/log/2025-01-03T151126.758340.snakemake.log\u001b[0m\n",
      "\n",
      "real\t2m59.617s\n",
      "user\t12m59.432s\n",
      "sys\t0m15.736s\n"
     ]
    }
   ],
   "source": [
    "# Copy test file and run workflow\n",
    "!cp data/test_epic_data.fastq.gz ../data/fastq/\n",
    "!time snakemake --cores all --use-conda --snakefile ../workflow/Snakefile --directory ../ "
   ]
  },
  {
   "cell_type": "code",
   "execution_count": 5,
   "metadata": {},
   "outputs": [
    {
     "data": {
      "text/markdown": [
       "## Card Similarity Search Result (BLASTX)"
      ],
      "text/plain": [
       "<IPython.core.display.Markdown object>"
      ]
     },
     "metadata": {},
     "output_type": "display_data"
    },
    {
     "data": {
      "text/markdown": [
       " ```blastx -query {input.fasta} -db {params.db}/card_db -out {output.card_results} -outfmt 6 -evalue 1e-5 -num_threads {params.internal_threads} 2> {log}```"
      ],
      "text/plain": [
       "<IPython.core.display.Markdown object>"
      ]
     },
     "metadata": {},
     "output_type": "display_data"
    },
    {
     "data": {
      "text/markdown": [
       " Shape: (127693, 12)"
      ],
      "text/plain": [
       "<IPython.core.display.Markdown object>"
      ]
     },
     "metadata": {},
     "output_type": "display_data"
    },
    {
     "data": {
      "text/html": [
       "<style type=\"text/css\">\n",
       "</style>\n",
       "<table id=\"T_49b68\">\n",
       "  <thead>\n",
       "    <tr>\n",
       "      <th class=\"blank level0\" >&nbsp;</th>\n",
       "      <th id=\"T_49b68_level0_col0\" class=\"col_heading level0 col0\" >perc_identity</th>\n",
       "      <th id=\"T_49b68_level0_col1\" class=\"col_heading level0 col1\" >align_length</th>\n",
       "      <th id=\"T_49b68_level0_col2\" class=\"col_heading level0 col2\" >evalue</th>\n",
       "    </tr>\n",
       "  </thead>\n",
       "  <tbody>\n",
       "    <tr>\n",
       "      <th id=\"T_49b68_level0_row0\" class=\"row_heading level0 row0\" >mean</th>\n",
       "      <td id=\"T_49b68_row0_col0\" class=\"data row0 col0\" >73.94</td>\n",
       "      <td id=\"T_49b68_row0_col1\" class=\"data row0 col1\" >39.92</td>\n",
       "      <td id=\"T_49b68_row0_col2\" class=\"data row0 col2\" >2.17e-07</td>\n",
       "    </tr>\n",
       "    <tr>\n",
       "      <th id=\"T_49b68_level0_row1\" class=\"row_heading level0 row1\" >min</th>\n",
       "      <td id=\"T_49b68_row1_col0\" class=\"data row1 col0\" >20.00</td>\n",
       "      <td id=\"T_49b68_row1_col1\" class=\"data row1 col1\" >7.00</td>\n",
       "      <td id=\"T_49b68_row1_col2\" class=\"data row1 col2\" >6.94e-38</td>\n",
       "    </tr>\n",
       "    <tr>\n",
       "      <th id=\"T_49b68_level0_row2\" class=\"row_heading level0 row2\" >max</th>\n",
       "      <td id=\"T_49b68_row2_col0\" class=\"data row2 col0\" >100.00</td>\n",
       "      <td id=\"T_49b68_row2_col1\" class=\"data row2 col1\" >111.00</td>\n",
       "      <td id=\"T_49b68_row2_col2\" class=\"data row2 col2\" >1.00e-05</td>\n",
       "    </tr>\n",
       "  </tbody>\n",
       "</table>\n"
      ],
      "text/plain": [
       "<pandas.io.formats.style.Styler at 0x7f09b8804af0>"
      ]
     },
     "metadata": {},
     "output_type": "display_data"
    },
    {
     "data": {
      "text/html": [
       "<div>\n",
       "<style scoped>\n",
       "    .dataframe tbody tr th:only-of-type {\n",
       "        vertical-align: middle;\n",
       "    }\n",
       "\n",
       "    .dataframe tbody tr th {\n",
       "        vertical-align: top;\n",
       "    }\n",
       "\n",
       "    .dataframe thead th {\n",
       "        text-align: right;\n",
       "    }\n",
       "</style>\n",
       "<table border=\"1\" class=\"dataframe\">\n",
       "  <thead>\n",
       "    <tr style=\"text-align: right;\">\n",
       "      <th></th>\n",
       "      <th>query_id</th>\n",
       "      <th>subject_id</th>\n",
       "      <th>perc_identity</th>\n",
       "      <th>align_length</th>\n",
       "      <th>mismatches</th>\n",
       "      <th>gap_opens</th>\n",
       "      <th>q_start</th>\n",
       "      <th>q_end</th>\n",
       "      <th>s_start</th>\n",
       "      <th>s_end</th>\n",
       "      <th>evalue</th>\n",
       "      <th>bit_score</th>\n",
       "    </tr>\n",
       "  </thead>\n",
       "  <tbody>\n",
       "    <tr>\n",
       "      <th>0</th>\n",
       "      <td>92ab8f0f-4af2-463d-bebc-5437988c2a71</td>\n",
       "      <td>gb|WP_140423324.1|ARO:3006030|OXA-833</td>\n",
       "      <td>86.111</td>\n",
       "      <td>36</td>\n",
       "      <td>5</td>\n",
       "      <td>0</td>\n",
       "      <td>167</td>\n",
       "      <td>60</td>\n",
       "      <td>35</td>\n",
       "      <td>70</td>\n",
       "      <td>8.980000e-20</td>\n",
       "      <td>65.1</td>\n",
       "    </tr>\n",
       "    <tr>\n",
       "      <th>1</th>\n",
       "      <td>92ab8f0f-4af2-463d-bebc-5437988c2a71</td>\n",
       "      <td>gb|WP_140423324.1|ARO:3006030|OXA-833</td>\n",
       "      <td>67.647</td>\n",
       "      <td>34</td>\n",
       "      <td>10</td>\n",
       "      <td>1</td>\n",
       "      <td>267</td>\n",
       "      <td>166</td>\n",
       "      <td>3</td>\n",
       "      <td>35</td>\n",
       "      <td>8.980000e-20</td>\n",
       "      <td>45.8</td>\n",
       "    </tr>\n",
       "  </tbody>\n",
       "</table>\n",
       "</div>"
      ],
      "text/plain": [
       "                               query_id  \\\n",
       "0  92ab8f0f-4af2-463d-bebc-5437988c2a71   \n",
       "1  92ab8f0f-4af2-463d-bebc-5437988c2a71   \n",
       "\n",
       "                              subject_id  perc_identity  align_length  \\\n",
       "0  gb|WP_140423324.1|ARO:3006030|OXA-833         86.111            36   \n",
       "1  gb|WP_140423324.1|ARO:3006030|OXA-833         67.647            34   \n",
       "\n",
       "   mismatches  gap_opens  q_start  q_end  s_start  s_end        evalue  \\\n",
       "0           5          0      167     60       35     70  8.980000e-20   \n",
       "1          10          1      267    166        3     35  8.980000e-20   \n",
       "\n",
       "   bit_score  \n",
       "0       65.1  \n",
       "1       45.8  "
      ]
     },
     "metadata": {},
     "output_type": "display_data"
    },
    {
     "data": {
      "text/markdown": [
       "---"
      ],
      "text/plain": [
       "<IPython.core.display.Markdown object>"
      ]
     },
     "metadata": {},
     "output_type": "display_data"
    },
    {
     "data": {
      "text/markdown": [
       "## Silva Similarity Search Result (usearch)"
      ],
      "text/plain": [
       "<IPython.core.display.Markdown object>"
      ]
     },
     "metadata": {},
     "output_type": "display_data"
    },
    {
     "data": {
      "text/markdown": [
       " ```usearch -usearch_local {input.fasta} -db {input.silva} -blast6out {output.silva_results} -evalue 1e-5 -threads {params.internal_threads} -strand plus -mincols 200 2> {log}```"
      ],
      "text/plain": [
       "<IPython.core.display.Markdown object>"
      ]
     },
     "metadata": {},
     "output_type": "display_data"
    },
    {
     "data": {
      "text/markdown": [
       " Shape: (812, 12)"
      ],
      "text/plain": [
       "<IPython.core.display.Markdown object>"
      ]
     },
     "metadata": {},
     "output_type": "display_data"
    },
    {
     "data": {
      "text/html": [
       "<style type=\"text/css\">\n",
       "</style>\n",
       "<table id=\"T_18b33\">\n",
       "  <thead>\n",
       "    <tr>\n",
       "      <th class=\"blank level0\" >&nbsp;</th>\n",
       "      <th id=\"T_18b33_level0_col0\" class=\"col_heading level0 col0\" >perc_identity</th>\n",
       "      <th id=\"T_18b33_level0_col1\" class=\"col_heading level0 col1\" >align_length</th>\n",
       "      <th id=\"T_18b33_level0_col2\" class=\"col_heading level0 col2\" >evalue</th>\n",
       "    </tr>\n",
       "  </thead>\n",
       "  <tbody>\n",
       "    <tr>\n",
       "      <th id=\"T_18b33_level0_row0\" class=\"row_heading level0 row0\" >mean</th>\n",
       "      <td id=\"T_18b33_row0_col0\" class=\"data row0 col0\" >91.87</td>\n",
       "      <td id=\"T_18b33_row0_col1\" class=\"data row0 col1\" >272.71</td>\n",
       "      <td id=\"T_18b33_row0_col2\" class=\"data row0 col2\" >8.99e-19</td>\n",
       "    </tr>\n",
       "    <tr>\n",
       "      <th id=\"T_18b33_level0_row1\" class=\"row_heading level0 row1\" >min</th>\n",
       "      <td id=\"T_18b33_row1_col0\" class=\"data row1 col0\" >79.30</td>\n",
       "      <td id=\"T_18b33_row1_col1\" class=\"data row1 col1\" >201.00</td>\n",
       "      <td id=\"T_18b33_row1_col2\" class=\"data row1 col2\" >9.80e-143</td>\n",
       "    </tr>\n",
       "    <tr>\n",
       "      <th id=\"T_18b33_level0_row2\" class=\"row_heading level0 row2\" >max</th>\n",
       "      <td id=\"T_18b33_row2_col0\" class=\"data row2 col0\" >99.30</td>\n",
       "      <td id=\"T_18b33_row2_col1\" class=\"data row2 col1\" >332.00</td>\n",
       "      <td id=\"T_18b33_row2_col2\" class=\"data row2 col2\" >5.70e-16</td>\n",
       "    </tr>\n",
       "  </tbody>\n",
       "</table>\n"
      ],
      "text/plain": [
       "<pandas.io.formats.style.Styler at 0x7ea9a19969e0>"
      ]
     },
     "metadata": {},
     "output_type": "display_data"
    },
    {
     "data": {
      "text/html": [
       "<div>\n",
       "<style scoped>\n",
       "    .dataframe tbody tr th:only-of-type {\n",
       "        vertical-align: middle;\n",
       "    }\n",
       "\n",
       "    .dataframe tbody tr th {\n",
       "        vertical-align: top;\n",
       "    }\n",
       "\n",
       "    .dataframe thead th {\n",
       "        text-align: right;\n",
       "    }\n",
       "</style>\n",
       "<table border=\"1\" class=\"dataframe\">\n",
       "  <thead>\n",
       "    <tr style=\"text-align: right;\">\n",
       "      <th></th>\n",
       "      <th>query_id</th>\n",
       "      <th>subject_id</th>\n",
       "      <th>perc_identity</th>\n",
       "      <th>align_length</th>\n",
       "      <th>mismatches</th>\n",
       "      <th>gap_opens</th>\n",
       "      <th>q_start</th>\n",
       "      <th>q_end</th>\n",
       "      <th>s_start</th>\n",
       "      <th>s_end</th>\n",
       "      <th>evalue</th>\n",
       "      <th>bit_score</th>\n",
       "    </tr>\n",
       "  </thead>\n",
       "  <tbody>\n",
       "    <tr>\n",
       "      <th>0</th>\n",
       "      <td>a2b699ad-4366-417b-bca1-c581eb29da90 runid=520...</td>\n",
       "      <td>FJ445213.1.2097 Bacteria;Pseudomonadota;Gammap...</td>\n",
       "      <td>89.7</td>\n",
       "      <td>291</td>\n",
       "      <td>10</td>\n",
       "      <td>8</td>\n",
       "      <td>91</td>\n",
       "      <td>373</td>\n",
       "      <td>681</td>\n",
       "      <td>959</td>\n",
       "      <td>4.100000e-72</td>\n",
       "      <td>276.3</td>\n",
       "    </tr>\n",
       "    <tr>\n",
       "      <th>1</th>\n",
       "      <td>ceb6ff52-c7ff-46cd-b3cf-9c2b7724967d runid=520...</td>\n",
       "      <td>FJ445213.1.2097 Bacteria;Pseudomonadota;Gammap...</td>\n",
       "      <td>96.8</td>\n",
       "      <td>277</td>\n",
       "      <td>3</td>\n",
       "      <td>4</td>\n",
       "      <td>111</td>\n",
       "      <td>382</td>\n",
       "      <td>684</td>\n",
       "      <td>959</td>\n",
       "      <td>1.400000e-111</td>\n",
       "      <td>407.4</td>\n",
       "    </tr>\n",
       "  </tbody>\n",
       "</table>\n",
       "</div>"
      ],
      "text/plain": [
       "                                            query_id  \\\n",
       "0  a2b699ad-4366-417b-bca1-c581eb29da90 runid=520...   \n",
       "1  ceb6ff52-c7ff-46cd-b3cf-9c2b7724967d runid=520...   \n",
       "\n",
       "                                          subject_id  perc_identity  \\\n",
       "0  FJ445213.1.2097 Bacteria;Pseudomonadota;Gammap...           89.7   \n",
       "1  FJ445213.1.2097 Bacteria;Pseudomonadota;Gammap...           96.8   \n",
       "\n",
       "   align_length  mismatches  gap_opens  q_start  q_end  s_start  s_end  \\\n",
       "0           291          10          8       91    373      681    959   \n",
       "1           277           3          4      111    382      684    959   \n",
       "\n",
       "          evalue  bit_score  \n",
       "0   4.100000e-72      276.3  \n",
       "1  1.400000e-111      407.4  "
      ]
     },
     "metadata": {},
     "output_type": "display_data"
    },
    {
     "data": {
      "text/markdown": [
       "---"
      ],
      "text/plain": [
       "<IPython.core.display.Markdown object>"
      ]
     },
     "metadata": {},
     "output_type": "display_data"
    }
   ],
   "source": [
    "# 1. Step similarity search\n",
    "# Input: split fasta files\n",
    "# Output: tabular similarity search results\n",
    "# commands:\n",
    "# usearch vs silva_v138.2 database (778 MB unzipped): usearch -usearch_local {input.fasta} -db {input.silva} -blast6out {output.silva_results} -evalue 1e-5 -threads {params.internal_threads} -strand plus -mincols 200 2> {log}\n",
    "# blastx vs card_v3.3.0 database (4.8 MB unzipped): blastx -query {input.fasta} -db {params.db}/card_db -out {output.card_results} -outfmt 6 -evalue 1e-5 -num_threads {params.internal_threads} 2> {log}\n",
    "\n",
    "import os,pathlib,pandas as pd\n",
    "from IPython.display import display, Markdown\n",
    "\n",
    "path = os.path.dirname(pathlib.Path().resolve())\n",
    "\n",
    "silva_result = os.path.join(path,\"results\",\"test_epic_data\",\"001\",\"SILVA_results.txt.gz\")\n",
    "card_result = os.path.join(path,\"results\",\"test_epic_data\",\"001\",\"card_results.txt.gz\")\n",
    "string1 = \"blastx -query {input.fasta} -db {params.db}/card_db -out {output.card_results} -outfmt 6 -evalue 1e-5 -num_threads {params.internal_threads} 2> {log}\"\n",
    "string2 = \"usearch -usearch_local {input.fasta} -db {input.silva} -blast6out {output.silva_results} -evalue 1e-5 -threads {params.internal_threads} -strand plus -mincols 200 2> {log}\"\n",
    "\n",
    "blast_columns = [\"query_id\", \"subject_id\", \"perc_identity\", \"align_length\", \"mismatches\",\"gap_opens\", \"q_start\", \"q_end\", \"s_start\", \"s_end\", \"evalue\", \"bit_score\"]\n",
    "\n",
    "for i in [[card_result,\"Card Similarity Search Result (BLASTX)\",string1],[silva_result,\"Silva Similarity Search Result (usearch)\",string2]]:\n",
    "    df = pd.read_csv(i[0],names=blast_columns,compression='gzip',sep='\\t')\n",
    "    summary = df.agg({\"perc_identity\": [\"mean\", \"min\", \"max\"],\"align_length\": [\"mean\", \"min\", \"max\"],\"evalue\": [\"mean\", \"min\", \"max\"]}).style.format({\"perc_identity\": \"{:.2f}\",\"align_length\": \"{:.2f}\",\"evalue\": \"{:.2e}\"})\n",
    "    \n",
    "    display(Markdown(f\"## {i[1]}\"))\n",
    "    display(Markdown(f\" ```{i[2]}```\"))\n",
    "    display(Markdown(f\" Shape: {df.shape}\"))\n",
    "    display(summary)    \n",
    "    display(df.head(2))\n",
    "    display(Markdown(\"---\"))"
   ]
  },
  {
   "cell_type": "code",
   "execution_count": 6,
   "metadata": {},
   "outputs": [
    {
     "data": {
      "text/markdown": [
       "\n",
       "# Integrating information\n",
       "## Mapping input: ARO File\n",
       "- Shape: (5227, 12)\n",
       "\n",
       "- Mapping to CARD results: ```df.merge(aro_df, on='ARO Accession', how='left')```\n",
       "---\n"
      ],
      "text/plain": [
       "<IPython.core.display.Markdown object>"
      ]
     },
     "metadata": {},
     "output_type": "display_data"
    },
    {
     "data": {
      "text/html": [
       "<div>\n",
       "<style scoped>\n",
       "    .dataframe tbody tr th:only-of-type {\n",
       "        vertical-align: middle;\n",
       "    }\n",
       "\n",
       "    .dataframe tbody tr th {\n",
       "        vertical-align: top;\n",
       "    }\n",
       "\n",
       "    .dataframe thead th {\n",
       "        text-align: right;\n",
       "    }\n",
       "</style>\n",
       "<table border=\"1\" class=\"dataframe\">\n",
       "  <thead>\n",
       "    <tr style=\"text-align: right;\">\n",
       "      <th></th>\n",
       "      <th>ARO Accession</th>\n",
       "      <th>CVTERM ID</th>\n",
       "      <th>Model Sequence ID</th>\n",
       "      <th>Model ID</th>\n",
       "      <th>Model Name</th>\n",
       "      <th>ARO Name</th>\n",
       "      <th>Protein Accession</th>\n",
       "      <th>DNA Accession</th>\n",
       "      <th>AMR Gene Family</th>\n",
       "      <th>Drug Class</th>\n",
       "      <th>Resistance Mechanism</th>\n",
       "      <th>CARD Short Name</th>\n",
       "    </tr>\n",
       "  </thead>\n",
       "  <tbody>\n",
       "    <tr>\n",
       "      <th>2694</th>\n",
       "      <td>ARO:3007561</td>\n",
       "      <td>46334</td>\n",
       "      <td>8699</td>\n",
       "      <td>5977</td>\n",
       "      <td>OXA-1038</td>\n",
       "      <td>OXA-1038</td>\n",
       "      <td>UBJ91323.1</td>\n",
       "      <td>OK180617.1</td>\n",
       "      <td>OXA beta-lactamase;OXA-48-like beta-lactamase</td>\n",
       "      <td>carbapenem;penam</td>\n",
       "      <td>antibiotic inactivation</td>\n",
       "      <td>OXA-1038</td>\n",
       "    </tr>\n",
       "    <tr>\n",
       "      <th>2695</th>\n",
       "      <td>ARO:3007562</td>\n",
       "      <td>46335</td>\n",
       "      <td>8700</td>\n",
       "      <td>5978</td>\n",
       "      <td>OXA-1039</td>\n",
       "      <td>OXA-1039</td>\n",
       "      <td>UBJ91324.1</td>\n",
       "      <td>OK180618.1</td>\n",
       "      <td>OXA beta-lactamase;OXA-48-like beta-lactamase</td>\n",
       "      <td>carbapenem;penam</td>\n",
       "      <td>antibiotic inactivation</td>\n",
       "      <td>OXA-1039</td>\n",
       "    </tr>\n",
       "  </tbody>\n",
       "</table>\n",
       "</div>"
      ],
      "text/plain": [
       "     ARO Accession  CVTERM ID  Model Sequence ID  Model ID Model Name  \\\n",
       "2694   ARO:3007561      46334               8699      5977   OXA-1038   \n",
       "2695   ARO:3007562      46335               8700      5978   OXA-1039   \n",
       "\n",
       "      ARO Name Protein Accession DNA Accession  \\\n",
       "2694  OXA-1038        UBJ91323.1    OK180617.1   \n",
       "2695  OXA-1039        UBJ91324.1    OK180618.1   \n",
       "\n",
       "                                    AMR Gene Family        Drug Class  \\\n",
       "2694  OXA beta-lactamase;OXA-48-like beta-lactamase  carbapenem;penam   \n",
       "2695  OXA beta-lactamase;OXA-48-like beta-lactamase  carbapenem;penam   \n",
       "\n",
       "         Resistance Mechanism CARD Short Name  \n",
       "2694  antibiotic inactivation        OXA-1038  \n",
       "2695  antibiotic inactivation        OXA-1039  "
      ]
     },
     "metadata": {},
     "output_type": "display_data"
    },
    {
     "data": {
      "text/markdown": [
       "\n",
       "## Additional Information Added\n",
       "---\n",
       "### 1. Adding 16S/ABR Rows\n",
       "- Rows with 16S: **812**\n",
       "- Rows with ABR: **127693**\n",
       "\n",
       "### 2. Orientation of Queries (Abandoned)\n",
       "- Unique query orientations with counts:\n",
       "  ```{'forward': 74492, 'reverse': 54013}```\n",
       "### 3. Adding Column for Relevant Information of subject_id\n",
       "Enterobacter <--- FJ445213.1.2097 Bacteria;Pseudomonadota;Gammaproteobacteria;Enterobacterales;Enterobacteriaceae;Enterobacter;Pantoea sp. NIIST-167\n",
       "\n",
       "ARO:3006030 <--- gb|WP_140423324.1|ARO:3006030|OXA-833\n"
      ],
      "text/plain": [
       "<IPython.core.display.Markdown object>"
      ]
     },
     "metadata": {},
     "output_type": "display_data"
    },
    {
     "data": {
      "text/markdown": [
       "\n",
       "## Integrated Filtered Results\n",
       "- **Shape**: (128505, 29)\n",
       "---\n",
       "### Summary Statistics\n"
      ],
      "text/plain": [
       "<IPython.core.display.Markdown object>"
      ]
     },
     "metadata": {},
     "output_type": "display_data"
    },
    {
     "data": {
      "text/html": [
       "<style type=\"text/css\">\n",
       "</style>\n",
       "<table id=\"T_49e6d\">\n",
       "  <thead>\n",
       "    <tr>\n",
       "      <th class=\"blank level0\" >&nbsp;</th>\n",
       "      <th id=\"T_49e6d_level0_col0\" class=\"col_heading level0 col0\" >perc_identity</th>\n",
       "      <th id=\"T_49e6d_level0_col1\" class=\"col_heading level0 col1\" >align_length</th>\n",
       "      <th id=\"T_49e6d_level0_col2\" class=\"col_heading level0 col2\" >evalue</th>\n",
       "    </tr>\n",
       "  </thead>\n",
       "  <tbody>\n",
       "    <tr>\n",
       "      <th id=\"T_49e6d_level0_row0\" class=\"row_heading level0 row0\" >mean</th>\n",
       "      <td id=\"T_49e6d_row0_col0\" class=\"data row0 col0\" >74.05</td>\n",
       "      <td id=\"T_49e6d_row0_col1\" class=\"data row0 col1\" >41</td>\n",
       "      <td id=\"T_49e6d_row0_col2\" class=\"data row0 col2\" >2.15e-07</td>\n",
       "    </tr>\n",
       "    <tr>\n",
       "      <th id=\"T_49e6d_level0_row1\" class=\"row_heading level0 row1\" >min</th>\n",
       "      <td id=\"T_49e6d_row1_col0\" class=\"data row1 col0\" >20.00</td>\n",
       "      <td id=\"T_49e6d_row1_col1\" class=\"data row1 col1\" >7</td>\n",
       "      <td id=\"T_49e6d_row1_col2\" class=\"data row1 col2\" >9.80e-143</td>\n",
       "    </tr>\n",
       "    <tr>\n",
       "      <th id=\"T_49e6d_level0_row2\" class=\"row_heading level0 row2\" >max</th>\n",
       "      <td id=\"T_49e6d_row2_col0\" class=\"data row2 col0\" >100.00</td>\n",
       "      <td id=\"T_49e6d_row2_col1\" class=\"data row2 col1\" >332</td>\n",
       "      <td id=\"T_49e6d_row2_col2\" class=\"data row2 col2\" >1.00e-05</td>\n",
       "    </tr>\n",
       "  </tbody>\n",
       "</table>\n"
      ],
      "text/plain": [
       "<pandas.io.formats.style.Styler at 0x7f09b8858d00>"
      ]
     },
     "metadata": {},
     "output_type": "display_data"
    },
    {
     "data": {
      "text/html": [
       "<div>\n",
       "<style scoped>\n",
       "    .dataframe tbody tr th:only-of-type {\n",
       "        vertical-align: middle;\n",
       "    }\n",
       "\n",
       "    .dataframe tbody tr th {\n",
       "        vertical-align: top;\n",
       "    }\n",
       "\n",
       "    .dataframe thead th {\n",
       "        text-align: right;\n",
       "    }\n",
       "</style>\n",
       "<table border=\"1\" class=\"dataframe\">\n",
       "  <thead>\n",
       "    <tr style=\"text-align: right;\">\n",
       "      <th></th>\n",
       "      <th>query_id</th>\n",
       "      <th>subject_id</th>\n",
       "      <th>perc_identity</th>\n",
       "      <th>align_length</th>\n",
       "      <th>mismatches</th>\n",
       "      <th>gap_opens</th>\n",
       "      <th>q_start</th>\n",
       "      <th>q_end</th>\n",
       "      <th>s_start</th>\n",
       "      <th>s_end</th>\n",
       "      <th>...</th>\n",
       "      <th>Model Sequence ID</th>\n",
       "      <th>Model ID</th>\n",
       "      <th>Model Name</th>\n",
       "      <th>ARO Name</th>\n",
       "      <th>Protein Accession</th>\n",
       "      <th>DNA Accession</th>\n",
       "      <th>AMR Gene Family</th>\n",
       "      <th>Drug Class</th>\n",
       "      <th>Resistance Mechanism</th>\n",
       "      <th>CARD Short Name</th>\n",
       "    </tr>\n",
       "  </thead>\n",
       "  <tbody>\n",
       "    <tr>\n",
       "      <th>0</th>\n",
       "      <td>a2b699ad-4366-417b-bca1-c581eb29da90 runid=520...</td>\n",
       "      <td>FJ445213.1.2097 Bacteria;Pseudomonadota;Gammap...</td>\n",
       "      <td>89.700</td>\n",
       "      <td>291</td>\n",
       "      <td>10</td>\n",
       "      <td>8</td>\n",
       "      <td>91</td>\n",
       "      <td>373</td>\n",
       "      <td>681</td>\n",
       "      <td>959</td>\n",
       "      <td>...</td>\n",
       "      <td>NaN</td>\n",
       "      <td>NaN</td>\n",
       "      <td>NaN</td>\n",
       "      <td>NaN</td>\n",
       "      <td>NaN</td>\n",
       "      <td>NaN</td>\n",
       "      <td>NaN</td>\n",
       "      <td>NaN</td>\n",
       "      <td>NaN</td>\n",
       "      <td>NaN</td>\n",
       "    </tr>\n",
       "    <tr>\n",
       "      <th>812</th>\n",
       "      <td>92ab8f0f-4af2-463d-bebc-5437988c2a71</td>\n",
       "      <td>gb|WP_140423324.1|ARO:3006030|OXA-833</td>\n",
       "      <td>86.111</td>\n",
       "      <td>36</td>\n",
       "      <td>5</td>\n",
       "      <td>0</td>\n",
       "      <td>167</td>\n",
       "      <td>60</td>\n",
       "      <td>35</td>\n",
       "      <td>70</td>\n",
       "      <td>...</td>\n",
       "      <td>7510.0</td>\n",
       "      <td>5135.0</td>\n",
       "      <td>OXA-833</td>\n",
       "      <td>OXA-833</td>\n",
       "      <td>WP_140423324.1</td>\n",
       "      <td>NG_065443.1</td>\n",
       "      <td>OXA beta-lactamase;OXA-48-like beta-lactamase</td>\n",
       "      <td>carbapenem;penam</td>\n",
       "      <td>antibiotic inactivation</td>\n",
       "      <td>OXA-833</td>\n",
       "    </tr>\n",
       "  </tbody>\n",
       "</table>\n",
       "<p>2 rows × 29 columns</p>\n",
       "</div>"
      ],
      "text/plain": [
       "                                              query_id  \\\n",
       "0    a2b699ad-4366-417b-bca1-c581eb29da90 runid=520...   \n",
       "812               92ab8f0f-4af2-463d-bebc-5437988c2a71   \n",
       "\n",
       "                                            subject_id  perc_identity  \\\n",
       "0    FJ445213.1.2097 Bacteria;Pseudomonadota;Gammap...         89.700   \n",
       "812              gb|WP_140423324.1|ARO:3006030|OXA-833         86.111   \n",
       "\n",
       "     align_length  mismatches  gap_opens  q_start  q_end  s_start  s_end  ...  \\\n",
       "0             291          10          8       91    373      681    959  ...   \n",
       "812            36           5          0      167     60       35     70  ...   \n",
       "\n",
       "     Model Sequence ID  Model ID Model Name ARO Name  Protein Accession  \\\n",
       "0                  NaN       NaN        NaN      NaN                NaN   \n",
       "812             7510.0    5135.0    OXA-833  OXA-833     WP_140423324.1   \n",
       "\n",
       "    DNA Accession                                AMR Gene Family  \\\n",
       "0             NaN                                            NaN   \n",
       "812   NG_065443.1  OXA beta-lactamase;OXA-48-like beta-lactamase   \n",
       "\n",
       "           Drug Class     Resistance Mechanism  CARD Short Name  \n",
       "0                 NaN                      NaN              NaN  \n",
       "812  carbapenem;penam  antibiotic inactivation          OXA-833  \n",
       "\n",
       "[2 rows x 29 columns]"
      ]
     },
     "metadata": {},
     "output_type": "display_data"
    }
   ],
   "source": [
    "# 2. Integrate similarity search results\n",
    "# Selfwritten python script \"integrate_blast_data.py\"\n",
    "# Input: blastx, usearch results, ARO Mapping file\n",
    "# Output: Processed integrated search results\n",
    "\n",
    "aro_mapping = os.path.join(path, \"data\", \"card_db\", \"aro_index.tsv\")\n",
    "aro_df = pd.read_csv(aro_mapping, sep=\"\\t\")\n",
    "\n",
    "int_result = os.path.join(path, \"results\", \"test_epic_data\", \"001\", \"integrated_filtered_results.csv\")\n",
    "int_df = pd.read_csv(int_result, sep=\",\", low_memory=False)\n",
    "\n",
    "display(Markdown(f\"\"\"\n",
    "# Integrating information\n",
    "## Mapping input: ARO File\n",
    "- Shape: {aro_df.shape}\\n\n",
    "- Mapping to CARD results: ```df.merge(aro_df, on='ARO Accession', how='left')```\n",
    "---\n",
    "\"\"\"))\n",
    "\n",
    "display(aro_df[aro_df[\"AMR Gene Family\"] == \"OXA beta-lactamase;OXA-48-like beta-lactamase\"].head(2))\n",
    "\n",
    "rows_16s = len(int_df[int_df[\"part\"] == '16S'])\n",
    "rows_abr = len(int_df[int_df[\"part\"] == 'ABR'])\n",
    "orientation_counts = int_df['orientation'].value_counts().to_dict()\n",
    "subject_id_16 = int_df[int_df[\"part\"] == \"16S\"][\"subject_id\"].iloc[0]\n",
    "subject_id_abr = int_df[int_df[\"part\"] == \"ABR\"][\"subject_id\"].iloc[0]\n",
    "\n",
    "display(Markdown(f\"\"\"\n",
    "## Additional Information Added\n",
    "---\n",
    "### 1. Adding 16S/ABR Rows\n",
    "- Rows with 16S: **{rows_16s}**\n",
    "- Rows with ABR: **{rows_abr}**\n",
    "\n",
    "### 2. Orientation of Queries (Abandoned)\n",
    "- Unique query orientations with counts:\n",
    "  ```{orientation_counts}```\n",
    "### 3. Adding Column for Relevant Information of subject_id\n",
    "{subject_id_16.split(\";\")[-2]} <--- {subject_id_16}\\n\n",
    "{subject_id_abr.split(\"|\")[-2]} <--- {subject_id_abr}\n",
    "\"\"\"))\n",
    "\n",
    "part_16S = int_df[int_df[\"part\"] == '16S'].head(1)\n",
    "part_ABR = int_df[int_df[\"part\"] == 'ABR'].head(1)\n",
    "summary = int_df.agg({\"perc_identity\": [\"mean\", \"min\", \"max\"],\"align_length\": [\"mean\", \"min\", \"max\"],\"evalue\": [\"mean\", \"min\", \"max\"]}).style.format({\"perc_identity\": \"{:.2f}\",\"align_length\": \"{:.0f}\",\"evalue\": \"{:.2e}\"})\n",
    "\n",
    "display(Markdown(f\"\"\"\n",
    "## Integrated Filtered Results\n",
    "- **Shape**: {int_df.shape}\n",
    "---\n",
    "### Summary Statistics\n",
    "\"\"\"))\n",
    "\n",
    "display(summary)\n",
    "display(pd.concat([part_16S, part_ABR]))\n"
   ]
  },
  {
   "cell_type": "code",
   "execution_count": 7,
   "metadata": {},
   "outputs": [
    {
     "data": {
      "text/markdown": [
       "\n",
       "# Filtering Steps\n",
       "---\n",
       "### 1. Filter by minimal similarity (default 0.8)\n",
       "\n",
       "- ```f_df1 = df[df['perc_identity'] > 80.0]```\n",
       "\n",
       "- Integrated dataframe before reduction: 128505 vs after reduction **51019** (reduction of 77486)\n",
       "---\n"
      ],
      "text/plain": [
       "<IPython.core.display.Markdown object>"
      ]
     },
     "metadata": {},
     "output_type": "display_data"
    },
    {
     "data": {
      "text/markdown": [
       "\n",
       "### 2. Keep maximum percentage hit per query and datapart (16S/ABR):\n",
       "\n",
       "- Dataframe is split in dataparts (ABR and 16S): ```abr = f_df1[f_df1['part'] == ABR]```\n",
       "\n",
       "- Dataparts are grouped by query_id and processed: ```f_df2 = abr.groupby('query_id').apply(give_max_hit)```\n",
       "\n",
       "Datapart 'ABR' before reduction: 50208 vs after reduction: **29739** (reduction of 20469)\n",
       "\n",
       "Datapart '16S' before reduction: 811 vs after reduction: **798** (reduction of 13)\n",
       "\n",
       "---\n"
      ],
      "text/plain": [
       "<IPython.core.display.Markdown object>"
      ]
     },
     "metadata": {},
     "output_type": "display_data"
    },
    {
     "data": {
      "text/markdown": [
       "\n",
       "### Step 3: Keep only common queries in both parts\n",
       "- Common query IDs found between ABR and 16S.\n",
       "- Filtered data merged into a final dataset:\n",
       "\n",
       "  ```common = pd.Index(abr_data['query_id']).intersection(sixteen_s_data['query_id'])```\n",
       "\n",
       "  ```abr_filtered = abr_data[abr_data['query_id'].isin(common)]```\n",
       "\n",
       "  ```sixteen_s_filtered = sixteen_s_data[sixteen_s_data['query_id'].isin(common)]```\n",
       "\n",
       "  ```final_df = pd.concat([abr_filtered, sixteen_s_filtered])```\n",
       "\n",
       "Datapart 'ABR' before reduction: 29739 vs after reduction: **12465** (reduction of 17274)\n",
       "\n",
       "Datapart '16S' before reduction: 798 vs after reduction: **478** (reduction of 320)\n",
       "\n",
       "---\n"
      ],
      "text/plain": [
       "<IPython.core.display.Markdown object>"
      ]
     },
     "metadata": {},
     "output_type": "display_data"
    },
    {
     "data": {
      "text/markdown": [
       "\n",
       "### Final step: remerge filtered dataparts ABR/16S\n",
       "\n",
       "```final_df = pd.concat([f_df3_abr, f_df3_16S])```\n",
       "\n",
       "Filtered results before reduction: 128505 vs after reduction: **12943** (reduction of 115562)\n",
       "\n",
       "-> for every split fasta file, one filtered_results.csv file is saved\n",
       "---\n",
       "### filtered_result.csv\n",
       "\n"
      ],
      "text/plain": [
       "<IPython.core.display.Markdown object>"
      ]
     },
     "metadata": {},
     "output_type": "display_data"
    },
    {
     "data": {
      "text/html": [
       "<style type=\"text/css\">\n",
       "</style>\n",
       "<table id=\"T_8a5d6\">\n",
       "  <thead>\n",
       "    <tr>\n",
       "      <th class=\"blank level0\" >&nbsp;</th>\n",
       "      <th id=\"T_8a5d6_level0_col0\" class=\"col_heading level0 col0\" >perc_identity</th>\n",
       "      <th id=\"T_8a5d6_level0_col1\" class=\"col_heading level0 col1\" >align_length</th>\n",
       "      <th id=\"T_8a5d6_level0_col2\" class=\"col_heading level0 col2\" >evalue</th>\n",
       "    </tr>\n",
       "  </thead>\n",
       "  <tbody>\n",
       "    <tr>\n",
       "      <th id=\"T_8a5d6_level0_row0\" class=\"row_heading level0 row0\" >mean</th>\n",
       "      <td id=\"T_8a5d6_row0_col0\" class=\"data row0 col0\" >90.85</td>\n",
       "      <td id=\"T_8a5d6_row0_col1\" class=\"data row0 col1\" >43</td>\n",
       "      <td id=\"T_8a5d6_row0_col2\" class=\"data row0 col2\" >1.21e-07</td>\n",
       "    </tr>\n",
       "    <tr>\n",
       "      <th id=\"T_8a5d6_level0_row1\" class=\"row_heading level0 row1\" >min</th>\n",
       "      <td id=\"T_8a5d6_row1_col0\" class=\"data row1 col0\" >80.33</td>\n",
       "      <td id=\"T_8a5d6_row1_col1\" class=\"data row1 col1\" >8</td>\n",
       "      <td id=\"T_8a5d6_row1_col2\" class=\"data row1 col2\" >9.80e-143</td>\n",
       "    </tr>\n",
       "    <tr>\n",
       "      <th id=\"T_8a5d6_level0_row2\" class=\"row_heading level0 row2\" >max</th>\n",
       "      <td id=\"T_8a5d6_row2_col0\" class=\"data row2 col0\" >100.00</td>\n",
       "      <td id=\"T_8a5d6_row2_col1\" class=\"data row2 col1\" >332</td>\n",
       "      <td id=\"T_8a5d6_row2_col2\" class=\"data row2 col2\" >9.93e-06</td>\n",
       "    </tr>\n",
       "  </tbody>\n",
       "</table>\n"
      ],
      "text/plain": [
       "<pandas.io.formats.style.Styler at 0x7ea9a3ee9c90>"
      ]
     },
     "metadata": {},
     "output_type": "display_data"
    },
    {
     "data": {
      "text/html": [
       "<div>\n",
       "<style scoped>\n",
       "    .dataframe tbody tr th:only-of-type {\n",
       "        vertical-align: middle;\n",
       "    }\n",
       "\n",
       "    .dataframe tbody tr th {\n",
       "        vertical-align: top;\n",
       "    }\n",
       "\n",
       "    .dataframe thead th {\n",
       "        text-align: right;\n",
       "    }\n",
       "</style>\n",
       "<table border=\"1\" class=\"dataframe\">\n",
       "  <thead>\n",
       "    <tr style=\"text-align: right;\">\n",
       "      <th></th>\n",
       "      <th>query_id</th>\n",
       "      <th>subject_id</th>\n",
       "      <th>perc_identity</th>\n",
       "      <th>align_length</th>\n",
       "      <th>mismatches</th>\n",
       "      <th>gap_opens</th>\n",
       "      <th>q_start</th>\n",
       "      <th>q_end</th>\n",
       "      <th>s_start</th>\n",
       "      <th>s_end</th>\n",
       "      <th>...</th>\n",
       "      <th>Model Sequence ID</th>\n",
       "      <th>Model ID</th>\n",
       "      <th>Model Name</th>\n",
       "      <th>ARO Name</th>\n",
       "      <th>Protein Accession</th>\n",
       "      <th>DNA Accession</th>\n",
       "      <th>AMR Gene Family</th>\n",
       "      <th>Drug Class</th>\n",
       "      <th>Resistance Mechanism</th>\n",
       "      <th>CARD Short Name</th>\n",
       "    </tr>\n",
       "  </thead>\n",
       "  <tbody>\n",
       "    <tr>\n",
       "      <th>2</th>\n",
       "      <td>01084849-a66d-4ea6-9bb0-f622dc8e056d</td>\n",
       "      <td>AY941832.1.1504 Bacteria;Pseudomonadota;Gammap...</td>\n",
       "      <td>91.600</td>\n",
       "      <td>286</td>\n",
       "      <td>13</td>\n",
       "      <td>6</td>\n",
       "      <td>78</td>\n",
       "      <td>352</td>\n",
       "      <td>709</td>\n",
       "      <td>994</td>\n",
       "      <td>...</td>\n",
       "      <td>NaN</td>\n",
       "      <td>NaN</td>\n",
       "      <td>NaN</td>\n",
       "      <td>NaN</td>\n",
       "      <td>NaN</td>\n",
       "      <td>NaN</td>\n",
       "      <td>NaN</td>\n",
       "      <td>NaN</td>\n",
       "      <td>NaN</td>\n",
       "      <td>NaN</td>\n",
       "    </tr>\n",
       "    <tr>\n",
       "      <th>148</th>\n",
       "      <td>01084849-a66d-4ea6-9bb0-f622dc8e056d</td>\n",
       "      <td>gb|WP_178317675.1|ARO:3006088|OXA-900</td>\n",
       "      <td>82.759</td>\n",
       "      <td>29</td>\n",
       "      <td>5</td>\n",
       "      <td>0</td>\n",
       "      <td>452</td>\n",
       "      <td>538</td>\n",
       "      <td>44</td>\n",
       "      <td>72</td>\n",
       "      <td>...</td>\n",
       "      <td>7568.0</td>\n",
       "      <td>5193.0</td>\n",
       "      <td>OXA-900</td>\n",
       "      <td>OXA-900</td>\n",
       "      <td>WP_178317675.1</td>\n",
       "      <td>NG_070745.1</td>\n",
       "      <td>OXA beta-lactamase</td>\n",
       "      <td>penam</td>\n",
       "      <td>antibiotic inactivation</td>\n",
       "      <td>OXA-900</td>\n",
       "    </tr>\n",
       "  </tbody>\n",
       "</table>\n",
       "<p>2 rows × 29 columns</p>\n",
       "</div>"
      ],
      "text/plain": [
       "                                 query_id  \\\n",
       "2    01084849-a66d-4ea6-9bb0-f622dc8e056d   \n",
       "148  01084849-a66d-4ea6-9bb0-f622dc8e056d   \n",
       "\n",
       "                                            subject_id  perc_identity  \\\n",
       "2    AY941832.1.1504 Bacteria;Pseudomonadota;Gammap...         91.600   \n",
       "148              gb|WP_178317675.1|ARO:3006088|OXA-900         82.759   \n",
       "\n",
       "     align_length  mismatches  gap_opens  q_start  q_end  s_start  s_end  ...  \\\n",
       "2             286          13          6       78    352      709    994  ...   \n",
       "148            29           5          0      452    538       44     72  ...   \n",
       "\n",
       "     Model Sequence ID  Model ID Model Name ARO Name  Protein Accession  \\\n",
       "2                  NaN       NaN        NaN      NaN                NaN   \n",
       "148             7568.0    5193.0    OXA-900  OXA-900     WP_178317675.1   \n",
       "\n",
       "    DNA Accession     AMR Gene Family Drug Class     Resistance Mechanism  \\\n",
       "2             NaN                 NaN        NaN                      NaN   \n",
       "148   NG_070745.1  OXA beta-lactamase      penam  antibiotic inactivation   \n",
       "\n",
       "     CARD Short Name  \n",
       "2                NaN  \n",
       "148          OXA-900  \n",
       "\n",
       "[2 rows x 29 columns]"
      ]
     },
     "metadata": {},
     "output_type": "display_data"
    }
   ],
   "source": [
    "# 3. Filter Blast results\n",
    "# Selfwritten python script \"filter_blast_results.py\"\n",
    "# Input: integrated_filtered_results.csv\n",
    "# Output: filtered_results.csv\n",
    "\n",
    "def process_orientation_and_counts(group):\n",
    "    max_perc_identity = group[\"perc_identity\"].max()\n",
    "    filtered_group = group[group[\"perc_identity\"] == max_perc_identity]\n",
    "    return filtered_group\n",
    "\n",
    "minsim = int_df[int_df['perc_identity'] > 80.0]\n",
    "\n",
    "display(Markdown(f\"\"\"\n",
    "# Filtering Steps\n",
    "---\n",
    "### 1. Filter by minimal similarity (default 0.8)\\n\n",
    "- ```f_df1 = df[df['perc_identity'] > 80.0]```\\n\n",
    "- Integrated dataframe before reduction: {int_df.shape[0]} vs after reduction **{minsim.shape[0]}** (reduction of {int_df.shape[0]-minsim.shape[0]})\n",
    "---\n",
    "\"\"\"))\n",
    "\n",
    "abr_data = minsim[(minsim['part'] == 'ABR')]\n",
    "abr_before = abr_data.shape[0]\n",
    "abr_data = abr_data.groupby(\"query_id\").apply(process_orientation_and_counts).reset_index(drop=True)\n",
    "abr_after = abr_data.shape[0]\n",
    "\n",
    "sixteen_s_data = minsim[(minsim['part'] == '16S')]\n",
    "sixteen_s_before = sixteen_s_data.shape[0]\n",
    "sixteen_s_data = sixteen_s_data.copy()\n",
    "sixteen_s_data[\"query_id\"] = sixteen_s_data[\"query_id\"].str.split(expand=True)[0]\n",
    "sixteen_s_data = sixteen_s_data.groupby(\"query_id\").apply(process_orientation_and_counts).reset_index(drop=True)\n",
    "sixteen_s_after = sixteen_s_data.shape[0]\n",
    "\n",
    "display(Markdown(f\"\"\"\n",
    "### 2. Keep maximum percentage hit per query and datapart (16S/ABR):\\n\n",
    "- Dataframe is split in dataparts (ABR and 16S): ```abr = f_df1[f_df1['part'] == ABR]```\\n\n",
    "- Dataparts are grouped by query_id and processed: ```f_df2 = abr.groupby('query_id').apply(give_max_hit)```\\n\n",
    "Datapart \\'ABR\\' before reduction: {abr_before} vs after reduction: **{abr_after}** (reduction of {abr_before-abr_after})\\n\n",
    "Datapart \\'16S\\' before reduction: {sixteen_s_before} vs after reduction: **{sixteen_s_after}** (reduction of {sixteen_s_before-sixteen_s_after})\\n\n",
    "---\n",
    "\"\"\"))\n",
    "\n",
    "common_query_ids = pd.Index(abr_data['query_id']).intersection(sixteen_s_data['query_id'])\n",
    "abr_data_filtered = abr_data[abr_data['query_id'].isin(common_query_ids)]\n",
    "sixteen_s_data_filtered = sixteen_s_data[sixteen_s_data['query_id'].isin(common_query_ids)]\n",
    "remerged_df = pd.concat([abr_data_filtered, sixteen_s_data_filtered])\n",
    "\n",
    "display(Markdown(f\"\"\"\n",
    "### Step 3: Keep only common queries in both parts\n",
    "- Common query IDs found between ABR and 16S.\n",
    "- Filtered data merged into a final dataset:\\n\n",
    "  ```common = pd.Index(abr_data['query_id']).intersection(sixteen_s_data['query_id'])```\\n\n",
    "  ```abr_filtered = abr_data[abr_data['query_id'].isin(common)]```\\n\n",
    "  ```sixteen_s_filtered = sixteen_s_data[sixteen_s_data['query_id'].isin(common)]```\\n\n",
    "  ```final_df = pd.concat([abr_filtered, sixteen_s_filtered])```\\n\n",
    "Datapart \\'ABR\\' before reduction: {abr_after} vs after reduction: **{abr_data_filtered.shape[0]}** (reduction of {abr_after-abr_data_filtered.shape[0]})\\n\n",
    "Datapart \\'16S\\' before reduction: {sixteen_s_after} vs after reduction: **{sixteen_s_data_filtered.shape[0]}** (reduction of {sixteen_s_after-sixteen_s_data_filtered.shape[0]})\\n\n",
    "---\n",
    "\"\"\"))\n",
    "\n",
    "part_ABR = abr_data_filtered.head(1)\n",
    "part_16S = sixteen_s_data_filtered.head(1)\n",
    "summary = remerged_df.agg({\"perc_identity\": [\"mean\", \"min\", \"max\"],\"align_length\": [\"mean\", \"min\", \"max\"],\"evalue\": [\"mean\", \"min\", \"max\"]}).style.format({\"perc_identity\": \"{:.2f}\",\"align_length\": \"{:.0f}\",\"evalue\": \"{:.2e}\"})\n",
    "\n",
    "display(Markdown(f\"\"\"\n",
    "### Final step: remerge filtered dataparts ABR/16S\\n\n",
    "```final_df = pd.concat([f_df3_abr, f_df3_16S])```\\n\n",
    "Filtered results before reduction: {int_df.shape[0]} vs after reduction: **{remerged_df.shape[0]}** (reduction of {int_df.shape[0]-remerged_df.shape[0]})\\n\n",
    "-> for every split fasta file, one filtered_results.csv file is saved\n",
    "---\n",
    "### filtered_result.csv\\n\n",
    "\"\"\"))\n",
    "\n",
    "display(summary)\n",
    "display(pd.concat([part_16S, part_ABR]))"
   ]
  },
  {
   "cell_type": "code",
   "execution_count": 29,
   "metadata": {},
   "outputs": [
    {
     "data": {
      "text/markdown": [
       "\n",
       "# Statistics of all integrated and filtered_files from Rozman (blastn and usearch)\n",
       "- 12 Fasta files with 10 splits each\n",
       "- similarity search blastx/blastn and blastx/usearch\n",
       "data gathered with a bash for-loop:\n",
       "\n",
       "```for i in *L001; do for j in $i/0*; do echo -ne \"$j,$(cat $j/filtered_results.csv|wc -l),$(du -hs $j/filtered_results.csv)\\n\" >> filtered_results_size.txt;done;done```\n",
       "\n",
       "```for i in *L001; do for j in $i/0*; do echo -ne \"$j,$(cat $j/integrated_filtered_results.csv|wc -l),$(du -hs $j/integrated_filtered_results.csv)\\n\" >> integrated_filtered_results_size.txt;done;done```\n",
       "\n",
       "plus 10 seconds manual change in the file preparing it as pandas input\n"
      ],
      "text/plain": [
       "<IPython.core.display.Markdown object>"
      ]
     },
     "metadata": {},
     "output_type": "display_data"
    },
    {
     "name": "stdout",
     "output_type": "stream",
     "text": [
      "Combined Summary per Fasta File witch blastn:\n"
     ]
    },
    {
     "data": {
      "text/html": [
       "<div>\n",
       "<style scoped>\n",
       "    .dataframe tbody tr th:only-of-type {\n",
       "        vertical-align: middle;\n",
       "    }\n",
       "\n",
       "    .dataframe tbody tr th {\n",
       "        vertical-align: top;\n",
       "    }\n",
       "\n",
       "    .dataframe thead tr th {\n",
       "        text-align: left;\n",
       "    }\n",
       "\n",
       "    .dataframe thead tr:last-of-type th {\n",
       "        text-align: right;\n",
       "    }\n",
       "</style>\n",
       "<table border=\"1\" class=\"dataframe\">\n",
       "  <thead>\n",
       "    <tr>\n",
       "      <th></th>\n",
       "      <th colspan=\"4\" halign=\"left\">Filtered</th>\n",
       "      <th colspan=\"4\" halign=\"left\">Integrated</th>\n",
       "    </tr>\n",
       "    <tr>\n",
       "      <th></th>\n",
       "      <th>total_lines</th>\n",
       "      <th>total_size_GB</th>\n",
       "      <th>average_lines</th>\n",
       "      <th>average_size_GB</th>\n",
       "      <th>total_lines</th>\n",
       "      <th>total_size_GB</th>\n",
       "      <th>average_lines</th>\n",
       "      <th>average_size_GB</th>\n",
       "    </tr>\n",
       "    <tr>\n",
       "      <th>fasta-file</th>\n",
       "      <th></th>\n",
       "      <th></th>\n",
       "      <th></th>\n",
       "      <th></th>\n",
       "      <th></th>\n",
       "      <th></th>\n",
       "      <th></th>\n",
       "      <th></th>\n",
       "    </tr>\n",
       "  </thead>\n",
       "  <tbody>\n",
       "    <tr>\n",
       "      <th>SRR25905310_L001</th>\n",
       "      <td>22,475,924</td>\n",
       "      <td>6.00</td>\n",
       "      <td>2,247,592</td>\n",
       "      <td>0.60</td>\n",
       "      <td>262,980,531</td>\n",
       "      <td>66.10</td>\n",
       "      <td>26,298,053</td>\n",
       "      <td>6.61</td>\n",
       "    </tr>\n",
       "    <tr>\n",
       "      <th>SRR25905311_L001</th>\n",
       "      <td>17,899,967</td>\n",
       "      <td>4.78</td>\n",
       "      <td>1,789,997</td>\n",
       "      <td>0.48</td>\n",
       "      <td>254,111,711</td>\n",
       "      <td>64.00</td>\n",
       "      <td>25,411,171</td>\n",
       "      <td>6.40</td>\n",
       "    </tr>\n",
       "    <tr>\n",
       "      <th>SRR25905312_L001</th>\n",
       "      <td>15,462,675</td>\n",
       "      <td>4.02</td>\n",
       "      <td>1,546,268</td>\n",
       "      <td>0.40</td>\n",
       "      <td>185,387,506</td>\n",
       "      <td>46.20</td>\n",
       "      <td>18,538,751</td>\n",
       "      <td>4.62</td>\n",
       "    </tr>\n",
       "    <tr>\n",
       "      <th>SRR25905313_L001</th>\n",
       "      <td>48,253,064</td>\n",
       "      <td>13.00</td>\n",
       "      <td>4,825,306</td>\n",
       "      <td>1.30</td>\n",
       "      <td>382,261,985</td>\n",
       "      <td>95.10</td>\n",
       "      <td>38,226,198</td>\n",
       "      <td>9.51</td>\n",
       "    </tr>\n",
       "    <tr>\n",
       "      <th>SRR25905314_L001</th>\n",
       "      <td>33,408,896</td>\n",
       "      <td>8.96</td>\n",
       "      <td>3,340,890</td>\n",
       "      <td>0.90</td>\n",
       "      <td>311,169,095</td>\n",
       "      <td>78.00</td>\n",
       "      <td>31,116,910</td>\n",
       "      <td>7.80</td>\n",
       "    </tr>\n",
       "    <tr>\n",
       "      <th>SRR25905316_L001</th>\n",
       "      <td>20,977,110</td>\n",
       "      <td>5.59</td>\n",
       "      <td>2,097,711</td>\n",
       "      <td>0.56</td>\n",
       "      <td>273,860,774</td>\n",
       "      <td>68.20</td>\n",
       "      <td>27,386,077</td>\n",
       "      <td>6.82</td>\n",
       "    </tr>\n",
       "    <tr>\n",
       "      <th>SRR25905317_L001</th>\n",
       "      <td>41,632,500</td>\n",
       "      <td>11.60</td>\n",
       "      <td>4,163,250</td>\n",
       "      <td>1.16</td>\n",
       "      <td>216,360,702</td>\n",
       "      <td>53.70</td>\n",
       "      <td>21,636,070</td>\n",
       "      <td>5.37</td>\n",
       "    </tr>\n",
       "    <tr>\n",
       "      <th>SRR25905318_L001</th>\n",
       "      <td>143,249,790</td>\n",
       "      <td>38.80</td>\n",
       "      <td>14,324,979</td>\n",
       "      <td>3.88</td>\n",
       "      <td>504,022,364</td>\n",
       "      <td>130.00</td>\n",
       "      <td>50,402,236</td>\n",
       "      <td>13.00</td>\n",
       "    </tr>\n",
       "    <tr>\n",
       "      <th>SRR25905319_L001</th>\n",
       "      <td>10,714,200</td>\n",
       "      <td>2.82</td>\n",
       "      <td>1,071,420</td>\n",
       "      <td>0.28</td>\n",
       "      <td>139,348,519</td>\n",
       "      <td>34.10</td>\n",
       "      <td>13,934,852</td>\n",
       "      <td>3.41</td>\n",
       "    </tr>\n",
       "    <tr>\n",
       "      <th>SRR25905320_L001</th>\n",
       "      <td>15,318,866</td>\n",
       "      <td>4.07</td>\n",
       "      <td>1,531,887</td>\n",
       "      <td>0.41</td>\n",
       "      <td>594,750,011</td>\n",
       "      <td>150.00</td>\n",
       "      <td>59,475,001</td>\n",
       "      <td>15.00</td>\n",
       "    </tr>\n",
       "    <tr>\n",
       "      <th>SRR25905321_L001</th>\n",
       "      <td>152,059,531</td>\n",
       "      <td>40.20</td>\n",
       "      <td>15,205,953</td>\n",
       "      <td>4.02</td>\n",
       "      <td>617,298,601</td>\n",
       "      <td>160.00</td>\n",
       "      <td>61,729,860</td>\n",
       "      <td>16.00</td>\n",
       "    </tr>\n",
       "    <tr>\n",
       "      <th>SRR25905322_L001</th>\n",
       "      <td>65,340,225</td>\n",
       "      <td>17.80</td>\n",
       "      <td>6,534,022</td>\n",
       "      <td>1.78</td>\n",
       "      <td>596,732,739</td>\n",
       "      <td>156.00</td>\n",
       "      <td>59,673,274</td>\n",
       "      <td>15.60</td>\n",
       "    </tr>\n",
       "  </tbody>\n",
       "</table>\n",
       "</div>"
      ],
      "text/plain": [
       "                     Filtered                                              \\\n",
       "                  total_lines total_size_GB average_lines average_size_GB   \n",
       "fasta-file                                                                  \n",
       "SRR25905310_L001   22,475,924          6.00     2,247,592            0.60   \n",
       "SRR25905311_L001   17,899,967          4.78     1,789,997            0.48   \n",
       "SRR25905312_L001   15,462,675          4.02     1,546,268            0.40   \n",
       "SRR25905313_L001   48,253,064         13.00     4,825,306            1.30   \n",
       "SRR25905314_L001   33,408,896          8.96     3,340,890            0.90   \n",
       "SRR25905316_L001   20,977,110          5.59     2,097,711            0.56   \n",
       "SRR25905317_L001   41,632,500         11.60     4,163,250            1.16   \n",
       "SRR25905318_L001  143,249,790         38.80    14,324,979            3.88   \n",
       "SRR25905319_L001   10,714,200          2.82     1,071,420            0.28   \n",
       "SRR25905320_L001   15,318,866          4.07     1,531,887            0.41   \n",
       "SRR25905321_L001  152,059,531         40.20    15,205,953            4.02   \n",
       "SRR25905322_L001   65,340,225         17.80     6,534,022            1.78   \n",
       "\n",
       "                   Integrated                                              \n",
       "                  total_lines total_size_GB average_lines average_size_GB  \n",
       "fasta-file                                                                 \n",
       "SRR25905310_L001  262,980,531         66.10    26,298,053            6.61  \n",
       "SRR25905311_L001  254,111,711         64.00    25,411,171            6.40  \n",
       "SRR25905312_L001  185,387,506         46.20    18,538,751            4.62  \n",
       "SRR25905313_L001  382,261,985         95.10    38,226,198            9.51  \n",
       "SRR25905314_L001  311,169,095         78.00    31,116,910            7.80  \n",
       "SRR25905316_L001  273,860,774         68.20    27,386,077            6.82  \n",
       "SRR25905317_L001  216,360,702         53.70    21,636,070            5.37  \n",
       "SRR25905318_L001  504,022,364        130.00    50,402,236           13.00  \n",
       "SRR25905319_L001  139,348,519         34.10    13,934,852            3.41  \n",
       "SRR25905320_L001  594,750,011        150.00    59,475,001           15.00  \n",
       "SRR25905321_L001  617,298,601        160.00    61,729,860           16.00  \n",
       "SRR25905322_L001  596,732,739        156.00    59,673,274           15.60  "
      ]
     },
     "metadata": {},
     "output_type": "display_data"
    },
    {
     "name": "stdout",
     "output_type": "stream",
     "text": [
      "Combined Summary per Fasta File with usearch:\n"
     ]
    },
    {
     "data": {
      "text/html": [
       "<div>\n",
       "<style scoped>\n",
       "    .dataframe tbody tr th:only-of-type {\n",
       "        vertical-align: middle;\n",
       "    }\n",
       "\n",
       "    .dataframe tbody tr th {\n",
       "        vertical-align: top;\n",
       "    }\n",
       "\n",
       "    .dataframe thead tr th {\n",
       "        text-align: left;\n",
       "    }\n",
       "\n",
       "    .dataframe thead tr:last-of-type th {\n",
       "        text-align: right;\n",
       "    }\n",
       "</style>\n",
       "<table border=\"1\" class=\"dataframe\">\n",
       "  <thead>\n",
       "    <tr>\n",
       "      <th></th>\n",
       "      <th colspan=\"4\" halign=\"left\">Filtered_usearch</th>\n",
       "      <th colspan=\"4\" halign=\"left\">Integrated_usearch</th>\n",
       "    </tr>\n",
       "    <tr>\n",
       "      <th></th>\n",
       "      <th>total_lines</th>\n",
       "      <th>total_size_GB</th>\n",
       "      <th>average_lines</th>\n",
       "      <th>average_size_GB</th>\n",
       "      <th>total_lines</th>\n",
       "      <th>total_size_GB</th>\n",
       "      <th>average_lines</th>\n",
       "      <th>average_size_GB</th>\n",
       "    </tr>\n",
       "    <tr>\n",
       "      <th>fasta-file</th>\n",
       "      <th></th>\n",
       "      <th></th>\n",
       "      <th></th>\n",
       "      <th></th>\n",
       "      <th></th>\n",
       "      <th></th>\n",
       "      <th></th>\n",
       "      <th></th>\n",
       "    </tr>\n",
       "  </thead>\n",
       "  <tbody>\n",
       "    <tr>\n",
       "      <th>SRR25905310_L001</th>\n",
       "      <td>10,120</td>\n",
       "      <td>0.0029</td>\n",
       "      <td>2,024</td>\n",
       "      <td>0.0006</td>\n",
       "      <td>32,213,224</td>\n",
       "      <td>8.5000</td>\n",
       "      <td>6,442,645</td>\n",
       "      <td>1.7000</td>\n",
       "    </tr>\n",
       "    <tr>\n",
       "      <th>SRR25905311_L001</th>\n",
       "      <td>15,133</td>\n",
       "      <td>0.0043</td>\n",
       "      <td>3,027</td>\n",
       "      <td>0.0009</td>\n",
       "      <td>33,220,688</td>\n",
       "      <td>9.0000</td>\n",
       "      <td>6,644,138</td>\n",
       "      <td>1.8000</td>\n",
       "    </tr>\n",
       "    <tr>\n",
       "      <th>SRR25905312_L001</th>\n",
       "      <td>14,970</td>\n",
       "      <td>0.0043</td>\n",
       "      <td>2,994</td>\n",
       "      <td>0.0009</td>\n",
       "      <td>25,337,655</td>\n",
       "      <td>7.0000</td>\n",
       "      <td>5,067,531</td>\n",
       "      <td>1.4000</td>\n",
       "    </tr>\n",
       "    <tr>\n",
       "      <th>SRR25905313_L001</th>\n",
       "      <td>1,337</td>\n",
       "      <td>0.0004</td>\n",
       "      <td>267</td>\n",
       "      <td>0.0001</td>\n",
       "      <td>80,433,249</td>\n",
       "      <td>19.5000</td>\n",
       "      <td>16,086,650</td>\n",
       "      <td>3.9000</td>\n",
       "    </tr>\n",
       "    <tr>\n",
       "      <th>SRR25905314_L001</th>\n",
       "      <td>8,464</td>\n",
       "      <td>0.0023</td>\n",
       "      <td>1,693</td>\n",
       "      <td>0.0005</td>\n",
       "      <td>72,868,503</td>\n",
       "      <td>18.0000</td>\n",
       "      <td>14,573,701</td>\n",
       "      <td>3.6000</td>\n",
       "    </tr>\n",
       "    <tr>\n",
       "      <th>SRR25905316_L001</th>\n",
       "      <td>37,897</td>\n",
       "      <td>0.0101</td>\n",
       "      <td>7,579</td>\n",
       "      <td>0.0020</td>\n",
       "      <td>67,388,359</td>\n",
       "      <td>16.5000</td>\n",
       "      <td>13,477,672</td>\n",
       "      <td>3.3000</td>\n",
       "    </tr>\n",
       "    <tr>\n",
       "      <th>SRR25905317_L001</th>\n",
       "      <td>7</td>\n",
       "      <td>0.0000</td>\n",
       "      <td>1</td>\n",
       "      <td>0.0000</td>\n",
       "      <td>12,210,544</td>\n",
       "      <td>3.0000</td>\n",
       "      <td>2,442,109</td>\n",
       "      <td>0.6000</td>\n",
       "    </tr>\n",
       "    <tr>\n",
       "      <th>SRR25905318_L001</th>\n",
       "      <td>989</td>\n",
       "      <td>0.0003</td>\n",
       "      <td>198</td>\n",
       "      <td>0.0001</td>\n",
       "      <td>16,189,859</td>\n",
       "      <td>4.0000</td>\n",
       "      <td>3,237,972</td>\n",
       "      <td>0.8000</td>\n",
       "    </tr>\n",
       "    <tr>\n",
       "      <th>SRR25905319_L001</th>\n",
       "      <td>5,555</td>\n",
       "      <td>0.0015</td>\n",
       "      <td>1,111</td>\n",
       "      <td>0.0003</td>\n",
       "      <td>21,165,260</td>\n",
       "      <td>5.2000</td>\n",
       "      <td>4,233,052</td>\n",
       "      <td>1.0400</td>\n",
       "    </tr>\n",
       "    <tr>\n",
       "      <th>SRR25905320_L001</th>\n",
       "      <td>0</td>\n",
       "      <td>0.0000</td>\n",
       "      <td>0</td>\n",
       "      <td>0.0000</td>\n",
       "      <td>0</td>\n",
       "      <td>0.0000</td>\n",
       "      <td>0</td>\n",
       "      <td>0.0000</td>\n",
       "    </tr>\n",
       "    <tr>\n",
       "      <th>SRR25905321_L001</th>\n",
       "      <td>0</td>\n",
       "      <td>0.0000</td>\n",
       "      <td>0</td>\n",
       "      <td>0.0000</td>\n",
       "      <td>0</td>\n",
       "      <td>0.0000</td>\n",
       "      <td>0</td>\n",
       "      <td>0.0000</td>\n",
       "    </tr>\n",
       "    <tr>\n",
       "      <th>SRR25905322_L001</th>\n",
       "      <td>0</td>\n",
       "      <td>0.0000</td>\n",
       "      <td>0</td>\n",
       "      <td>0.0000</td>\n",
       "      <td>20,524,278</td>\n",
       "      <td>5.0000</td>\n",
       "      <td>4,104,856</td>\n",
       "      <td>1.0000</td>\n",
       "    </tr>\n",
       "  </tbody>\n",
       "</table>\n",
       "</div>"
      ],
      "text/plain": [
       "                 Filtered_usearch                                              \\\n",
       "                      total_lines total_size_GB average_lines average_size_GB   \n",
       "fasta-file                                                                      \n",
       "SRR25905310_L001           10,120        0.0029         2,024          0.0006   \n",
       "SRR25905311_L001           15,133        0.0043         3,027          0.0009   \n",
       "SRR25905312_L001           14,970        0.0043         2,994          0.0009   \n",
       "SRR25905313_L001            1,337        0.0004           267          0.0001   \n",
       "SRR25905314_L001            8,464        0.0023         1,693          0.0005   \n",
       "SRR25905316_L001           37,897        0.0101         7,579          0.0020   \n",
       "SRR25905317_L001                7        0.0000             1          0.0000   \n",
       "SRR25905318_L001              989        0.0003           198          0.0001   \n",
       "SRR25905319_L001            5,555        0.0015         1,111          0.0003   \n",
       "SRR25905320_L001                0        0.0000             0          0.0000   \n",
       "SRR25905321_L001                0        0.0000             0          0.0000   \n",
       "SRR25905322_L001                0        0.0000             0          0.0000   \n",
       "\n",
       "                 Integrated_usearch                              \\\n",
       "                        total_lines total_size_GB average_lines   \n",
       "fasta-file                                                        \n",
       "SRR25905310_L001         32,213,224        8.5000     6,442,645   \n",
       "SRR25905311_L001         33,220,688        9.0000     6,644,138   \n",
       "SRR25905312_L001         25,337,655        7.0000     5,067,531   \n",
       "SRR25905313_L001         80,433,249       19.5000    16,086,650   \n",
       "SRR25905314_L001         72,868,503       18.0000    14,573,701   \n",
       "SRR25905316_L001         67,388,359       16.5000    13,477,672   \n",
       "SRR25905317_L001         12,210,544        3.0000     2,442,109   \n",
       "SRR25905318_L001         16,189,859        4.0000     3,237,972   \n",
       "SRR25905319_L001         21,165,260        5.2000     4,233,052   \n",
       "SRR25905320_L001                  0        0.0000             0   \n",
       "SRR25905321_L001                  0        0.0000             0   \n",
       "SRR25905322_L001         20,524,278        5.0000     4,104,856   \n",
       "\n",
       "                                  \n",
       "                 average_size_GB  \n",
       "fasta-file                        \n",
       "SRR25905310_L001          1.7000  \n",
       "SRR25905311_L001          1.8000  \n",
       "SRR25905312_L001          1.4000  \n",
       "SRR25905313_L001          3.9000  \n",
       "SRR25905314_L001          3.6000  \n",
       "SRR25905316_L001          3.3000  \n",
       "SRR25905317_L001          0.6000  \n",
       "SRR25905318_L001          0.8000  \n",
       "SRR25905319_L001          1.0400  \n",
       "SRR25905320_L001          0.0000  \n",
       "SRR25905321_L001          0.0000  \n",
       "SRR25905322_L001          1.0000  "
      ]
     },
     "metadata": {},
     "output_type": "display_data"
    },
    {
     "name": "stdout",
     "output_type": "stream",
     "text": [
      "\n",
      "Overall Summary Comparison with blastn:\n",
      "Filtered:\tTotal Lines (All Files):\t586,792,748.00\n",
      "Integrated:\tTotal Lines (All Files):\t4,338,284,538.00\n",
      "Filtered:\tTotal Size (All Files) (GB):\t157.65\n",
      "Integrated:\tTotal Size (All Files) (GB):\t1,101.40\n",
      "Filtered:\tAverage Lines per Fasta File:\t48,899,395.67\n",
      "Integrated:\tAverage Lines per Fasta File:\t361,523,711.50\n",
      "Filtered:\tAverage Size per Fasta File (GB):\t13.14\n",
      "Integrated:\tAverage Size per Fasta File (GB):\t91.78\n",
      "\n",
      "Overall Summary Comparison with usearch:\n",
      "Filtered:\tTotal Lines (All Files):\t94,472.00\n",
      "Integrated:\tTotal Lines (All Files):\t381,551,619.00\n",
      "Filtered:\tTotal Size (All Files) (GB):\t0.03\n",
      "Integrated:\tTotal Size (All Files) (GB):\t95.70\n",
      "Filtered:\tAverage Lines per Fasta File:\t7,872.67\n",
      "Integrated:\tAverage Lines per Fasta File:\t31,795,968.25\n",
      "Filtered:\tAverage Size per Fasta File (GB):\t0.00\n",
      "Integrated:\tAverage Size per Fasta File (GB):\t7.98\n"
     ]
    }
   ],
   "source": [
    "# General statistics of filtered vs integrated intermediate results (BLASTX and usearch)\n",
    "\n",
    "display(Markdown(f\"\"\"\n",
    "# Statistics of all integrated and filtered_files from Rozman (blastn and usearch)\n",
    "- 12 Fasta files with 10 splits each\n",
    "- similarity search blastx/blastn and blastx/usearch\n",
    "data gathered with a bash for-loop:\\n\n",
    "```for i in *L001; do for j in $i/0*; do echo -ne \"$j,$(cat $j/filtered_results.csv|wc -l),$(du -hs $j/filtered_results.csv)\\\\n\" >> filtered_results_size.txt;done;done```\\n\n",
    "```for i in *L001; do for j in $i/0*; do echo -ne \"$j,$(cat $j/integrated_filtered_results.csv|wc -l),$(du -hs $j/integrated_filtered_results.csv)\\\\n\" >> integrated_filtered_results_size.txt;done;done```\\n\n",
    "plus 10 seconds manual change in the file preparing it as pandas input\n",
    "\"\"\"))\n",
    "\n",
    "# Define paths\n",
    "filtered_path = os.path.join(path, \"results_rozman\", \"filtered_results_size.txt\")\n",
    "integrated_path = os.path.join(path, \"results_rozman\", \"integrated_filtered_results_size.txt\")\n",
    "filtered_path_us = os.path.join(path, \"results_rozman\", \"filtered_results_size_rozman10-17_usearch.txt\")\n",
    "integrated_path_us = os.path.join(path, \"results_rozman\", \"integrated_filtered_results_size_rozman10-17_usearch.txt\")\n",
    "\n",
    "# Function to convert sizes to GB\n",
    "def convert_size_to_gb(size):\n",
    "    if size.endswith(\"K\"):\n",
    "        return float(size.replace(\"K\", \"\")) / 1000000  # Convert MB to GB\n",
    "    elif size.endswith(\"M\"):\n",
    "        return float(size.replace(\"M\", \"\")) / 1000  # Convert MB to GB\n",
    "    elif size.endswith(\"G\"):\n",
    "        return float(size.replace(\"G\", \"\"))  # Already in GB\n",
    "    else:\n",
    "        raise ValueError(f\"Unexpected size format: {size}\")\n",
    "\n",
    "# Function to process a single file\n",
    "def process_file(file_path):\n",
    "    df = pd.read_csv(file_path, sep=\",\", header=0)\n",
    "    df[\"lines\"] = df[\"lines\"].replace(\",\", \"\", regex=True).astype(int)  # Ensure numeric\n",
    "    df[\"size_GB\"] = df[\"size\"].apply(convert_size_to_gb)\n",
    "    summary_per_file = df.groupby(\"fasta-file\").agg(\n",
    "        total_lines=(\"lines\", \"sum\"),\n",
    "        total_size_GB=(\"size_GB\", \"sum\"),\n",
    "        average_lines=(\"lines\", \"mean\"),\n",
    "        average_size_GB=(\"size_GB\", \"mean\"),\n",
    "    )\n",
    "    overall_summary = {\n",
    "        \"Total Lines (All Files)\": df[\"lines\"].sum(),\n",
    "        \"Total Size (All Files) (GB)\": df[\"size_GB\"].sum(),\n",
    "        \"Average Lines per Fasta File\": summary_per_file[\"total_lines\"].mean(),\n",
    "        \"Average Size per Fasta File (GB)\": summary_per_file[\"total_size_GB\"].mean(),\n",
    "    }\n",
    "    return summary_per_file, overall_summary\n",
    "\n",
    "# Process both files\n",
    "filtered_summary, filtered_overall = process_file(filtered_path)\n",
    "integrated_summary, integrated_overall = process_file(integrated_path)\n",
    "filtered_summary_us, filtered_overall_us = process_file(filtered_path_us)\n",
    "integrated_summary_us, integrated_overall_us = process_file(integrated_path_us)\n",
    "\n",
    "# Combine summaries for comparison\n",
    "combined_summary = pd.concat(\n",
    "    [filtered_summary, integrated_summary],\n",
    "    axis=1,\n",
    "    keys=[\"Filtered\", \"Integrated\"]\n",
    ")\n",
    "\n",
    "combined_summary2 = pd.concat(\n",
    "    [filtered_summary_us, integrated_summary_us],\n",
    "    axis=1,\n",
    "    keys=[\"Filtered_usearch\", \"Integrated_usearch\"]\n",
    ")\n",
    "\n",
    "# Format combined summary\n",
    "for col in combined_summary.columns:  # Iterate over all columns\n",
    "    if \"lines\" in col[1]:\n",
    "        combined_summary[col] = combined_summary[col].map('{:,.0f}'.format)\n",
    "    elif \"size_GB\" in col[1]:\n",
    "        combined_summary[col] = combined_summary[col].map('{:.2f}'.format)\n",
    "    else:\n",
    "        print(col,\"not found\")\n",
    "\n",
    "for col in combined_summary2.columns:  # Iterate over all columns\n",
    "    if \"lines\" in col[1]:\n",
    "        combined_summary2[col] = combined_summary2[col].map('{:,.0f}'.format)\n",
    "    elif \"size_GB\" in col[1]:\n",
    "        combined_summary2[col] = combined_summary2[col].map('{:.4f}'.format)\n",
    "    else:\n",
    "        print(col,\"not found\")\n",
    "\n",
    "\n",
    "# Combine overall summaries for comparison\n",
    "combined_overall = {\n",
    "    \"Filtered\": filtered_overall,\n",
    "    \"Integrated\": integrated_overall,\n",
    "}\n",
    "\n",
    "combined_overall2 = {\n",
    "    \"Filtered\": filtered_overall_us,\n",
    "    \"Integrated\": integrated_overall_us,\n",
    "}\n",
    "\n",
    "# Display results\n",
    "print(\"Combined Summary per Fasta File witch blastn:\")\n",
    "display(combined_summary)\n",
    "\n",
    "print(\"Combined Summary per Fasta File with usearch:\")\n",
    "display(combined_summary2)\n",
    "\n",
    "print(\"\\nOverall Summary Comparison with blastn:\")\n",
    "for key in combined_overall[\"Filtered\"]:\n",
    "    print(f\"Filtered:\\t{key}:\\t{combined_overall['Filtered'][key]:,.2f}\")\n",
    "    print(f\"Integrated:\\t{key}:\\t{combined_overall['Integrated'][key]:,.2f}\")\n",
    "\n",
    "print(\"\\nOverall Summary Comparison with usearch:\")\n",
    "for key in combined_overall2[\"Filtered\"]:\n",
    "    print(f\"Filtered:\\t{key}:\\t{combined_overall2['Filtered'][key]:,.2f}\")\n",
    "    print(f\"Integrated:\\t{key}:\\t{combined_overall2['Integrated'][key]:,.2f}\")    \n"
   ]
  },
  {
   "cell_type": "code",
   "execution_count": 10,
   "metadata": {},
   "outputs": [
    {
     "data": {
      "text/markdown": [
       "\n",
       "# Explanation of 99.4% row reduction (96.3% with usearch update) \n",
       "- Input: filtered result files with < 30 columns\n"
      ],
      "text/plain": [
       "<IPython.core.display.Markdown object>"
      ]
     },
     "metadata": {},
     "output_type": "display_data"
    },
    {
     "data": {
      "text/html": [
       "<div>\n",
       "<style scoped>\n",
       "    .dataframe tbody tr th:only-of-type {\n",
       "        vertical-align: middle;\n",
       "    }\n",
       "\n",
       "    .dataframe tbody tr th {\n",
       "        vertical-align: top;\n",
       "    }\n",
       "\n",
       "    .dataframe thead th {\n",
       "        text-align: right;\n",
       "    }\n",
       "</style>\n",
       "<table border=\"1\" class=\"dataframe\">\n",
       "  <thead>\n",
       "    <tr style=\"text-align: right;\">\n",
       "      <th></th>\n",
       "      <th>query_id</th>\n",
       "      <th>subject_id</th>\n",
       "      <th>perc_identity</th>\n",
       "      <th>align_length</th>\n",
       "      <th>mismatches</th>\n",
       "      <th>gap_opens</th>\n",
       "      <th>q_start</th>\n",
       "      <th>q_end</th>\n",
       "      <th>s_start</th>\n",
       "      <th>s_end</th>\n",
       "      <th>...</th>\n",
       "      <th>Model Name</th>\n",
       "      <th>ARO Name</th>\n",
       "      <th>Protein Accession</th>\n",
       "      <th>DNA Accession</th>\n",
       "      <th>AMR Gene Family</th>\n",
       "      <th>Drug Class</th>\n",
       "      <th>Resistance Mechanism</th>\n",
       "      <th>CARD Short Name</th>\n",
       "      <th>most_common_q_start</th>\n",
       "      <th>most_common_q_end</th>\n",
       "    </tr>\n",
       "  </thead>\n",
       "  <tbody>\n",
       "  </tbody>\n",
       "</table>\n",
       "<p>0 rows × 31 columns</p>\n",
       "</div>"
      ],
      "text/plain": [
       "Empty DataFrame\n",
       "Columns: [query_id, subject_id, perc_identity, align_length, mismatches, gap_opens, q_start, q_end, s_start, s_end, evalue, bit_score, part, primaryAccession, distance, orientation, genus, ARO Accession, CVTERM ID, Model Sequence ID, Model ID, Model Name, ARO Name, Protein Accession, DNA Accession, AMR Gene Family, Drug Class, Resistance Mechanism, CARD Short Name, most_common_q_start, most_common_q_end]\n",
       "Index: []\n",
       "\n",
       "[0 rows x 31 columns]"
      ]
     },
     "metadata": {},
     "output_type": "display_data"
    },
    {
     "data": {
      "text/markdown": [
       "              \n",
       "- Various information about different ABRs, similarity search results etc.\n",
       "- Looking at all rows of first query ID: \n",
       "- 34 rows\n",
       "- column 'subject id' (uniques):\n"
      ],
      "text/plain": [
       "<IPython.core.display.Markdown object>"
      ]
     },
     "metadata": {},
     "output_type": "display_data"
    },
    {
     "name": "stdout",
     "output_type": "stream",
     "text": [
      "['gb|WP_140423324.1|ARO:3006030|OXA-833', 'gb|AGD91915.1|ARO:3001778|OXA-232', 'gb|WP_179284345.1|ARO:3006110|OXA-924', 'gb|ADY06444.1|ARO:3001783|OXA-163', 'gb|WP_188331876.1|ARO:3006108|OXA-922', 'gb|AGC60013.1|ARO:3001787|OXA-245', 'gb|AEP16366.1|ARO:3001784|OXA-181', 'gb|ALI16502.1|ARO:3003641|OXA-484', 'gb|AKL59521.1|ARO:3003594|OXA-438', 'gb|WP_188331878.1|ARO:3006114|OXA-929', 'gb|WP_136512084.1|ARO:3005991|OXA-788', 'gb|AJA30430.1|ARO:3001596|OXA-405', 'gb|WP_099156052.1|ARO:3005791|OXA-567', 'gb|WP_094009811.1|ARO:3005790|OXA-566', 'gb|WP_136512085.1|ARO:3005993|OXA-793', 'gb|WP_063864118.1|ARO:3005735|OXA-505', 'gb|WP_085562384.1|ARO:3005747|OXA-517', 'gb|UBJ91324.1|ARO:3007562|OXA-1039', 'gb|WP_179284336.1|ARO:3006106|OXA-920', 'gb|AHF71363.1|ARO:3001774|OXA-370', 'gb|AAP70012.1|ARO:3001782|OXA-48', 'gb|AGC60012.1|ARO:3001786|OXA-244', 'gb|WP_144376393.1|ARO:3006086|OXA-894', 'gb|ADG27454.1|ARO:3001776|OXA-162', 'gb|WP_179284333.1|ARO:3006104|OXA-918', 'gb|AKR53961.1|ARO:3003595|OXA-439', 'gb|UBJ91323.1|ARO:3007561|OXA-1038', 'gb|AKH90740.1|ARO:3001607|OXA-416', 'gb|AGC70814.1|ARO:3001791|OXA-247', 'gb|WP_094009808.1|ARO:3005749|OXA-519', 'gb|WP_094009803.1|ARO:3005744|OXA-514', 'gb|WP_071593227.1|ARO:3005767|OXA-538', 'gb|AFU91598.1|ARO:3001788|OXA-204', 'CP021137.4534006.4535525 Bacteria;Pseudomonadota;Gammaproteobacteria;Enterobacterales;Enterobacteriaceae;Enterobacter;Enterobacter sp. DKU_NT_01']\n"
     ]
    },
    {
     "data": {
      "text/markdown": [
       "\n",
       "![alt text](OXA833.png \"Title\")\n",
       "- only 4 columns interesting so far\n",
       "### query_id: **['0151f6dd-405b-4199-b90c-1f85b5b24b46']**\n",
       "### part: **['ABR' '16S']**\n",
       "### genus: **[nan 'Enterobacter']**\n",
       "### AMR Gene Family: **['OXA beta-lactamase;OXA-48-like beta-lactamase' nan]**\n",
       "#### Reduction to columns of interest reduces first query rows from 34 to 2:\n",
       "\n",
       "#### Merging 16S to ABR data reduces query rows from  2 to 1\n",
       "### Total reduction for all query_ids from filtered result rows 12943 to 491\n"
      ],
      "text/plain": [
       "<IPython.core.display.Markdown object>"
      ]
     },
     "metadata": {},
     "output_type": "display_data"
    }
   ],
   "source": [
    "# Explanation of 99.4% row reduction (should be less now because of usearch)\n",
    "# With usearch only 96.3%\n",
    "\n",
    "input_file = \"/local/work/adrian/ERMA/results/test_epic_data/001/filtered_results.csv\"\n",
    "necessary_columns = [\"query_id\",\"part\",\"genus\",\"AMR Gene Family\"]\n",
    "\n",
    "df = pd.read_csv(input_file, sep=\",\", header=0)\n",
    "first_query = df[\"query_id\"].iloc[1]\n",
    "test = df[df[\"query_id\"] == first_query]\n",
    "\n",
    "display(Markdown(f\"\"\"\n",
    "# Explanation of 99.4% row reduction (96.3% with usearch update) \n",
    "- Input: filtered result files with < 30 columns\n",
    "\"\"\"))\n",
    "display(df.head(0))\n",
    "display(Markdown(f\"\"\"              \n",
    "- Various information about different ABRs, similarity search results etc.\n",
    "- Looking at all rows of first query ID: \n",
    "- {test.shape[0]} rows\n",
    "- column \\'subject id\\' (uniques):\n",
    "\"\"\"))\n",
    "print([f\"{i}\" for i in test[\"subject_id\"].unique()])\n",
    "\n",
    "df1 = pd.read_csv(input_file, usecols=necessary_columns, sep=\",\", header=0)\n",
    "df1 = df1.drop_duplicates()\n",
    "test1 = df1[df1[\"query_id\"] == first_query]\n",
    "abr = df1[df1[\"part\"] == \"ABR\"]\n",
    "sixteen_s = df1[df1[\"part\"] == \"16S\"]\n",
    "df_merged = pd.merge(abr, sixteen_s, on='query_id', suffixes=('_abr', '_16S'))\n",
    "\n",
    "\n",
    "display(Markdown(f\"\"\"\n",
    "![alt text](OXA833.png \"Title\")\n",
    "- only 4 columns interesting so far\n",
    "### query_id: **{test[\"query_id\"].unique()}**\n",
    "### part: **{test[\"part\"].unique()}**\n",
    "### genus: **{test[\"genus\"].unique()}**\n",
    "### AMR Gene Family: **{test[\"AMR Gene Family\"].unique()}**\n",
    "#### Reduction to columns of interest reduces first query rows from {test.shape[0]} to {test1.shape[0]}:\\n\n",
    "#### Merging 16S to ABR data reduces query rows from  {test1.shape[0]} to {df_merged[df_merged[\"query_id\"] == first_query].shape[0]}\n",
    "### Total reduction for all query_ids from filtered result rows {df.shape[0]} to {df_merged.shape[0]}\n",
    "\"\"\"))"
   ]
  },
  {
   "cell_type": "code",
   "execution_count": null,
   "metadata": {},
   "outputs": [
    {
     "data": {
      "text/markdown": [
       "\n",
       "## Create abundance table\n",
       "---\n",
       "### 1. Parse filtered results with reduced columns, drop duplicates and merge (see cell before)\n",
       "### 2. Merge split fasta parts in one dataframe\n",
       "\n",
       "### 3. Groupy by AMR Gene Family and genus (export table)\n",
       "\n",
       "```combined_df.groupby(['AMR Gene Family_abr', 'genus_16S']).size()```\n",
       "\n",
       "### 4. Plot count per AMR Gene Family\n",
       "---\n",
       "## Plot abundance\n"
      ],
      "text/plain": [
       "<IPython.core.display.Markdown object>"
      ]
     },
     "metadata": {},
     "output_type": "display_data"
    },
    {
     "data": {
      "text/html": [
       "<div>\n",
       "<style scoped>\n",
       "    .dataframe tbody tr th:only-of-type {\n",
       "        vertical-align: middle;\n",
       "    }\n",
       "\n",
       "    .dataframe tbody tr th {\n",
       "        vertical-align: top;\n",
       "    }\n",
       "\n",
       "    .dataframe thead th {\n",
       "        text-align: right;\n",
       "    }\n",
       "</style>\n",
       "<table border=\"1\" class=\"dataframe\">\n",
       "  <thead>\n",
       "    <tr style=\"text-align: right;\">\n",
       "      <th></th>\n",
       "      <th>AMR Gene Family_abr</th>\n",
       "      <th>genus_16S</th>\n",
       "      <th>count</th>\n",
       "    </tr>\n",
       "  </thead>\n",
       "  <tbody>\n",
       "    <tr>\n",
       "      <th>0</th>\n",
       "      <td>OXA beta-lactamase</td>\n",
       "      <td>Enterobacter</td>\n",
       "      <td>36</td>\n",
       "    </tr>\n",
       "    <tr>\n",
       "      <th>1</th>\n",
       "      <td>OXA beta-lactamase</td>\n",
       "      <td>Escherichia-Shigella</td>\n",
       "      <td>1</td>\n",
       "    </tr>\n",
       "    <tr>\n",
       "      <th>2</th>\n",
       "      <td>OXA beta-lactamase</td>\n",
       "      <td>Incertae Sedis</td>\n",
       "      <td>1</td>\n",
       "    </tr>\n",
       "    <tr>\n",
       "      <th>3</th>\n",
       "      <td>OXA beta-lactamase</td>\n",
       "      <td>Klebsiella</td>\n",
       "      <td>6</td>\n",
       "    </tr>\n",
       "    <tr>\n",
       "      <th>4</th>\n",
       "      <td>OXA beta-lactamase</td>\n",
       "      <td>Salmonella</td>\n",
       "      <td>5</td>\n",
       "    </tr>\n",
       "    <tr>\n",
       "      <th>5</th>\n",
       "      <td>OXA beta-lactamase;OXA-48-like beta-lactamase</td>\n",
       "      <td>Acinetobacter</td>\n",
       "      <td>1</td>\n",
       "    </tr>\n",
       "    <tr>\n",
       "      <th>6</th>\n",
       "      <td>OXA beta-lactamase;OXA-48-like beta-lactamase</td>\n",
       "      <td>Aeromonas</td>\n",
       "      <td>9</td>\n",
       "    </tr>\n",
       "    <tr>\n",
       "      <th>7</th>\n",
       "      <td>OXA beta-lactamase;OXA-48-like beta-lactamase</td>\n",
       "      <td>Citrobacter</td>\n",
       "      <td>19</td>\n",
       "    </tr>\n",
       "    <tr>\n",
       "      <th>8</th>\n",
       "      <td>OXA beta-lactamase;OXA-48-like beta-lactamase</td>\n",
       "      <td>Enterobacter</td>\n",
       "      <td>683</td>\n",
       "    </tr>\n",
       "    <tr>\n",
       "      <th>9</th>\n",
       "      <td>OXA beta-lactamase;OXA-48-like beta-lactamase</td>\n",
       "      <td>Erwinia</td>\n",
       "      <td>1</td>\n",
       "    </tr>\n",
       "    <tr>\n",
       "      <th>10</th>\n",
       "      <td>OXA beta-lactamase;OXA-48-like beta-lactamase</td>\n",
       "      <td>Escherichia-Shigella</td>\n",
       "      <td>1</td>\n",
       "    </tr>\n",
       "    <tr>\n",
       "      <th>11</th>\n",
       "      <td>OXA beta-lactamase;OXA-48-like beta-lactamase</td>\n",
       "      <td>Klebsiella</td>\n",
       "      <td>52</td>\n",
       "    </tr>\n",
       "    <tr>\n",
       "      <th>12</th>\n",
       "      <td>OXA beta-lactamase;OXA-48-like beta-lactamase</td>\n",
       "      <td>Kluyvera</td>\n",
       "      <td>15</td>\n",
       "    </tr>\n",
       "    <tr>\n",
       "      <th>13</th>\n",
       "      <td>OXA beta-lactamase;OXA-48-like beta-lactamase</td>\n",
       "      <td>Lelliottia</td>\n",
       "      <td>2</td>\n",
       "    </tr>\n",
       "    <tr>\n",
       "      <th>14</th>\n",
       "      <td>OXA beta-lactamase;OXA-48-like beta-lactamase</td>\n",
       "      <td>Pantoea</td>\n",
       "      <td>2</td>\n",
       "    </tr>\n",
       "    <tr>\n",
       "      <th>15</th>\n",
       "      <td>OXA beta-lactamase;OXA-48-like beta-lactamase</td>\n",
       "      <td>Phytobacter</td>\n",
       "      <td>1</td>\n",
       "    </tr>\n",
       "    <tr>\n",
       "      <th>16</th>\n",
       "      <td>OXA beta-lactamase;OXA-48-like beta-lactamase</td>\n",
       "      <td>Salmonella</td>\n",
       "      <td>91</td>\n",
       "    </tr>\n",
       "    <tr>\n",
       "      <th>17</th>\n",
       "      <td>OXA beta-lactamase;OXA-48-like beta-lactamase</td>\n",
       "      <td>Siccibacter</td>\n",
       "      <td>7</td>\n",
       "    </tr>\n",
       "    <tr>\n",
       "      <th>18</th>\n",
       "      <td>OXA beta-lactamase;OXA-548-like beta-lactamase</td>\n",
       "      <td>Enterobacter</td>\n",
       "      <td>26</td>\n",
       "    </tr>\n",
       "    <tr>\n",
       "      <th>19</th>\n",
       "      <td>OXA beta-lactamase;OXA-548-like beta-lactamase</td>\n",
       "      <td>Klebsiella</td>\n",
       "      <td>4</td>\n",
       "    </tr>\n",
       "    <tr>\n",
       "      <th>20</th>\n",
       "      <td>OXA beta-lactamase;OXA-548-like beta-lactamase</td>\n",
       "      <td>Pantoea</td>\n",
       "      <td>1</td>\n",
       "    </tr>\n",
       "    <tr>\n",
       "      <th>21</th>\n",
       "      <td>OXA beta-lactamase;OXA-548-like beta-lactamase</td>\n",
       "      <td>Salmonella</td>\n",
       "      <td>3</td>\n",
       "    </tr>\n",
       "  </tbody>\n",
       "</table>\n",
       "</div>"
      ],
      "text/plain": [
       "                               AMR Gene Family_abr             genus_16S  \\\n",
       "0                               OXA beta-lactamase          Enterobacter   \n",
       "1                               OXA beta-lactamase  Escherichia-Shigella   \n",
       "2                               OXA beta-lactamase        Incertae Sedis   \n",
       "3                               OXA beta-lactamase            Klebsiella   \n",
       "4                               OXA beta-lactamase            Salmonella   \n",
       "5    OXA beta-lactamase;OXA-48-like beta-lactamase         Acinetobacter   \n",
       "6    OXA beta-lactamase;OXA-48-like beta-lactamase             Aeromonas   \n",
       "7    OXA beta-lactamase;OXA-48-like beta-lactamase           Citrobacter   \n",
       "8    OXA beta-lactamase;OXA-48-like beta-lactamase          Enterobacter   \n",
       "9    OXA beta-lactamase;OXA-48-like beta-lactamase               Erwinia   \n",
       "10   OXA beta-lactamase;OXA-48-like beta-lactamase  Escherichia-Shigella   \n",
       "11   OXA beta-lactamase;OXA-48-like beta-lactamase            Klebsiella   \n",
       "12   OXA beta-lactamase;OXA-48-like beta-lactamase              Kluyvera   \n",
       "13   OXA beta-lactamase;OXA-48-like beta-lactamase            Lelliottia   \n",
       "14   OXA beta-lactamase;OXA-48-like beta-lactamase               Pantoea   \n",
       "15   OXA beta-lactamase;OXA-48-like beta-lactamase           Phytobacter   \n",
       "16   OXA beta-lactamase;OXA-48-like beta-lactamase            Salmonella   \n",
       "17   OXA beta-lactamase;OXA-48-like beta-lactamase           Siccibacter   \n",
       "18  OXA beta-lactamase;OXA-548-like beta-lactamase          Enterobacter   \n",
       "19  OXA beta-lactamase;OXA-548-like beta-lactamase            Klebsiella   \n",
       "20  OXA beta-lactamase;OXA-548-like beta-lactamase               Pantoea   \n",
       "21  OXA beta-lactamase;OXA-548-like beta-lactamase            Salmonella   \n",
       "\n",
       "    count  \n",
       "0      36  \n",
       "1       1  \n",
       "2       1  \n",
       "3       6  \n",
       "4       5  \n",
       "5       1  \n",
       "6       9  \n",
       "7      19  \n",
       "8     683  \n",
       "9       1  \n",
       "10      1  \n",
       "11     52  \n",
       "12     15  \n",
       "13      2  \n",
       "14      2  \n",
       "15      1  \n",
       "16     91  \n",
       "17      7  \n",
       "18     26  \n",
       "19      4  \n",
       "20      1  \n",
       "21      3  "
      ]
     },
     "metadata": {},
     "output_type": "display_data"
    },
    {
     "name": "stderr",
     "output_type": "stream",
     "text": [
      "/homes/adrian/.conda/envs/sm/lib/python3.10/site-packages/altair/utils/core.py:317: FutureWarning:\n",
      "\n",
      "iteritems is deprecated and will be removed in a future version. Use .items instead.\n",
      "\n"
     ]
    },
    {
     "data": {
      "text/html": [
       "\n",
       "<div id=\"altair-viz-848749bff6674243a52dacf63cef1e89\"></div>\n",
       "<script type=\"text/javascript\">\n",
       "  var VEGA_DEBUG = (typeof VEGA_DEBUG == \"undefined\") ? {} : VEGA_DEBUG;\n",
       "  (function(spec, embedOpt){\n",
       "    let outputDiv = document.currentScript.previousElementSibling;\n",
       "    if (outputDiv.id !== \"altair-viz-848749bff6674243a52dacf63cef1e89\") {\n",
       "      outputDiv = document.getElementById(\"altair-viz-848749bff6674243a52dacf63cef1e89\");\n",
       "    }\n",
       "    const paths = {\n",
       "      \"vega\": \"https://cdn.jsdelivr.net/npm//vega@5?noext\",\n",
       "      \"vega-lib\": \"https://cdn.jsdelivr.net/npm//vega-lib?noext\",\n",
       "      \"vega-lite\": \"https://cdn.jsdelivr.net/npm//vega-lite@4.17.0?noext\",\n",
       "      \"vega-embed\": \"https://cdn.jsdelivr.net/npm//vega-embed@6?noext\",\n",
       "    };\n",
       "\n",
       "    function maybeLoadScript(lib, version) {\n",
       "      var key = `${lib.replace(\"-\", \"\")}_version`;\n",
       "      return (VEGA_DEBUG[key] == version) ?\n",
       "        Promise.resolve(paths[lib]) :\n",
       "        new Promise(function(resolve, reject) {\n",
       "          var s = document.createElement('script');\n",
       "          document.getElementsByTagName(\"head\")[0].appendChild(s);\n",
       "          s.async = true;\n",
       "          s.onload = () => {\n",
       "            VEGA_DEBUG[key] = version;\n",
       "            return resolve(paths[lib]);\n",
       "          };\n",
       "          s.onerror = () => reject(`Error loading script: ${paths[lib]}`);\n",
       "          s.src = paths[lib];\n",
       "        });\n",
       "    }\n",
       "\n",
       "    function showError(err) {\n",
       "      outputDiv.innerHTML = `<div class=\"error\" style=\"color:red;\">${err}</div>`;\n",
       "      throw err;\n",
       "    }\n",
       "\n",
       "    function displayChart(vegaEmbed) {\n",
       "      vegaEmbed(outputDiv, spec, embedOpt)\n",
       "        .catch(err => showError(`Javascript Error: ${err.message}<br>This usually means there's a typo in your chart specification. See the javascript console for the full traceback.`));\n",
       "    }\n",
       "\n",
       "    if(typeof define === \"function\" && define.amd) {\n",
       "      requirejs.config({paths});\n",
       "      require([\"vega-embed\"], displayChart, err => showError(`Error loading script: ${err.message}`));\n",
       "    } else {\n",
       "      maybeLoadScript(\"vega\", \"5\")\n",
       "        .then(() => maybeLoadScript(\"vega-lite\", \"4.17.0\"))\n",
       "        .then(() => maybeLoadScript(\"vega-embed\", \"6\"))\n",
       "        .catch(showError)\n",
       "        .then(() => displayChart(vegaEmbed));\n",
       "    }\n",
       "  })({\"config\": {\"view\": {\"continuousWidth\": 400, \"continuousHeight\": 300}}, \"data\": {\"name\": \"data-04a501c946f22366f2ab4209146c5724\"}, \"mark\": \"bar\", \"encoding\": {\"color\": {\"field\": \"genus_16S\", \"title\": \"Genus\", \"type\": \"nominal\"}, \"tooltip\": [{\"field\": \"AMR Gene Family_abr\", \"type\": \"nominal\"}, {\"field\": \"genus_16S\", \"type\": \"nominal\"}, {\"field\": \"count\", \"type\": \"quantitative\"}], \"x\": {\"field\": \"AMR Gene Family_abr\", \"title\": \"AMR Gene Family\", \"type\": \"nominal\"}, \"y\": {\"field\": \"count\", \"title\": \"Count\", \"type\": \"quantitative\"}}, \"height\": 400, \"title\": \"Genus Distribution for test_epic_data\", \"width\": 800, \"$schema\": \"https://vega.github.io/schema/vega-lite/v4.17.0.json\", \"datasets\": {\"data-04a501c946f22366f2ab4209146c5724\": [{\"AMR Gene Family_abr\": \"OXA beta-lactamase\", \"genus_16S\": \"Enterobacter\", \"count\": 36}, {\"AMR Gene Family_abr\": \"OXA beta-lactamase\", \"genus_16S\": \"Escherichia-Shigella\", \"count\": 1}, {\"AMR Gene Family_abr\": \"OXA beta-lactamase\", \"genus_16S\": \"Incertae Sedis\", \"count\": 1}, {\"AMR Gene Family_abr\": \"OXA beta-lactamase\", \"genus_16S\": \"Klebsiella\", \"count\": 6}, {\"AMR Gene Family_abr\": \"OXA beta-lactamase\", \"genus_16S\": \"Salmonella\", \"count\": 5}, {\"AMR Gene Family_abr\": \"OXA beta-lactamase;OXA-48-like beta-lactamase\", \"genus_16S\": \"Acinetobacter\", \"count\": 1}, {\"AMR Gene Family_abr\": \"OXA beta-lactamase;OXA-48-like beta-lactamase\", \"genus_16S\": \"Aeromonas\", \"count\": 9}, {\"AMR Gene Family_abr\": \"OXA beta-lactamase;OXA-48-like beta-lactamase\", \"genus_16S\": \"Citrobacter\", \"count\": 19}, {\"AMR Gene Family_abr\": \"OXA beta-lactamase;OXA-48-like beta-lactamase\", \"genus_16S\": \"Enterobacter\", \"count\": 683}, {\"AMR Gene Family_abr\": \"OXA beta-lactamase;OXA-48-like beta-lactamase\", \"genus_16S\": \"Erwinia\", \"count\": 1}, {\"AMR Gene Family_abr\": \"OXA beta-lactamase;OXA-48-like beta-lactamase\", \"genus_16S\": \"Escherichia-Shigella\", \"count\": 1}, {\"AMR Gene Family_abr\": \"OXA beta-lactamase;OXA-48-like beta-lactamase\", \"genus_16S\": \"Klebsiella\", \"count\": 52}, {\"AMR Gene Family_abr\": \"OXA beta-lactamase;OXA-48-like beta-lactamase\", \"genus_16S\": \"Kluyvera\", \"count\": 15}, {\"AMR Gene Family_abr\": \"OXA beta-lactamase;OXA-48-like beta-lactamase\", \"genus_16S\": \"Lelliottia\", \"count\": 2}, {\"AMR Gene Family_abr\": \"OXA beta-lactamase;OXA-48-like beta-lactamase\", \"genus_16S\": \"Pantoea\", \"count\": 2}, {\"AMR Gene Family_abr\": \"OXA beta-lactamase;OXA-48-like beta-lactamase\", \"genus_16S\": \"Phytobacter\", \"count\": 1}, {\"AMR Gene Family_abr\": \"OXA beta-lactamase;OXA-48-like beta-lactamase\", \"genus_16S\": \"Salmonella\", \"count\": 91}, {\"AMR Gene Family_abr\": \"OXA beta-lactamase;OXA-48-like beta-lactamase\", \"genus_16S\": \"Siccibacter\", \"count\": 7}, {\"AMR Gene Family_abr\": \"OXA beta-lactamase;OXA-548-like beta-lactamase\", \"genus_16S\": \"Enterobacter\", \"count\": 26}, {\"AMR Gene Family_abr\": \"OXA beta-lactamase;OXA-548-like beta-lactamase\", \"genus_16S\": \"Klebsiella\", \"count\": 4}, {\"AMR Gene Family_abr\": \"OXA beta-lactamase;OXA-548-like beta-lactamase\", \"genus_16S\": \"Pantoea\", \"count\": 1}, {\"AMR Gene Family_abr\": \"OXA beta-lactamase;OXA-548-like beta-lactamase\", \"genus_16S\": \"Salmonella\", \"count\": 3}]}}, {\"mode\": \"vega-lite\"});\n",
       "</script>"
      ],
      "text/plain": [
       "alt.Chart(...)"
      ]
     },
     "execution_count": 15,
     "metadata": {},
     "output_type": "execute_result"
    }
   ],
   "source": [
    "# 4. Create abundance table and plot abundance\n",
    "# Selfwritten python script \"generate_genus_distribution_plot.py\"\n",
    "# Input: all filtered_result.csv parts of one sample\n",
    "# Output: abundance plot over all ABRs\n",
    "\n",
    "import altair as alt\n",
    "\n",
    "input_files = [\"/local/work/adrian/ERMA/results/test_epic_data/001/filtered_results.csv\",\"/local/work/adrian/ERMA/results/test_epic_data/002/filtered_results.csv\"]\n",
    "necessary_columns = [\"query_id\",\"part\",\"genus\",\"AMR Gene Family\"]\n",
    "sample_name = \"test_epic_data\"\n",
    "\n",
    "df = pd.read_csv(input_files[0], sep=\",\", header=0)\n",
    "first_query = df[\"query_id\"].iloc[1]\n",
    "test = df[df[\"query_id\"] == first_query]\n",
    "\n",
    "display(Markdown(f\"\"\"\n",
    "## Create abundance table\n",
    "---\n",
    "### 1. Parse filtered results with reduced columns, drop duplicates and merge (see cell before)\n",
    "### 2. Merge split fasta parts in one dataframe\\n\n",
    "### 3. Groupy by AMR Gene Family and genus (export table)\\n\n",
    "```combined_df.groupby(['AMR Gene Family_abr', 'genus_16S']).size()```\\n\n",
    "### 4. Plot count per AMR Gene Family\n",
    "---\n",
    "## Create abundance plot\n",
    "\"\"\"))\n",
    "\n",
    "all_data = []\n",
    "for input_file in input_files:\n",
    "        df = pd.read_csv(input_file, sep=\",\", usecols=necessary_columns, header=0)\n",
    "        df = df.drop_duplicates()\n",
    "        # Split and merge ABR and 16S data by query_id\n",
    "        abr = df[df[\"part\"] == \"ABR\"]\n",
    "        sixteen_s = df[df[\"part\"] == \"16S\"]\n",
    "        df_merged = pd.merge(abr, sixteen_s, on='query_id', suffixes=('_abr', '_16S'))\n",
    "\n",
    "        # Assign genus based on 16S path for each merged record\n",
    "        all_data.append(df_merged)  # Append the DataFrame to the list\n",
    "        # Concatenate all DataFrames into one\n",
    "combined_df = pd.concat(all_data, ignore_index=True)\n",
    "\n",
    "# Group by AMR gene family and genus across all files\n",
    "genus_distribution = combined_df.groupby(['AMR Gene Family_abr', 'genus_16S']).size().reset_index(name='count')\n",
    "display(genus_distribution)\n",
    "# Create the Altair bar chart\n",
    "chart = alt.Chart(genus_distribution).mark_bar().encode(\n",
    "        x=alt.X('AMR Gene Family_abr', title='AMR Gene Family'),\n",
    "        y=alt.Y('count', title='Count'),\n",
    "        color=alt.Color('genus_16S', title='Genus'),\n",
    "        tooltip=['AMR Gene Family_abr', 'genus_16S', 'count']\n",
    ").properties(\n",
    "title=f'Genus Distribution for {sample_name}',\n",
    "width=800,\n",
    "height=400\n",
    ")\n",
    "\n",
    "# Save the plot as an HTML file\n",
    "chart"
   ]
  },
  {
   "cell_type": "code",
   "execution_count": 13,
   "metadata": {},
   "outputs": [
    {
     "data": {
      "text/markdown": [
       "\n",
       "# Create bubble plot\n",
       "---\n",
       "### 1. Parse abundance file\n",
       "### 2. Groupy by AMR Gene Family and genus (export table)\n",
       "\n",
       "```combined_df.groupby(['AMR Gene Family_abr', 'genus_16S']).size()```\n",
       "\n",
       "### 3. Reduce to ABR with most total hits\n",
       "### 4. Plot sample vs genus with relative genus count as size and total genus count as colour              \n",
       "---\n"
      ],
      "text/plain": [
       "<IPython.core.display.Markdown object>"
      ]
     },
     "metadata": {},
     "output_type": "display_data"
    },
    {
     "data": {
      "application/vnd.plotly.v1+json": {
       "config": {
        "plotlyServerURL": "https://plot.ly"
       },
       "data": [
        {
         "customdata": [
          [
           1,
           0.0011,
           884
          ],
          [
           9,
           0.0102,
           884
          ],
          [
           19,
           0.0215,
           884
          ],
          [
           683,
           0.7726,
           884
          ],
          [
           1,
           0.0011,
           884
          ],
          [
           1,
           0.0011,
           884
          ],
          [
           52,
           0.0588,
           884
          ],
          [
           15,
           0.017,
           884
          ],
          [
           2,
           0.0023,
           884
          ],
          [
           2,
           0.0023,
           884
          ],
          [
           1,
           0.0011,
           884
          ],
          [
           91,
           0.1029,
           884
          ],
          [
           7,
           0.0079,
           884
          ]
         ],
         "hovertemplate": "<b>%{hovertext}</b><br><br>genus=%{y}<br>relative_genus_count=%{customdata[1]}<br>genus_count=%{customdata[0]}<br>total_genus_count=%{marker.color}<extra></extra>",
         "hovertext": [
          "Acinetobacter",
          "Aeromonas",
          "Citrobacter",
          "Enterobacter",
          "Erwinia",
          "Escherichia-Shigella",
          "Klebsiella",
          "Kluyvera",
          "Lelliottia",
          "Pantoea",
          "Phytobacter",
          "Salmonella",
          "Siccibacter"
         ],
         "legendgroup": "",
         "marker": {
          "color": [
           884,
           884,
           884,
           884,
           884,
           884,
           884,
           884,
           884,
           884,
           884,
           884,
           884
          ],
          "coloraxis": "coloraxis",
          "size": [
           0.0011,
           0.0102,
           0.0215,
           0.7726,
           0.0011,
           0.0011,
           0.0588,
           0.017,
           0.0023,
           0.0023,
           0.0011,
           0.1029,
           0.0079
          ],
          "sizemode": "area",
          "sizeref": 0.0019314999999999998,
          "symbol": "circle"
         },
         "mode": "markers",
         "name": "",
         "orientation": "v",
         "showlegend": false,
         "type": "scatter",
         "x": [
          "test_epic_data",
          "test_epic_data",
          "test_epic_data",
          "test_epic_data",
          "test_epic_data",
          "test_epic_data",
          "test_epic_data",
          "test_epic_data",
          "test_epic_data",
          "test_epic_data",
          "test_epic_data",
          "test_epic_data",
          "test_epic_data"
         ],
         "xaxis": "x",
         "y": [
          "Acinetobacter",
          "Aeromonas",
          "Citrobacter",
          "Enterobacter",
          "Erwinia",
          "Escherichia-Shigella",
          "Klebsiella",
          "Kluyvera",
          "Lelliottia",
          "Pantoea",
          "Phytobacter",
          "Salmonella",
          "Siccibacter"
         ],
         "yaxis": "y"
        }
       ],
       "layout": {
        "coloraxis": {
         "colorbar": {
          "title": {
           "text": "Total Genus Count"
          }
         },
         "colorscale": [
          [
           0,
           "rgb(247,252,245)"
          ],
          [
           0.125,
           "rgb(229,245,224)"
          ],
          [
           0.25,
           "rgb(199,233,192)"
          ],
          [
           0.375,
           "rgb(161,217,155)"
          ],
          [
           0.5,
           "rgb(116,196,118)"
          ],
          [
           0.625,
           "rgb(65,171,93)"
          ],
          [
           0.75,
           "rgb(35,139,69)"
          ],
          [
           0.875,
           "rgb(0,109,44)"
          ],
          [
           1,
           "rgb(0,68,27)"
          ]
         ]
        },
        "legend": {
         "itemsizing": "constant",
         "tracegroupgap": 0
        },
        "margin": {
         "t": 60
        },
        "plot_bgcolor": "lightgrey",
        "template": {
         "data": {
          "bar": [
           {
            "error_x": {
             "color": "#2a3f5f"
            },
            "error_y": {
             "color": "#2a3f5f"
            },
            "marker": {
             "line": {
              "color": "#E5ECF6",
              "width": 0.5
             },
             "pattern": {
              "fillmode": "overlay",
              "size": 10,
              "solidity": 0.2
             }
            },
            "type": "bar"
           }
          ],
          "barpolar": [
           {
            "marker": {
             "line": {
              "color": "#E5ECF6",
              "width": 0.5
             },
             "pattern": {
              "fillmode": "overlay",
              "size": 10,
              "solidity": 0.2
             }
            },
            "type": "barpolar"
           }
          ],
          "carpet": [
           {
            "aaxis": {
             "endlinecolor": "#2a3f5f",
             "gridcolor": "white",
             "linecolor": "white",
             "minorgridcolor": "white",
             "startlinecolor": "#2a3f5f"
            },
            "baxis": {
             "endlinecolor": "#2a3f5f",
             "gridcolor": "white",
             "linecolor": "white",
             "minorgridcolor": "white",
             "startlinecolor": "#2a3f5f"
            },
            "type": "carpet"
           }
          ],
          "choropleth": [
           {
            "colorbar": {
             "outlinewidth": 0,
             "ticks": ""
            },
            "type": "choropleth"
           }
          ],
          "contour": [
           {
            "colorbar": {
             "outlinewidth": 0,
             "ticks": ""
            },
            "colorscale": [
             [
              0,
              "#0d0887"
             ],
             [
              0.1111111111111111,
              "#46039f"
             ],
             [
              0.2222222222222222,
              "#7201a8"
             ],
             [
              0.3333333333333333,
              "#9c179e"
             ],
             [
              0.4444444444444444,
              "#bd3786"
             ],
             [
              0.5555555555555556,
              "#d8576b"
             ],
             [
              0.6666666666666666,
              "#ed7953"
             ],
             [
              0.7777777777777778,
              "#fb9f3a"
             ],
             [
              0.8888888888888888,
              "#fdca26"
             ],
             [
              1,
              "#f0f921"
             ]
            ],
            "type": "contour"
           }
          ],
          "contourcarpet": [
           {
            "colorbar": {
             "outlinewidth": 0,
             "ticks": ""
            },
            "type": "contourcarpet"
           }
          ],
          "heatmap": [
           {
            "colorbar": {
             "outlinewidth": 0,
             "ticks": ""
            },
            "colorscale": [
             [
              0,
              "#0d0887"
             ],
             [
              0.1111111111111111,
              "#46039f"
             ],
             [
              0.2222222222222222,
              "#7201a8"
             ],
             [
              0.3333333333333333,
              "#9c179e"
             ],
             [
              0.4444444444444444,
              "#bd3786"
             ],
             [
              0.5555555555555556,
              "#d8576b"
             ],
             [
              0.6666666666666666,
              "#ed7953"
             ],
             [
              0.7777777777777778,
              "#fb9f3a"
             ],
             [
              0.8888888888888888,
              "#fdca26"
             ],
             [
              1,
              "#f0f921"
             ]
            ],
            "type": "heatmap"
           }
          ],
          "heatmapgl": [
           {
            "colorbar": {
             "outlinewidth": 0,
             "ticks": ""
            },
            "colorscale": [
             [
              0,
              "#0d0887"
             ],
             [
              0.1111111111111111,
              "#46039f"
             ],
             [
              0.2222222222222222,
              "#7201a8"
             ],
             [
              0.3333333333333333,
              "#9c179e"
             ],
             [
              0.4444444444444444,
              "#bd3786"
             ],
             [
              0.5555555555555556,
              "#d8576b"
             ],
             [
              0.6666666666666666,
              "#ed7953"
             ],
             [
              0.7777777777777778,
              "#fb9f3a"
             ],
             [
              0.8888888888888888,
              "#fdca26"
             ],
             [
              1,
              "#f0f921"
             ]
            ],
            "type": "heatmapgl"
           }
          ],
          "histogram": [
           {
            "marker": {
             "pattern": {
              "fillmode": "overlay",
              "size": 10,
              "solidity": 0.2
             }
            },
            "type": "histogram"
           }
          ],
          "histogram2d": [
           {
            "colorbar": {
             "outlinewidth": 0,
             "ticks": ""
            },
            "colorscale": [
             [
              0,
              "#0d0887"
             ],
             [
              0.1111111111111111,
              "#46039f"
             ],
             [
              0.2222222222222222,
              "#7201a8"
             ],
             [
              0.3333333333333333,
              "#9c179e"
             ],
             [
              0.4444444444444444,
              "#bd3786"
             ],
             [
              0.5555555555555556,
              "#d8576b"
             ],
             [
              0.6666666666666666,
              "#ed7953"
             ],
             [
              0.7777777777777778,
              "#fb9f3a"
             ],
             [
              0.8888888888888888,
              "#fdca26"
             ],
             [
              1,
              "#f0f921"
             ]
            ],
            "type": "histogram2d"
           }
          ],
          "histogram2dcontour": [
           {
            "colorbar": {
             "outlinewidth": 0,
             "ticks": ""
            },
            "colorscale": [
             [
              0,
              "#0d0887"
             ],
             [
              0.1111111111111111,
              "#46039f"
             ],
             [
              0.2222222222222222,
              "#7201a8"
             ],
             [
              0.3333333333333333,
              "#9c179e"
             ],
             [
              0.4444444444444444,
              "#bd3786"
             ],
             [
              0.5555555555555556,
              "#d8576b"
             ],
             [
              0.6666666666666666,
              "#ed7953"
             ],
             [
              0.7777777777777778,
              "#fb9f3a"
             ],
             [
              0.8888888888888888,
              "#fdca26"
             ],
             [
              1,
              "#f0f921"
             ]
            ],
            "type": "histogram2dcontour"
           }
          ],
          "mesh3d": [
           {
            "colorbar": {
             "outlinewidth": 0,
             "ticks": ""
            },
            "type": "mesh3d"
           }
          ],
          "parcoords": [
           {
            "line": {
             "colorbar": {
              "outlinewidth": 0,
              "ticks": ""
             }
            },
            "type": "parcoords"
           }
          ],
          "pie": [
           {
            "automargin": true,
            "type": "pie"
           }
          ],
          "scatter": [
           {
            "fillpattern": {
             "fillmode": "overlay",
             "size": 10,
             "solidity": 0.2
            },
            "type": "scatter"
           }
          ],
          "scatter3d": [
           {
            "line": {
             "colorbar": {
              "outlinewidth": 0,
              "ticks": ""
             }
            },
            "marker": {
             "colorbar": {
              "outlinewidth": 0,
              "ticks": ""
             }
            },
            "type": "scatter3d"
           }
          ],
          "scattercarpet": [
           {
            "marker": {
             "colorbar": {
              "outlinewidth": 0,
              "ticks": ""
             }
            },
            "type": "scattercarpet"
           }
          ],
          "scattergeo": [
           {
            "marker": {
             "colorbar": {
              "outlinewidth": 0,
              "ticks": ""
             }
            },
            "type": "scattergeo"
           }
          ],
          "scattergl": [
           {
            "marker": {
             "colorbar": {
              "outlinewidth": 0,
              "ticks": ""
             }
            },
            "type": "scattergl"
           }
          ],
          "scattermapbox": [
           {
            "marker": {
             "colorbar": {
              "outlinewidth": 0,
              "ticks": ""
             }
            },
            "type": "scattermapbox"
           }
          ],
          "scatterpolar": [
           {
            "marker": {
             "colorbar": {
              "outlinewidth": 0,
              "ticks": ""
             }
            },
            "type": "scatterpolar"
           }
          ],
          "scatterpolargl": [
           {
            "marker": {
             "colorbar": {
              "outlinewidth": 0,
              "ticks": ""
             }
            },
            "type": "scatterpolargl"
           }
          ],
          "scatterternary": [
           {
            "marker": {
             "colorbar": {
              "outlinewidth": 0,
              "ticks": ""
             }
            },
            "type": "scatterternary"
           }
          ],
          "surface": [
           {
            "colorbar": {
             "outlinewidth": 0,
             "ticks": ""
            },
            "colorscale": [
             [
              0,
              "#0d0887"
             ],
             [
              0.1111111111111111,
              "#46039f"
             ],
             [
              0.2222222222222222,
              "#7201a8"
             ],
             [
              0.3333333333333333,
              "#9c179e"
             ],
             [
              0.4444444444444444,
              "#bd3786"
             ],
             [
              0.5555555555555556,
              "#d8576b"
             ],
             [
              0.6666666666666666,
              "#ed7953"
             ],
             [
              0.7777777777777778,
              "#fb9f3a"
             ],
             [
              0.8888888888888888,
              "#fdca26"
             ],
             [
              1,
              "#f0f921"
             ]
            ],
            "type": "surface"
           }
          ],
          "table": [
           {
            "cells": {
             "fill": {
              "color": "#EBF0F8"
             },
             "line": {
              "color": "white"
             }
            },
            "header": {
             "fill": {
              "color": "#C8D4E3"
             },
             "line": {
              "color": "white"
             }
            },
            "type": "table"
           }
          ]
         },
         "layout": {
          "annotationdefaults": {
           "arrowcolor": "#2a3f5f",
           "arrowhead": 0,
           "arrowwidth": 1
          },
          "autotypenumbers": "strict",
          "coloraxis": {
           "colorbar": {
            "outlinewidth": 0,
            "ticks": ""
           }
          },
          "colorscale": {
           "diverging": [
            [
             0,
             "#8e0152"
            ],
            [
             0.1,
             "#c51b7d"
            ],
            [
             0.2,
             "#de77ae"
            ],
            [
             0.3,
             "#f1b6da"
            ],
            [
             0.4,
             "#fde0ef"
            ],
            [
             0.5,
             "#f7f7f7"
            ],
            [
             0.6,
             "#e6f5d0"
            ],
            [
             0.7,
             "#b8e186"
            ],
            [
             0.8,
             "#7fbc41"
            ],
            [
             0.9,
             "#4d9221"
            ],
            [
             1,
             "#276419"
            ]
           ],
           "sequential": [
            [
             0,
             "#0d0887"
            ],
            [
             0.1111111111111111,
             "#46039f"
            ],
            [
             0.2222222222222222,
             "#7201a8"
            ],
            [
             0.3333333333333333,
             "#9c179e"
            ],
            [
             0.4444444444444444,
             "#bd3786"
            ],
            [
             0.5555555555555556,
             "#d8576b"
            ],
            [
             0.6666666666666666,
             "#ed7953"
            ],
            [
             0.7777777777777778,
             "#fb9f3a"
            ],
            [
             0.8888888888888888,
             "#fdca26"
            ],
            [
             1,
             "#f0f921"
            ]
           ],
           "sequentialminus": [
            [
             0,
             "#0d0887"
            ],
            [
             0.1111111111111111,
             "#46039f"
            ],
            [
             0.2222222222222222,
             "#7201a8"
            ],
            [
             0.3333333333333333,
             "#9c179e"
            ],
            [
             0.4444444444444444,
             "#bd3786"
            ],
            [
             0.5555555555555556,
             "#d8576b"
            ],
            [
             0.6666666666666666,
             "#ed7953"
            ],
            [
             0.7777777777777778,
             "#fb9f3a"
            ],
            [
             0.8888888888888888,
             "#fdca26"
            ],
            [
             1,
             "#f0f921"
            ]
           ]
          },
          "colorway": [
           "#636efa",
           "#EF553B",
           "#00cc96",
           "#ab63fa",
           "#FFA15A",
           "#19d3f3",
           "#FF6692",
           "#B6E880",
           "#FF97FF",
           "#FECB52"
          ],
          "font": {
           "color": "#2a3f5f"
          },
          "geo": {
           "bgcolor": "white",
           "lakecolor": "white",
           "landcolor": "#E5ECF6",
           "showlakes": true,
           "showland": true,
           "subunitcolor": "white"
          },
          "hoverlabel": {
           "align": "left"
          },
          "hovermode": "closest",
          "mapbox": {
           "style": "light"
          },
          "paper_bgcolor": "white",
          "plot_bgcolor": "#E5ECF6",
          "polar": {
           "angularaxis": {
            "gridcolor": "white",
            "linecolor": "white",
            "ticks": ""
           },
           "bgcolor": "#E5ECF6",
           "radialaxis": {
            "gridcolor": "white",
            "linecolor": "white",
            "ticks": ""
           }
          },
          "scene": {
           "xaxis": {
            "backgroundcolor": "#E5ECF6",
            "gridcolor": "white",
            "gridwidth": 2,
            "linecolor": "white",
            "showbackground": true,
            "ticks": "",
            "zerolinecolor": "white"
           },
           "yaxis": {
            "backgroundcolor": "#E5ECF6",
            "gridcolor": "white",
            "gridwidth": 2,
            "linecolor": "white",
            "showbackground": true,
            "ticks": "",
            "zerolinecolor": "white"
           },
           "zaxis": {
            "backgroundcolor": "#E5ECF6",
            "gridcolor": "white",
            "gridwidth": 2,
            "linecolor": "white",
            "showbackground": true,
            "ticks": "",
            "zerolinecolor": "white"
           }
          },
          "shapedefaults": {
           "line": {
            "color": "#2a3f5f"
           }
          },
          "ternary": {
           "aaxis": {
            "gridcolor": "white",
            "linecolor": "white",
            "ticks": ""
           },
           "baxis": {
            "gridcolor": "white",
            "linecolor": "white",
            "ticks": ""
           },
           "bgcolor": "#E5ECF6",
           "caxis": {
            "gridcolor": "white",
            "linecolor": "white",
            "ticks": ""
           }
          },
          "title": {
           "x": 0.05
          },
          "xaxis": {
           "automargin": true,
           "gridcolor": "white",
           "linecolor": "white",
           "ticks": "",
           "title": {
            "standoff": 15
           },
           "zerolinecolor": "white",
           "zerolinewidth": 2
          },
          "yaxis": {
           "automargin": true,
           "gridcolor": "white",
           "linecolor": "white",
           "ticks": "",
           "title": {
            "standoff": 15
           },
           "zerolinecolor": "white",
           "zerolinewidth": 2
          }
         }
        },
        "title": {
         "text": "Bubble Plot of Relative Genera Abundance per Sample and top found AMR:<br> OXA beta-lactamase;OXA-48-like beta-lactamase with 967 reads over all samples"
        },
        "xaxis": {
         "anchor": "y",
         "domain": [
          0,
          1
         ],
         "title": {
          "text": "Sample - AMR Gene Family"
         }
        },
        "yaxis": {
         "anchor": "x",
         "categoryorder": "category descending",
         "domain": [
          0,
          1
         ],
         "title": {
          "text": "Genus"
         }
        }
       }
      },
      "text/html": [
       "<div>                            <div id=\"b4030333-a508-4745-bcae-255426396d07\" class=\"plotly-graph-div\" style=\"height:525px; width:100%;\"></div>            <script type=\"text/javascript\">                require([\"plotly\"], function(Plotly) {                    window.PLOTLYENV=window.PLOTLYENV || {};                                    if (document.getElementById(\"b4030333-a508-4745-bcae-255426396d07\")) {                    Plotly.newPlot(                        \"b4030333-a508-4745-bcae-255426396d07\",                        [{\"customdata\":[[1.0,0.0011,884.0],[9.0,0.0102,884.0],[19.0,0.0215,884.0],[683.0,0.7726,884.0],[1.0,0.0011,884.0],[1.0,0.0011,884.0],[52.0,0.0588,884.0],[15.0,0.017,884.0],[2.0,0.0023,884.0],[2.0,0.0023,884.0],[1.0,0.0011,884.0],[91.0,0.1029,884.0],[7.0,0.0079,884.0]],\"hovertemplate\":\"<b>%{hovertext}</b><br><br>genus=%{y}<br>relative_genus_count=%{customdata[1]}<br>genus_count=%{customdata[0]}<br>total_genus_count=%{marker.color}<extra></extra>\",\"hovertext\":[\"Acinetobacter\",\"Aeromonas\",\"Citrobacter\",\"Enterobacter\",\"Erwinia\",\"Escherichia-Shigella\",\"Klebsiella\",\"Kluyvera\",\"Lelliottia\",\"Pantoea\",\"Phytobacter\",\"Salmonella\",\"Siccibacter\"],\"legendgroup\":\"\",\"marker\":{\"color\":[884,884,884,884,884,884,884,884,884,884,884,884,884],\"coloraxis\":\"coloraxis\",\"size\":[0.0011,0.0102,0.0215,0.7726,0.0011,0.0011,0.0588,0.017,0.0023,0.0023,0.0011,0.1029,0.0079],\"sizemode\":\"area\",\"sizeref\":0.0019314999999999998,\"symbol\":\"circle\"},\"mode\":\"markers\",\"name\":\"\",\"orientation\":\"v\",\"showlegend\":false,\"x\":[\"test_epic_data\",\"test_epic_data\",\"test_epic_data\",\"test_epic_data\",\"test_epic_data\",\"test_epic_data\",\"test_epic_data\",\"test_epic_data\",\"test_epic_data\",\"test_epic_data\",\"test_epic_data\",\"test_epic_data\",\"test_epic_data\"],\"xaxis\":\"x\",\"y\":[\"Acinetobacter\",\"Aeromonas\",\"Citrobacter\",\"Enterobacter\",\"Erwinia\",\"Escherichia-Shigella\",\"Klebsiella\",\"Kluyvera\",\"Lelliottia\",\"Pantoea\",\"Phytobacter\",\"Salmonella\",\"Siccibacter\"],\"yaxis\":\"y\",\"type\":\"scatter\"}],                        {\"template\":{\"data\":{\"histogram2dcontour\":[{\"type\":\"histogram2dcontour\",\"colorbar\":{\"outlinewidth\":0,\"ticks\":\"\"},\"colorscale\":[[0.0,\"#0d0887\"],[0.1111111111111111,\"#46039f\"],[0.2222222222222222,\"#7201a8\"],[0.3333333333333333,\"#9c179e\"],[0.4444444444444444,\"#bd3786\"],[0.5555555555555556,\"#d8576b\"],[0.6666666666666666,\"#ed7953\"],[0.7777777777777778,\"#fb9f3a\"],[0.8888888888888888,\"#fdca26\"],[1.0,\"#f0f921\"]]}],\"choropleth\":[{\"type\":\"choropleth\",\"colorbar\":{\"outlinewidth\":0,\"ticks\":\"\"}}],\"histogram2d\":[{\"type\":\"histogram2d\",\"colorbar\":{\"outlinewidth\":0,\"ticks\":\"\"},\"colorscale\":[[0.0,\"#0d0887\"],[0.1111111111111111,\"#46039f\"],[0.2222222222222222,\"#7201a8\"],[0.3333333333333333,\"#9c179e\"],[0.4444444444444444,\"#bd3786\"],[0.5555555555555556,\"#d8576b\"],[0.6666666666666666,\"#ed7953\"],[0.7777777777777778,\"#fb9f3a\"],[0.8888888888888888,\"#fdca26\"],[1.0,\"#f0f921\"]]}],\"heatmap\":[{\"type\":\"heatmap\",\"colorbar\":{\"outlinewidth\":0,\"ticks\":\"\"},\"colorscale\":[[0.0,\"#0d0887\"],[0.1111111111111111,\"#46039f\"],[0.2222222222222222,\"#7201a8\"],[0.3333333333333333,\"#9c179e\"],[0.4444444444444444,\"#bd3786\"],[0.5555555555555556,\"#d8576b\"],[0.6666666666666666,\"#ed7953\"],[0.7777777777777778,\"#fb9f3a\"],[0.8888888888888888,\"#fdca26\"],[1.0,\"#f0f921\"]]}],\"heatmapgl\":[{\"type\":\"heatmapgl\",\"colorbar\":{\"outlinewidth\":0,\"ticks\":\"\"},\"colorscale\":[[0.0,\"#0d0887\"],[0.1111111111111111,\"#46039f\"],[0.2222222222222222,\"#7201a8\"],[0.3333333333333333,\"#9c179e\"],[0.4444444444444444,\"#bd3786\"],[0.5555555555555556,\"#d8576b\"],[0.6666666666666666,\"#ed7953\"],[0.7777777777777778,\"#fb9f3a\"],[0.8888888888888888,\"#fdca26\"],[1.0,\"#f0f921\"]]}],\"contourcarpet\":[{\"type\":\"contourcarpet\",\"colorbar\":{\"outlinewidth\":0,\"ticks\":\"\"}}],\"contour\":[{\"type\":\"contour\",\"colorbar\":{\"outlinewidth\":0,\"ticks\":\"\"},\"colorscale\":[[0.0,\"#0d0887\"],[0.1111111111111111,\"#46039f\"],[0.2222222222222222,\"#7201a8\"],[0.3333333333333333,\"#9c179e\"],[0.4444444444444444,\"#bd3786\"],[0.5555555555555556,\"#d8576b\"],[0.6666666666666666,\"#ed7953\"],[0.7777777777777778,\"#fb9f3a\"],[0.8888888888888888,\"#fdca26\"],[1.0,\"#f0f921\"]]}],\"surface\":[{\"type\":\"surface\",\"colorbar\":{\"outlinewidth\":0,\"ticks\":\"\"},\"colorscale\":[[0.0,\"#0d0887\"],[0.1111111111111111,\"#46039f\"],[0.2222222222222222,\"#7201a8\"],[0.3333333333333333,\"#9c179e\"],[0.4444444444444444,\"#bd3786\"],[0.5555555555555556,\"#d8576b\"],[0.6666666666666666,\"#ed7953\"],[0.7777777777777778,\"#fb9f3a\"],[0.8888888888888888,\"#fdca26\"],[1.0,\"#f0f921\"]]}],\"mesh3d\":[{\"type\":\"mesh3d\",\"colorbar\":{\"outlinewidth\":0,\"ticks\":\"\"}}],\"scatter\":[{\"fillpattern\":{\"fillmode\":\"overlay\",\"size\":10,\"solidity\":0.2},\"type\":\"scatter\"}],\"parcoords\":[{\"type\":\"parcoords\",\"line\":{\"colorbar\":{\"outlinewidth\":0,\"ticks\":\"\"}}}],\"scatterpolargl\":[{\"type\":\"scatterpolargl\",\"marker\":{\"colorbar\":{\"outlinewidth\":0,\"ticks\":\"\"}}}],\"bar\":[{\"error_x\":{\"color\":\"#2a3f5f\"},\"error_y\":{\"color\":\"#2a3f5f\"},\"marker\":{\"line\":{\"color\":\"#E5ECF6\",\"width\":0.5},\"pattern\":{\"fillmode\":\"overlay\",\"size\":10,\"solidity\":0.2}},\"type\":\"bar\"}],\"scattergeo\":[{\"type\":\"scattergeo\",\"marker\":{\"colorbar\":{\"outlinewidth\":0,\"ticks\":\"\"}}}],\"scatterpolar\":[{\"type\":\"scatterpolar\",\"marker\":{\"colorbar\":{\"outlinewidth\":0,\"ticks\":\"\"}}}],\"histogram\":[{\"marker\":{\"pattern\":{\"fillmode\":\"overlay\",\"size\":10,\"solidity\":0.2}},\"type\":\"histogram\"}],\"scattergl\":[{\"type\":\"scattergl\",\"marker\":{\"colorbar\":{\"outlinewidth\":0,\"ticks\":\"\"}}}],\"scatter3d\":[{\"type\":\"scatter3d\",\"line\":{\"colorbar\":{\"outlinewidth\":0,\"ticks\":\"\"}},\"marker\":{\"colorbar\":{\"outlinewidth\":0,\"ticks\":\"\"}}}],\"scattermapbox\":[{\"type\":\"scattermapbox\",\"marker\":{\"colorbar\":{\"outlinewidth\":0,\"ticks\":\"\"}}}],\"scatterternary\":[{\"type\":\"scatterternary\",\"marker\":{\"colorbar\":{\"outlinewidth\":0,\"ticks\":\"\"}}}],\"scattercarpet\":[{\"type\":\"scattercarpet\",\"marker\":{\"colorbar\":{\"outlinewidth\":0,\"ticks\":\"\"}}}],\"carpet\":[{\"aaxis\":{\"endlinecolor\":\"#2a3f5f\",\"gridcolor\":\"white\",\"linecolor\":\"white\",\"minorgridcolor\":\"white\",\"startlinecolor\":\"#2a3f5f\"},\"baxis\":{\"endlinecolor\":\"#2a3f5f\",\"gridcolor\":\"white\",\"linecolor\":\"white\",\"minorgridcolor\":\"white\",\"startlinecolor\":\"#2a3f5f\"},\"type\":\"carpet\"}],\"table\":[{\"cells\":{\"fill\":{\"color\":\"#EBF0F8\"},\"line\":{\"color\":\"white\"}},\"header\":{\"fill\":{\"color\":\"#C8D4E3\"},\"line\":{\"color\":\"white\"}},\"type\":\"table\"}],\"barpolar\":[{\"marker\":{\"line\":{\"color\":\"#E5ECF6\",\"width\":0.5},\"pattern\":{\"fillmode\":\"overlay\",\"size\":10,\"solidity\":0.2}},\"type\":\"barpolar\"}],\"pie\":[{\"automargin\":true,\"type\":\"pie\"}]},\"layout\":{\"autotypenumbers\":\"strict\",\"colorway\":[\"#636efa\",\"#EF553B\",\"#00cc96\",\"#ab63fa\",\"#FFA15A\",\"#19d3f3\",\"#FF6692\",\"#B6E880\",\"#FF97FF\",\"#FECB52\"],\"font\":{\"color\":\"#2a3f5f\"},\"hovermode\":\"closest\",\"hoverlabel\":{\"align\":\"left\"},\"paper_bgcolor\":\"white\",\"plot_bgcolor\":\"#E5ECF6\",\"polar\":{\"bgcolor\":\"#E5ECF6\",\"angularaxis\":{\"gridcolor\":\"white\",\"linecolor\":\"white\",\"ticks\":\"\"},\"radialaxis\":{\"gridcolor\":\"white\",\"linecolor\":\"white\",\"ticks\":\"\"}},\"ternary\":{\"bgcolor\":\"#E5ECF6\",\"aaxis\":{\"gridcolor\":\"white\",\"linecolor\":\"white\",\"ticks\":\"\"},\"baxis\":{\"gridcolor\":\"white\",\"linecolor\":\"white\",\"ticks\":\"\"},\"caxis\":{\"gridcolor\":\"white\",\"linecolor\":\"white\",\"ticks\":\"\"}},\"coloraxis\":{\"colorbar\":{\"outlinewidth\":0,\"ticks\":\"\"}},\"colorscale\":{\"sequential\":[[0.0,\"#0d0887\"],[0.1111111111111111,\"#46039f\"],[0.2222222222222222,\"#7201a8\"],[0.3333333333333333,\"#9c179e\"],[0.4444444444444444,\"#bd3786\"],[0.5555555555555556,\"#d8576b\"],[0.6666666666666666,\"#ed7953\"],[0.7777777777777778,\"#fb9f3a\"],[0.8888888888888888,\"#fdca26\"],[1.0,\"#f0f921\"]],\"sequentialminus\":[[0.0,\"#0d0887\"],[0.1111111111111111,\"#46039f\"],[0.2222222222222222,\"#7201a8\"],[0.3333333333333333,\"#9c179e\"],[0.4444444444444444,\"#bd3786\"],[0.5555555555555556,\"#d8576b\"],[0.6666666666666666,\"#ed7953\"],[0.7777777777777778,\"#fb9f3a\"],[0.8888888888888888,\"#fdca26\"],[1.0,\"#f0f921\"]],\"diverging\":[[0,\"#8e0152\"],[0.1,\"#c51b7d\"],[0.2,\"#de77ae\"],[0.3,\"#f1b6da\"],[0.4,\"#fde0ef\"],[0.5,\"#f7f7f7\"],[0.6,\"#e6f5d0\"],[0.7,\"#b8e186\"],[0.8,\"#7fbc41\"],[0.9,\"#4d9221\"],[1,\"#276419\"]]},\"xaxis\":{\"gridcolor\":\"white\",\"linecolor\":\"white\",\"ticks\":\"\",\"title\":{\"standoff\":15},\"zerolinecolor\":\"white\",\"automargin\":true,\"zerolinewidth\":2},\"yaxis\":{\"gridcolor\":\"white\",\"linecolor\":\"white\",\"ticks\":\"\",\"title\":{\"standoff\":15},\"zerolinecolor\":\"white\",\"automargin\":true,\"zerolinewidth\":2},\"scene\":{\"xaxis\":{\"backgroundcolor\":\"#E5ECF6\",\"gridcolor\":\"white\",\"linecolor\":\"white\",\"showbackground\":true,\"ticks\":\"\",\"zerolinecolor\":\"white\",\"gridwidth\":2},\"yaxis\":{\"backgroundcolor\":\"#E5ECF6\",\"gridcolor\":\"white\",\"linecolor\":\"white\",\"showbackground\":true,\"ticks\":\"\",\"zerolinecolor\":\"white\",\"gridwidth\":2},\"zaxis\":{\"backgroundcolor\":\"#E5ECF6\",\"gridcolor\":\"white\",\"linecolor\":\"white\",\"showbackground\":true,\"ticks\":\"\",\"zerolinecolor\":\"white\",\"gridwidth\":2}},\"shapedefaults\":{\"line\":{\"color\":\"#2a3f5f\"}},\"annotationdefaults\":{\"arrowcolor\":\"#2a3f5f\",\"arrowhead\":0,\"arrowwidth\":1},\"geo\":{\"bgcolor\":\"white\",\"landcolor\":\"#E5ECF6\",\"subunitcolor\":\"white\",\"showland\":true,\"showlakes\":true,\"lakecolor\":\"white\"},\"title\":{\"x\":0.05},\"mapbox\":{\"style\":\"light\"}}},\"xaxis\":{\"anchor\":\"y\",\"domain\":[0.0,1.0],\"title\":{\"text\":\"Sample - AMR Gene Family\"}},\"yaxis\":{\"anchor\":\"x\",\"domain\":[0.0,1.0],\"title\":{\"text\":\"Genus\"},\"categoryorder\":\"category descending\"},\"coloraxis\":{\"colorbar\":{\"title\":{\"text\":\"Total Genus Count\"}},\"colorscale\":[[0.0,\"rgb(247,252,245)\"],[0.125,\"rgb(229,245,224)\"],[0.25,\"rgb(199,233,192)\"],[0.375,\"rgb(161,217,155)\"],[0.5,\"rgb(116,196,118)\"],[0.625,\"rgb(65,171,93)\"],[0.75,\"rgb(35,139,69)\"],[0.875,\"rgb(0,109,44)\"],[1.0,\"rgb(0,68,27)\"]]},\"legend\":{\"tracegroupgap\":0,\"itemsizing\":\"constant\"},\"margin\":{\"t\":60},\"title\":{\"text\":\"Bubble Plot of Relative Genera Abundance per Sample and top found AMR:<br> OXA beta-lactamase;OXA-48-like beta-lactamase with 967 reads over all samples\"},\"plot_bgcolor\":\"lightgrey\"},                        {\"responsive\": true}                    ).then(function(){\n",
       "                            \n",
       "var gd = document.getElementById('b4030333-a508-4745-bcae-255426396d07');\n",
       "var x = new MutationObserver(function (mutations, observer) {{\n",
       "        var display = window.getComputedStyle(gd).display;\n",
       "        if (!display || display === 'none') {{\n",
       "            console.log([gd, 'removed!']);\n",
       "            Plotly.purge(gd);\n",
       "            observer.disconnect();\n",
       "        }}\n",
       "}});\n",
       "\n",
       "// Listen for the removal of the full notebook cells\n",
       "var notebookContainer = gd.closest('#notebook-container');\n",
       "if (notebookContainer) {{\n",
       "    x.observe(notebookContainer, {childList: true});\n",
       "}}\n",
       "\n",
       "// Listen for the clearing of the current output cell\n",
       "var outputEl = gd.closest('.output');\n",
       "if (outputEl) {{\n",
       "    x.observe(outputEl, {childList: true});\n",
       "}}\n",
       "\n",
       "                        })                };                });            </script>        </div>"
      ]
     },
     "metadata": {},
     "output_type": "display_data"
    }
   ],
   "source": [
    "import plotly.express as px\n",
    "\n",
    "# 5. Create bubble plot\n",
    "# Selfwritten python script \"generate_genus_distribution_plot.py\"\n",
    "# Input: abundance file\n",
    "# Output: bubble plot per sample\n",
    "\n",
    "display(Markdown(f\"\"\"\n",
    "# Create bubble plot\n",
    "---\n",
    "### 1. Parse abundance file\n",
    "### 2. Groupy by AMR Gene Family and genus (export table)\\n\n",
    "```combined_df.groupby(['AMR Gene Family_abr', 'genus_16S']).size()```\\n\n",
    "### 3. Reduce to ABR with most total hits\n",
    "### 4. Plot sample vs genus with relative genus count as size and total genus count as colour              \n",
    "---\n",
    "\"\"\"))\n",
    "\n",
    "def create_bubble_plots(df, abundance_threshold, output1,output2):\n",
    "    # Iterate over unique AMR Gene Families\n",
    "    # Filter data for the current AMR Gene Family\n",
    "    df = pd.read_csv(df,header=0,sep=',')\n",
    "    total_counts_per_abr = df.groupby('AMR Gene Family')['genus_count'].sum()\n",
    "    top_abr = total_counts_per_abr.idxmax()\n",
    "    top_abr_data = df[df['AMR Gene Family'] == top_abr]\n",
    "    top_abr_data = top_abr_data[top_abr_data['relative_genus_count'] > float(abundance_threshold)]\n",
    "    # Create the bubble plot\n",
    "    fig = px.scatter(\n",
    "        top_abr_data, \n",
    "        x=\"sample\", \n",
    "        y=\"genus\", \n",
    "        size=\"relative_genus_count\",\n",
    "        color=\"total_genus_count\", \n",
    "        hover_name=\"genus\",\n",
    "        hover_data={\n",
    "            \"genus_count\": True,\n",
    "            \"relative_genus_count\": True,\n",
    "            \"total_genus_count\": True,\n",
    "            \"sample\": False\n",
    "        },\n",
    "        size_max=20,\n",
    "        color_continuous_scale=\"Greens\"\n",
    "    )\n",
    "    \n",
    "    # Update layout for titles and axis labels\n",
    "    fig.update_layout(\n",
    "        title=f'Bubble Plot of Relative Genera Abundance per Sample and top found AMR:<br> {top_abr} with {total_counts_per_abr.sum()} reads over all samples',\n",
    "        xaxis_title='Sample - AMR Gene Family',\n",
    "        yaxis_title='Genus',\n",
    "        coloraxis_colorbar=dict(title=\"Total Genus Count\"),\n",
    "        #paper_bgcolor='grey',\n",
    "        plot_bgcolor='lightgrey',\n",
    "        yaxis=dict(categoryorder=\"category descending\")\n",
    "    )\n",
    "    fig.show()\n",
    "\n",
    "if __name__ == \"__main__\":\n",
    "    input_files = \"/local/work/adrian/ERMA/results/abundance/combined_genus_abundance.csv\"\n",
    "    output_html = \"snakemake.output[0]\"\n",
    "    output_csv = \"snakemake.output[1]\"\n",
    "    abundance_threshold = 0.001\n",
    "    create_bubble_plots(input_files, abundance_threshold, output_html,output_csv)"
   ]
  },
  {
   "cell_type": "code",
   "execution_count": null,
   "metadata": {},
   "outputs": [
    {
     "data": {
      "text/markdown": [
       "\n",
       "# Create boxplot\n",
       "---\n",
       "### 1. Parse abundance file\n",
       "### 2. Groupy by AMR Gene Family and genus (export table)\n",
       "\n",
       "```combined_df.groupby(['AMR Gene Family_abr', 'genus_16S']).size()```\n",
       "\n",
       "### 3. Reduce to ABR with most total hits\n",
       "### 4. Plot sample vs genus with relative genus count as size and total genus count as colour              \n",
       "---\n"
      ],
      "text/plain": [
       "<IPython.core.display.Markdown object>"
      ]
     },
     "metadata": {},
     "output_type": "display_data"
    },
    {
     "name": "stderr",
     "output_type": "stream",
     "text": [
      "/local/tmp/ipykernel_943731/213974492.py:43: UserWarning:\n",
      "\n",
      "FixedFormatter should only be used together with FixedLocator\n",
      "\n"
     ]
    },
    {
     "data": {
      "image/png": "[encoded data removed]",
      "text/plain": [
       "<Figure size 1500x800 with 2 Axes>"
      ]
     },
     "metadata": {},
     "output_type": "display_data"
    }
   ],
   "source": [
    "# 6. Create boxplots\n",
    "# Selfwritten python script \"percidt_per_genus.py\"\n",
    "# Input: all filtered_result.csv parts of one sample\n",
    "# Output: boxplot over all samples per percentage identity, number of unique hits and genera\n",
    "\n",
    "import matplotlib.pyplot as plt\n",
    "import seaborn as sns\n",
    "\n",
    "display(Markdown(f\"\"\"\n",
    "# Create boxplot\n",
    "---\n",
    "### 1. Parse filtered results with reduced columns, drop duplicates and merge (see cell before)\n",
    "### 2. Merge split fasta parts in one dataframe\\n\n",
    "### 3. Groupy by AMR Gene Family and genus (export table)\\n\n",
    "```combined_df.groupby(['AMR Gene Family_abr', 'genus_16S']).size()```\\n\n",
    "### 4. Plot count per AMR Gene Family\n",
    "---\n",
    "## Plot abundance\n",
    "\"\"\"))\n",
    "\n",
    "def generate_percentage_idt_per_genus(input_files, output_file):\n",
    "    all_data = []  # List to hold DataFrames from all input files\n",
    "\n",
    "    for input_file in input_files:\n",
    "        df = pd.read_csv(input_file, sep=\",\", usecols=necessary_columns, header=0)\n",
    "        all_data.append(df)\n",
    "        \n",
    "    # Combine all partitions into a single DataFrame\n",
    "    combined_data = pd.concat(all_data)\n",
    "    \n",
    "    # Calculate genus query counts and genus order\n",
    "    genus_query_counts = combined_data.groupby('genus')['query_id'].nunique().reset_index()\n",
    "    genus_query_counts.columns = ['genus', 'unique_query_count']\n",
    "    combined_data = pd.merge(combined_data, genus_query_counts, on='genus')\n",
    "    genus_order = genus_query_counts.sort_values(by='unique_query_count', ascending=False)['genus']\n",
    "    \n",
    "    # Plotting\n",
    "    fig, ax1 = plt.subplots(figsize=(15, 8))\n",
    "    sns.boxplot(x='genus', y='perc_identity', data=combined_data, ax=ax1, order=genus_order,fliersize=0.0)\n",
    "    ax1.set_xlabel(\"Bacterial Genus\")\n",
    "    ax1.set_ylabel(\"Percentage Identity\")\n",
    "    ax1.set_title(\"Boxplot of Percentage Identity and Read Counts for Each Bacterial genus\")\n",
    "    ax1.set_xticklabels(ax1.get_xticklabels(), rotation=90)\n",
    "\n",
    "    # Add a second y-axis for unique query counts\n",
    "    ax2 = ax1.twinx()\n",
    "    sns.barplot(x='genus', y='unique_query_count', data=genus_query_counts, ax=ax2, alpha=0.3, color='blue', order=genus_order)\n",
    "    ax2.set_ylabel(\"Number of Unique Reads (query_id)\", color='blue')\n",
    "    \n",
    "    plt.tight_layout()\n",
    "    plt.show()\n",
    "\n",
    "if __name__ == \"__main__\":\n",
    "    input_files = [\"/local/work/adrian/ERMA/results/test_epic_data/001/filtered_results.csv\",\"/local/work/adrian/ERMA/results/test_epic_data/002/filtered_results.csv\"]\n",
    "    output_file = \"snakemake.output[0]\"\n",
    "    generate_percentage_idt_per_genus(input_files, output_file)\n"
   ]
  },
  {
   "cell_type": "code",
   "execution_count": null,
   "metadata": {},
   "outputs": [],
   "source": []
  }
 ],
 "metadata": {
  "kernelspec": {
   "display_name": "sm",
   "language": "python",
   "name": "python3"
  },
  "language_info": {
   "codemirror_mode": {
    "name": "ipython",
    "version": 3
   },
   "file_extension": ".py",
   "mimetype": "text/x-python",
   "name": "python",
   "nbconvert_exporter": "python",
   "pygments_lexer": "ipython3",
   "version": "3.10.8"
  }
 },
 "nbformat": 4,
 "nbformat_minor": 2
}
